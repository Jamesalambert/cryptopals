{
  "nbformat": 4,
  "nbformat_minor": 0,
  "metadata": {
    "colab": {
      "name": "set 3.ipynb",
      "provenance": [],
      "authorship_tag": "ABX9TyPcvWeqfh9UVCdgDwO+sjOu",
      "include_colab_link": true
    },
    "kernelspec": {
      "name": "python3",
      "display_name": "Python 3"
    },
    "language_info": {
      "name": "python"
    }
  },
  "cells": [
    {
      "cell_type": "markdown",
      "metadata": {
        "id": "view-in-github",
        "colab_type": "text"
      },
      "source": [
        "<a href=\"https://colab.research.google.com/github/Jamesalambert/cryptopals/blob/main/set%203.ipynb\" target=\"_parent\"><img src=\"https://colab.research.google.com/assets/colab-badge.svg\" alt=\"Open In Colab\"/></a>"
      ]
    },
    {
      "cell_type": "markdown",
      "metadata": {
        "id": "A1NmArsNykup"
      },
      "source": [
        "# 1. The CBC padding oracle\n",
        "This is the best-known attack on modern block-cipher cryptography.\n",
        "\n",
        "Combine your padding code and your CBC code to write two functions.\n",
        "\n",
        "The first function should select at random one of the following 10 strings:\n",
        "```\n",
        "MDAwMDAwTm93IHRoYXQgdGhlIHBhcnR5IGlzIGp1bXBpbmc=\n",
        "MDAwMDAxV2l0aCB0aGUgYmFzcyBraWNrZWQgaW4gYW5kIHRoZSBWZWdhJ3MgYXJlIHB1bXBpbic=\n",
        "MDAwMDAyUXVpY2sgdG8gdGhlIHBvaW50LCB0byB0aGUgcG9pbnQsIG5vIGZha2luZw==\n",
        "MDAwMDAzQ29va2luZyBNQydzIGxpa2UgYSBwb3VuZCBvZiBiYWNvbg==\n",
        "MDAwMDA0QnVybmluZyAnZW0sIGlmIHlvdSBhaW4ndCBxdWljayBhbmQgbmltYmxl\n",
        "MDAwMDA1SSBnbyBjcmF6eSB3aGVuIEkgaGVhciBhIGN5bWJhbA==\n",
        "MDAwMDA2QW5kIGEgaGlnaCBoYXQgd2l0aCBhIHNvdXBlZCB1cCB0ZW1wbw==\n",
        "MDAwMDA3SSdtIG9uIGEgcm9sbCwgaXQncyB0aW1lIHRvIGdvIHNvbG8=\n",
        "MDAwMDA4b2xsaW4nIGluIG15IGZpdmUgcG9pbnQgb2g=\n",
        "MDAwMDA5aXRoIG15IHJhZy10b3AgZG93biBzbyBteSBoYWlyIGNhbiBibG93\n",
        "```\n",
        "... generate a random AES key (which it should save for all future encryptions), pad the string out to the 16-byte AES block size and CBC-encrypt it under that key, providing the caller the ciphertext and IV.\n",
        "\n",
        "The second function should consume the ciphertext produced by the first function, decrypt it, check its padding, and return true or false depending on whether the padding is valid.\n",
        "\n",
        "## What you're doing here.\n",
        "This pair of functions approximates AES-CBC encryption as its deployed serverside in web applications; the second function models the server's consumption of an encrypted session token, as if it was a cookie.\n",
        "\n",
        "It turns out that it's possible to decrypt the ciphertexts provided by the first function.\n",
        "\n",
        "The decryption here depends on a side-channel leak by the decryption function. The leak is the error message that the padding is valid or not.\n",
        "\n",
        "You can find 100 web pages on how this attack works, so I won't re-explain it. What I'll say is this:\n",
        "\n",
        "The fundamental insight behind this attack is that the byte 01h is valid padding, and occur in 1/256 trials of \"randomized\" plaintexts produced by decrypting a tampered ciphertext.\n",
        "\n",
        "02h in isolation is not valid padding.\n",
        "\n",
        "02h 02h is valid padding, but is much less likely to occur randomly than 01h.\n",
        "\n",
        "03h 03h 03h is even less likely.\n",
        "\n",
        "So you can assume that if you corrupt a decryption AND it had valid padding, you know what that padding byte is.\n",
        "\n",
        "It is easy to get tripped up on the fact that CBC plaintexts are \"padded\". Padding oracles have nothing to do with the actual padding on a CBC plaintext. It's an attack that targets a specific bit of code that handles decryption. You can mount a padding oracle on any CBC block, whether it's padded or not."
      ]
    },
    {
      "cell_type": "code",
      "metadata": {
        "id": "OWaRHGsXyWfP"
      },
      "source": [
        ""
      ],
      "execution_count": null,
      "outputs": []
    }
  ]
}