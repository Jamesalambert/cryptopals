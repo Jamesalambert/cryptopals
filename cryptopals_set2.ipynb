{
  "nbformat": 4,
  "nbformat_minor": 0,
  "metadata": {
    "colab": {
      "name": "cryptopals set2",
      "provenance": [],
      "authorship_tag": "ABX9TyOjqRj2JkezsJ5EiU9Oag+u"
    },
    "kernelspec": {
      "name": "python3",
      "display_name": "Python 3"
    },
    "language_info": {
      "name": "python"
    }
  },
  "cells": [
    {
      "cell_type": "markdown",
      "metadata": {
        "id": "MSX1YlUvNfSR"
      },
      "source": [
        "# 9. Implement PKCS#7 padding\n",
        "\n",
        "A block cipher transforms a fixed-sized block (usually 8 or 16 bytes) of plaintext into ciphertext. But we almost never want to transform a single block; we encrypt irregularly-sized messages.\n",
        "\n",
        "One way we account for irregularly-sized messages is by padding, creating a plaintext that is an even multiple of the blocksize. The most popular padding scheme is called PKCS#7.\n",
        "\n",
        "So: pad any block to a specific block length, by appending the number of bytes of padding to the end of the block. For instance,\n",
        "\n",
        "\"YELLOW SUBMARINE\"\n",
        "... padded to 20 bytes would be:\n",
        "\n",
        "\"YELLOW SUBMARINE\\x04\\x04\\x04\\x04\""
      ]
    },
    {
      "cell_type": "code",
      "metadata": {
        "cellView": "form",
        "id": "lrIbY016KUed"
      },
      "source": [
        "#@title support funcs and import\n",
        "import random\n",
        "\n",
        "def randomBytes(length):\n",
        "    return bytes([random.randint(0,255) for i in range(length)])\n"
      ],
      "execution_count": 75,
      "outputs": []
    },
    {
      "cell_type": "code",
      "metadata": {
        "colab": {
          "base_uri": "https://localhost:8080/"
        },
        "id": "d6a1Jpv0NJD0",
        "outputId": "45dc97f9-52ff-4587-b216-5718fec9b4d9"
      },
      "source": [
        "test = b\"YELLOW SUBMARINE\"\n",
        "testResult = b\"YELLOW SUBMARINE\\x04\\x04\\x04\\x04\"\n",
        "\n",
        "def pkcs7Padding(data, blockSize):\n",
        "    overhang = len(data) % blockSize\n",
        "    paddingLength = blockSize if overhang == 0 else blockSize - overhang\n",
        "    padding = bytes([paddingLength] * paddingLength)\n",
        "    return data + padding\n",
        "\n",
        "#Improved version in ex15\n",
        "def removepkcs7Padding(data):\n",
        "    lastByte = int(data[-1])\n",
        "    endIndex = -1 * lastByte\n",
        "\n",
        "    if data[endIndex:] == bytes([lastByte] * lastByte):\n",
        "        return data[:endIndex]\n",
        "    else:\n",
        "        return data\n",
        "\n",
        "\n",
        "assert removepkcs7Padding(pkcs7Padding(test, random.randint(1,20))) == test\n",
        "testInput = randomBytes(20)\n",
        "assert removepkcs7Padding(testInput) == testInput\n",
        "\n",
        "paddedData = pkcs7Padding(test, 20)\n",
        "recoveredData = removepkcs7Padding(paddedData)\n",
        "assert paddedData == testResult\n",
        "assert recoveredData == test\n",
        "\n",
        "print(f\"test: {test}\\npadded: {paddedData}\\nrecovered: {recoveredData}\")"
      ],
      "execution_count": 76,
      "outputs": [
        {
          "output_type": "stream",
          "name": "stdout",
          "text": [
            "test: b'YELLOW SUBMARINE'\n",
            "padded: b'YELLOW SUBMARINE\\x04\\x04\\x04\\x04'\n",
            "recovered: b'YELLOW SUBMARINE'\n"
          ]
        }
      ]
    },
    {
      "cell_type": "markdown",
      "metadata": {
        "id": "RFGzqGbHSErN"
      },
      "source": [
        "# 10. Implement CBC mode\n",
        "CBC mode is a block cipher mode that allows us to encrypt irregularly-sized messages, despite the fact that a block cipher natively only transforms individual blocks.\n",
        "\n",
        "In CBC mode, each ciphertext block is added to the next plaintext block before the next call to the cipher core.\n",
        "\n",
        "The first plaintext block, which has no associated previous ciphertext block, is added to a \"fake 0th ciphertext block\" called the initialization vector, or IV.\n",
        "\n",
        "Implement CBC mode by hand by taking the ECB function you wrote earlier, making it encrypt instead of decrypt (verify this by decrypting whatever you encrypt to test), and using your XOR function from the previous exercise to combine them.\n",
        "\n",
        "The data is intelligible (somewhat) when CBC decrypted against \"YELLOW SUBMARINE\" with an IV of all ASCII 0 (\\x00\\x00\\x00 &c)"
      ]
    },
    {
      "cell_type": "code",
      "metadata": {
        "id": "x255oE-pPsAg",
        "cellView": "form"
      },
      "source": [
        "#@title data\n",
        "ex10data = \"\"\"CRIwqt4+szDbqkNY+I0qbNXPg1XLaCM5etQ5Bt9DRFV/xIN2k8Go7jtArLIy\n",
        "P605b071DL8C+FPYSHOXPkMMMFPAKm+Nsu0nCBMQVt9mlluHbVE/yl6VaBCj\n",
        "NuOGvHZ9WYvt51uR/lklZZ0ObqD5UaC1rupZwCEK4pIWf6JQ4pTyPjyiPtKX\n",
        "g54FNQvbVIHeotUG2kHEvHGS/w2Tt4E42xEwVfi29J3yp0O/TcL7aoRZIcJj\n",
        "MV4qxY/uvZLGsjo1/IyhtQp3vY0nSzJjGgaLYXpvRn8TaAcEtH3cqZenBoox\n",
        "BH3MxNjD/TVf3NastEWGnqeGp+0D9bQx/3L0+xTf+k2VjBDrV9HPXNELRgPN\n",
        "0MlNo79p2gEwWjfTbx2KbF6htgsbGgCMZ6/iCshy3R8/abxkl8eK/VfCGfA6\n",
        "bQQkqs91bgsT0RgxXSWzjjvh4eXTSl8xYoMDCGa2opN/b6Q2MdfvW7rEvp5m\n",
        "wJOfQFDtkv4M5cFEO3sjmU9MReRnCpvalG3ark0XC589rm+42jC4/oFWUdwv\n",
        "kzGkSeoabAJdEJCifhvtGosYgvQDARUoNTQAO1+CbnwdKnA/WbQ59S9MU61Q\n",
        "KcYSuk+jK5nAMDot2dPmvxZIeqbB6ax1IH0cdVx7qB/Z2FlJ/U927xGmC/RU\n",
        "FwoXQDRqL05L22wEiF85HKx2XRVB0F7keglwX/kl4gga5rk3YrZ7VbInPpxU\n",
        "zgEaE4+BDoEqbv/rYMuaeOuBIkVchmzXwlpPORwbN0/RUL89xwOJKCQQZM8B\n",
        "1YsYOqeL3HGxKfpFo7kmArXSRKRHToXuBgDq07KS/jxaS1a1Paz/tvYHjLxw\n",
        "Y0Ot3kS+cnBeq/FGSNL/fFV3J2a8eVvydsKat3XZS3WKcNNjY2ZEY1rHgcGL\n",
        "5bhVHs67bxb/IGQleyY+EwLuv5eUwS3wljJkGcWeFhlqxNXQ6NDTzRNlBS0W\n",
        "4CkNiDBMegCcOlPKC2ZLGw2ejgr2utoNfmRtehr+3LAhLMVjLyPSRQ/zDhHj\n",
        "Xu+Kmt4elmTmqLgAUskiOiLYpr0zI7Pb4xsEkcxRFX9rKy5WV7NhJ1lR7BKy\n",
        "alO94jWIL4kJmh4GoUEhO+vDCNtW49PEgQkundV8vmzxKarUHZ0xr4feL1ZJ\n",
        "THinyUs/KUAJAZSAQ1Zx/S4dNj1HuchZzDDm/nE/Y3DeDhhNUwpggmesLDxF\n",
        "tqJJ/BRn8cgwM6/SMFDWUnhkX/t8qJrHphcxBjAmIdIWxDi2d78LA6xhEPUw\n",
        "NdPPhUrJcu5hvhDVXcceZLa+rJEmn4aftHm6/Q06WH7dq4RaaJePP6WHvQDp\n",
        "zZJOIMSEisApfh3QvHqdbiybZdyErz+yXjPXlKWG90kOz6fx+GbvGcHqibb/\n",
        "HUfcDosYA7lY4xY17llY5sibvWM91ohFN5jyDlHtngi7nWQgFcDNfSh77TDT\n",
        "zltUp9NnSJSgNOOwoSSNWadm6+AgbXfQNX6oJFaU4LQiAsRNa7vX/9jRfi65\n",
        "5uvujM4ob199CZVxEls10UI9pIemAQQ8z/3rgQ3eyL+fViyztUPg/2IvxOHv\n",
        "eexE4owH4Fo/bRlhZK0mYIamVxsRADBuBlGqx1b0OuF4AoZZgUM4d8v3iyUu\n",
        "feh0QQqOkvJK/svkYHn3mf4JlUb2MTgtRQNYdZKDRgF3Q0IJaZuMyPWFsSNT\n",
        "YauWjMVqnj0AEDHh6QUMF8bXLM0jGwANP+r4yPdKJNsoZMpuVoUBJYWnDTV+\n",
        "8Ive6ZgBi4EEbPbMLXuqDMpDi4XcLE0UUPJ8VnmO5fAHMQkA64esY2QqldZ+\n",
        "5gEhjigueZjEf0917/X53ZYWJIRiICnmYPoM0GSYJRE0k3ycdlzZzljIGk+P\n",
        "Q7WgeJhthisEBDbgTuppqKNXLbNZZG/VaTdbpW1ylBv0eqamFOmyrTyh1APS\n",
        "Gn37comTI3fmN6/wmVnmV4/FblvVwLuDvGgSCGPOF8i6FVfKvdESs+yr+1AE\n",
        "DJXfp6h0eNEUsM3gXaJCknGhnt3awtg1fSUiwpYfDKZxwpPOYUuer8Wi+VCD\n",
        "sWsUpkMxhhRqOBKaQaBDQG+kVJu6aPFlnSPQQTi1hxLwi0l0Rr38xkr+lHU7\n",
        "ix8LeJVgNsQdtxbovE3i7z3ZcTFY7uJkI9j9E0muDN9x8y/YN25rm6zULYaO\n",
        "jUoP/7FQZsSgxPIUvUiXkEq+FU2h0FqAC7H18cr3Za5x5dpw5nwawMArKoqG\n",
        "9qlhqc34lXV0ZYwULu58EImFIS8+kITFuu7jOeSXbBgbhx8zGPqavRXeiu0t\n",
        "bJd0gWs+YgMLzXtQIbQuVZENMxJSZB4aw5lPA4vr1fFBsiU4unjOEo/XAgwr\n",
        "Tc0w0UndJFPvXRr3Ir5rFoIEOdRo+6os5DSlk82SBnUjwbje7BWsxWMkVhYO\n",
        "6bOGUm4VxcKWXu2jU66TxQVIHy7WHktMjioVlWJdZC5Hq0g1LHg1nWSmjPY2\n",
        "c/odZqN+dBBC51dCt4oi5UKmKtU5gjZsRSTcTlfhGUd6DY4Tp3CZhHjQRH4l\n",
        "Zhg0bF/ooPTxIjLKK4r0+yR0lyRjqIYEY27HJMhZDXFDxBQQ1UkUIhAvXacD\n",
        "WB2pb3YyeSQjt8j/WSbQY6TzdLq8SreZiuMWcXmQk4EH3xu8bPsHlcvRI+B3\n",
        "gxKeLnwrVJqVLkf3m2cSGnWQhSLGbnAtgQPA6z7u3gGbBmRtP0KnAHWSK7q6\n",
        "onMoYTH+b5iFjCiVRqzUBVzRRKjAL4rcL2nYeV6Ec3PlnboRzJwZIjD6i7WC\n",
        "dcxERr4WVOjOBX4fhhKUiVvlmlcu8CkIiSnZENHZCpI41ypoVqVarHpqh2aP\n",
        "/PS624yfxx2N3C2ci7VIuH3DcSYcaTXEKhz/PRLJXkRgVlWxn7QuaJJzDvpB\n",
        "oFndoRu1+XCsup/AtkLidsSXMFTo/2Ka739+BgYDuRt1mE9EyuYyCMoxO/27\n",
        "sn1QWMMd1jtcv8Ze42MaM4y/PhAMp2RfCoVZALUS2K7XrOLl3s9LDFOdSrfD\n",
        "8GeMciBbfLGoXDvv5Oqq0S/OvjdID94UMcadpnSNsist/kcJJV0wtRGfALG2\n",
        "+UKYzEj/2TOiN75UlRvA5XgwfqajOvmIIXybbdhxpjnSB04X3iY82TNSYTmL\n",
        "LAzZlX2vmV9IKRRimZ2SpzNpvLKeB8lDhIyGzGXdiynQjFMNcVjZlmWHsH7e\n",
        "ItAKWmCwNkeuAfFwir4TTGrgG1pMje7XA7kMT821cYbLSiPAwtlC0wm77F0T\n",
        "a7jdMrLjMO29+1958CEzWPdzdfqKzlfBzsba0+dS6mcW/YTHaB4bDyXechZB\n",
        "k/35fUg+4geMj6PBTqLNNWXBX93dFC7fNyda+Lt9cVJnlhIi/61fr0KzxOeX\n",
        "NKgePKOC3Rz+fWw7Bm58FlYTgRgN63yFWSKl4sMfzihaQq0R8NMQIOjzuMl3\n",
        "Ie5ozSa+y9g4z52RRc69l4n4qzf0aErV/BEe7FrzRyWh4PkDj5wy5ECaRbfO\n",
        "7rbs1EHlshFvXfGlLdEfP2kKpT9U32NKZ4h+Gr9ymqZ6isb1KfNov1rw0KSq\n",
        "YNP+EyWCyLRJ3EcOYdvVwVb+vIiyzxnRdugB3vNzaNljHG5ypEJQaTLphIQn\n",
        "lP02xcBpMNJN69bijVtnASN/TLV5ocYvtnWPTBKu3OyOkcflMaHCEUgHPW0f\n",
        "mGfld4i9Tu35zrKvTDzfxkJX7+KJ72d/V+ksNKWvwn/wvMOZsa2EEOfdCidm\n",
        "oql027IS5XvSHynQtvFmw0HTk9UXt8HdVNTqcdy/jUFmXpXNP2Wvn8PrU2Dh\n",
        "kkIzWhQ5Rxd/vnM2QQr9Cxa2J9GXEV3kGDiZV90+PCDSVGY4VgF8y7GedI1h\n",
        "\"\"\""
      ],
      "execution_count": 77,
      "outputs": []
    },
    {
      "cell_type": "code",
      "metadata": {
        "id": "71koxjYpST22",
        "cellView": "form"
      },
      "source": [
        "#@title installing cryptography\n",
        "!pip3 install cryptography --quiet"
      ],
      "execution_count": 78,
      "outputs": []
    },
    {
      "cell_type": "code",
      "metadata": {
        "id": "ibDZoBC-Sdeo"
      },
      "source": [
        "from cryptography.hazmat.primitives.ciphers import Cipher, algorithms, modes"
      ],
      "execution_count": 79,
      "outputs": []
    },
    {
      "cell_type": "code",
      "metadata": {
        "id": "ziBUtyeDSeVZ",
        "colab": {
          "base_uri": "https://localhost:8080/"
        },
        "outputId": "f9adfa15-0ef6-4aab-864a-f0ca3759a185"
      },
      "source": [
        "testString = b\"hbdft3fsbnhlngbe\"\n",
        "testKey = b\"yellow submarine\"\n",
        "\n",
        "def encryptAES_ECB(data, key):\n",
        "    # paddedData = pkcs7Padding(data, len(key))\n",
        "\n",
        "    AESCipher = Cipher(algorithms.AES(key), modes.ECB())\n",
        "    encryptor = AESCipher.encryptor()\n",
        "\n",
        "    ciphertextBytes = encryptor.update(data) + encryptor.finalize()\n",
        "    return ciphertextBytes\n",
        "\n",
        "def decryptAES_ECB(data, key):\n",
        "\n",
        "    # paddedData = pkcs7Padding(data, len(key))\n",
        "\n",
        "    AESCipher = Cipher(algorithms.AES(key), modes.ECB())\n",
        "    decryptor = AESCipher.decryptor()\n",
        "\n",
        "    plaintextBytes = decryptor.update(data) + decryptor.finalize()\n",
        "    return plaintextBytes\n",
        "\n",
        "paddedPT = pkcs7Padding(testString, len(testKey))\n",
        "ct = encryptAES_ECB(paddedPT, testKey)\n",
        "recoveredPlaintext = decryptAES_ECB(ct, testKey)\n",
        "\n",
        "assert removepkcs7Padding(recoveredPlaintext) == testString\n",
        "print(f\"in: {testString}\\nct: {ct}\\npt: {recoveredPlaintext}\")"
      ],
      "execution_count": 80,
      "outputs": [
        {
          "output_type": "stream",
          "name": "stdout",
          "text": [
            "in: b'hbdft3fsbnhlngbe'\n",
            "ct: b'\\xfag\\xf9 8\\x1d\\xfa\\xa7\\xdbE\\xfa\\xdf}\\xfb\\x81e\\xd9\\x94\\xbe7;Q\\x88\\xf23|\\xc3T\\xbb\\x12\\xd8)'\n",
            "pt: b'hbdft3fsbnhlngbe\\x10\\x10\\x10\\x10\\x10\\x10\\x10\\x10\\x10\\x10\\x10\\x10\\x10\\x10\\x10\\x10'\n"
          ]
        }
      ]
    },
    {
      "cell_type": "code",
      "metadata": {
        "id": "NTq5mqhcVmm_"
      },
      "source": [
        "#@title helper functions\n",
        "\n",
        "def xorBytes(in1, in2):\n",
        "  xor = bytes([x ^ y for (x,y) in zip(in1, in2)])\n",
        "  return xor\n",
        "\n",
        "def reshape(data, keySize):\n",
        "\n",
        "  dataSize = len(data)\n",
        "\n",
        "  out = []\n",
        "  data = pkcs7Padding(data, keySize)\n",
        "\n",
        "  startIndex = 0\n",
        "  endIndex = keySize\n",
        "\n",
        "  for i in range(0, dataSize, keySize):\n",
        "    out += [data[startIndex : endIndex]]\n",
        "    startIndex += keySize\n",
        "    endIndex += keySize\n",
        "  return out\n",
        "\n",
        "def flatten(byteArray):\n",
        "    flatData = b''\n",
        "    for byte in byteArray:\n",
        "        flatData += byte\n",
        "    return flatData\n",
        "\n",
        "def binary(data_bytes):\n",
        "    return [bin(byte)[2:] for byte in data_bytes]\n",
        "\n",
        "def integers(data_bytes):\n",
        "    return [int(byte) for byte in data_bytes]\n"
      ],
      "execution_count": 81,
      "outputs": []
    },
    {
      "cell_type": "code",
      "metadata": {
        "id": "p0i6TTgAkZR9",
        "cellView": "form"
      },
      "source": [
        "#@title data\n",
        "ex10data = \"\"\"CRIwqt4+szDbqkNY+I0qbNXPg1XLaCM5etQ5Bt9DRFV/xIN2k8Go7jtArLIy\n",
        "P605b071DL8C+FPYSHOXPkMMMFPAKm+Nsu0nCBMQVt9mlluHbVE/yl6VaBCj\n",
        "NuOGvHZ9WYvt51uR/lklZZ0ObqD5UaC1rupZwCEK4pIWf6JQ4pTyPjyiPtKX\n",
        "g54FNQvbVIHeotUG2kHEvHGS/w2Tt4E42xEwVfi29J3yp0O/TcL7aoRZIcJj\n",
        "MV4qxY/uvZLGsjo1/IyhtQp3vY0nSzJjGgaLYXpvRn8TaAcEtH3cqZenBoox\n",
        "BH3MxNjD/TVf3NastEWGnqeGp+0D9bQx/3L0+xTf+k2VjBDrV9HPXNELRgPN\n",
        "0MlNo79p2gEwWjfTbx2KbF6htgsbGgCMZ6/iCshy3R8/abxkl8eK/VfCGfA6\n",
        "bQQkqs91bgsT0RgxXSWzjjvh4eXTSl8xYoMDCGa2opN/b6Q2MdfvW7rEvp5m\n",
        "wJOfQFDtkv4M5cFEO3sjmU9MReRnCpvalG3ark0XC589rm+42jC4/oFWUdwv\n",
        "kzGkSeoabAJdEJCifhvtGosYgvQDARUoNTQAO1+CbnwdKnA/WbQ59S9MU61Q\n",
        "KcYSuk+jK5nAMDot2dPmvxZIeqbB6ax1IH0cdVx7qB/Z2FlJ/U927xGmC/RU\n",
        "FwoXQDRqL05L22wEiF85HKx2XRVB0F7keglwX/kl4gga5rk3YrZ7VbInPpxU\n",
        "zgEaE4+BDoEqbv/rYMuaeOuBIkVchmzXwlpPORwbN0/RUL89xwOJKCQQZM8B\n",
        "1YsYOqeL3HGxKfpFo7kmArXSRKRHToXuBgDq07KS/jxaS1a1Paz/tvYHjLxw\n",
        "Y0Ot3kS+cnBeq/FGSNL/fFV3J2a8eVvydsKat3XZS3WKcNNjY2ZEY1rHgcGL\n",
        "5bhVHs67bxb/IGQleyY+EwLuv5eUwS3wljJkGcWeFhlqxNXQ6NDTzRNlBS0W\n",
        "4CkNiDBMegCcOlPKC2ZLGw2ejgr2utoNfmRtehr+3LAhLMVjLyPSRQ/zDhHj\n",
        "Xu+Kmt4elmTmqLgAUskiOiLYpr0zI7Pb4xsEkcxRFX9rKy5WV7NhJ1lR7BKy\n",
        "alO94jWIL4kJmh4GoUEhO+vDCNtW49PEgQkundV8vmzxKarUHZ0xr4feL1ZJ\n",
        "THinyUs/KUAJAZSAQ1Zx/S4dNj1HuchZzDDm/nE/Y3DeDhhNUwpggmesLDxF\n",
        "tqJJ/BRn8cgwM6/SMFDWUnhkX/t8qJrHphcxBjAmIdIWxDi2d78LA6xhEPUw\n",
        "NdPPhUrJcu5hvhDVXcceZLa+rJEmn4aftHm6/Q06WH7dq4RaaJePP6WHvQDp\n",
        "zZJOIMSEisApfh3QvHqdbiybZdyErz+yXjPXlKWG90kOz6fx+GbvGcHqibb/\n",
        "HUfcDosYA7lY4xY17llY5sibvWM91ohFN5jyDlHtngi7nWQgFcDNfSh77TDT\n",
        "zltUp9NnSJSgNOOwoSSNWadm6+AgbXfQNX6oJFaU4LQiAsRNa7vX/9jRfi65\n",
        "5uvujM4ob199CZVxEls10UI9pIemAQQ8z/3rgQ3eyL+fViyztUPg/2IvxOHv\n",
        "eexE4owH4Fo/bRlhZK0mYIamVxsRADBuBlGqx1b0OuF4AoZZgUM4d8v3iyUu\n",
        "feh0QQqOkvJK/svkYHn3mf4JlUb2MTgtRQNYdZKDRgF3Q0IJaZuMyPWFsSNT\n",
        "YauWjMVqnj0AEDHh6QUMF8bXLM0jGwANP+r4yPdKJNsoZMpuVoUBJYWnDTV+\n",
        "8Ive6ZgBi4EEbPbMLXuqDMpDi4XcLE0UUPJ8VnmO5fAHMQkA64esY2QqldZ+\n",
        "5gEhjigueZjEf0917/X53ZYWJIRiICnmYPoM0GSYJRE0k3ycdlzZzljIGk+P\n",
        "Q7WgeJhthisEBDbgTuppqKNXLbNZZG/VaTdbpW1ylBv0eqamFOmyrTyh1APS\n",
        "Gn37comTI3fmN6/wmVnmV4/FblvVwLuDvGgSCGPOF8i6FVfKvdESs+yr+1AE\n",
        "DJXfp6h0eNEUsM3gXaJCknGhnt3awtg1fSUiwpYfDKZxwpPOYUuer8Wi+VCD\n",
        "sWsUpkMxhhRqOBKaQaBDQG+kVJu6aPFlnSPQQTi1hxLwi0l0Rr38xkr+lHU7\n",
        "ix8LeJVgNsQdtxbovE3i7z3ZcTFY7uJkI9j9E0muDN9x8y/YN25rm6zULYaO\n",
        "jUoP/7FQZsSgxPIUvUiXkEq+FU2h0FqAC7H18cr3Za5x5dpw5nwawMArKoqG\n",
        "9qlhqc34lXV0ZYwULu58EImFIS8+kITFuu7jOeSXbBgbhx8zGPqavRXeiu0t\n",
        "bJd0gWs+YgMLzXtQIbQuVZENMxJSZB4aw5lPA4vr1fFBsiU4unjOEo/XAgwr\n",
        "Tc0w0UndJFPvXRr3Ir5rFoIEOdRo+6os5DSlk82SBnUjwbje7BWsxWMkVhYO\n",
        "6bOGUm4VxcKWXu2jU66TxQVIHy7WHktMjioVlWJdZC5Hq0g1LHg1nWSmjPY2\n",
        "c/odZqN+dBBC51dCt4oi5UKmKtU5gjZsRSTcTlfhGUd6DY4Tp3CZhHjQRH4l\n",
        "Zhg0bF/ooPTxIjLKK4r0+yR0lyRjqIYEY27HJMhZDXFDxBQQ1UkUIhAvXacD\n",
        "WB2pb3YyeSQjt8j/WSbQY6TzdLq8SreZiuMWcXmQk4EH3xu8bPsHlcvRI+B3\n",
        "gxKeLnwrVJqVLkf3m2cSGnWQhSLGbnAtgQPA6z7u3gGbBmRtP0KnAHWSK7q6\n",
        "onMoYTH+b5iFjCiVRqzUBVzRRKjAL4rcL2nYeV6Ec3PlnboRzJwZIjD6i7WC\n",
        "dcxERr4WVOjOBX4fhhKUiVvlmlcu8CkIiSnZENHZCpI41ypoVqVarHpqh2aP\n",
        "/PS624yfxx2N3C2ci7VIuH3DcSYcaTXEKhz/PRLJXkRgVlWxn7QuaJJzDvpB\n",
        "oFndoRu1+XCsup/AtkLidsSXMFTo/2Ka739+BgYDuRt1mE9EyuYyCMoxO/27\n",
        "sn1QWMMd1jtcv8Ze42MaM4y/PhAMp2RfCoVZALUS2K7XrOLl3s9LDFOdSrfD\n",
        "8GeMciBbfLGoXDvv5Oqq0S/OvjdID94UMcadpnSNsist/kcJJV0wtRGfALG2\n",
        "+UKYzEj/2TOiN75UlRvA5XgwfqajOvmIIXybbdhxpjnSB04X3iY82TNSYTmL\n",
        "LAzZlX2vmV9IKRRimZ2SpzNpvLKeB8lDhIyGzGXdiynQjFMNcVjZlmWHsH7e\n",
        "ItAKWmCwNkeuAfFwir4TTGrgG1pMje7XA7kMT821cYbLSiPAwtlC0wm77F0T\n",
        "a7jdMrLjMO29+1958CEzWPdzdfqKzlfBzsba0+dS6mcW/YTHaB4bDyXechZB\n",
        "k/35fUg+4geMj6PBTqLNNWXBX93dFC7fNyda+Lt9cVJnlhIi/61fr0KzxOeX\n",
        "NKgePKOC3Rz+fWw7Bm58FlYTgRgN63yFWSKl4sMfzihaQq0R8NMQIOjzuMl3\n",
        "Ie5ozSa+y9g4z52RRc69l4n4qzf0aErV/BEe7FrzRyWh4PkDj5wy5ECaRbfO\n",
        "7rbs1EHlshFvXfGlLdEfP2kKpT9U32NKZ4h+Gr9ymqZ6isb1KfNov1rw0KSq\n",
        "YNP+EyWCyLRJ3EcOYdvVwVb+vIiyzxnRdugB3vNzaNljHG5ypEJQaTLphIQn\n",
        "lP02xcBpMNJN69bijVtnASN/TLV5ocYvtnWPTBKu3OyOkcflMaHCEUgHPW0f\n",
        "mGfld4i9Tu35zrKvTDzfxkJX7+KJ72d/V+ksNKWvwn/wvMOZsa2EEOfdCidm\n",
        "oql027IS5XvSHynQtvFmw0HTk9UXt8HdVNTqcdy/jUFmXpXNP2Wvn8PrU2Dh\n",
        "kkIzWhQ5Rxd/vnM2QQr9Cxa2J9GXEV3kGDiZV90+PCDSVGY4VgF8y7GedI1h\n",
        "\"\"\""
      ],
      "execution_count": 82,
      "outputs": []
    },
    {
      "cell_type": "code",
      "metadata": {
        "id": "qulsuLCTTKFO",
        "colab": {
          "base_uri": "https://localhost:8080/"
        },
        "outputId": "1921981b-f43d-44cd-a96d-60998a1598b7"
      },
      "source": [
        "import base64\n",
        "data = base64.b64decode(ex10data)\n",
        "testString = b\"9AuhqAjjiKLU&>\\rY5LtmCn`\\rb\\x0bU ga&,jg\\r\\x0bJv|6h1%7Q'w\\x0c0gLRe\\x0c^jzO.6UhPp$|fij6D\\rk\\x0c(rvH\\x0c'pe3VPnQn[\\nyJz\\\\3-nYJFJ(A[CxGt2~Fq\\\\ V\\n&=#>[hTt9EM>#O!,mX*jF0D%r{PL$6yB:}PZ+]4#hN3}\"\n",
        "testKey = b\"YELLOW SUBMARINE\"\n",
        "testIV = b\"0000000000000000\"\n",
        "\n",
        "def encryptAES_CBC(data, key, iv):\n",
        "    acc = iv\n",
        "    shapedData = reshape(data, len(key))\n",
        "    shapedAcc = reshape(acc, len(key))\n",
        "    # print(f\"Encrypting blocks = {len(shapedData)}\")\n",
        "    for block in shapedData:\n",
        "        newBlock = xorBytes(block, shapedAcc[-1])\n",
        "        # print(f\"new_block ({len(newBlock)}): {newBlock}\")\n",
        "        newCTBlock = encryptAES_ECB(newBlock, key)\n",
        "        # print(f\"new_ct ({len(newCTBlock)}): {newCTBlock}\")\n",
        "        shapedAcc.append(newCTBlock)\n",
        "    return flatten(shapedAcc)\n",
        "\n",
        "\n",
        "def decryptAES_CBC(data, key):\n",
        "    shapedCt = reshape(data, len(key))\n",
        "    shapedPt = []\n",
        "    for blockIndex in range(len(shapedCt) - 1):\n",
        "        decryptedBlock = decryptAES_ECB(shapedCt[blockIndex + 1], key)\n",
        "        newPtBlock = xorBytes(decryptedBlock, shapedCt[blockIndex] )\n",
        "        shapedPt.append(newPtBlock)\n",
        "    return flatten(shapedPt)\n",
        "\n",
        "#testing\n",
        "ciphertext = encryptAES_CBC(testString, testKey, testIV)\n",
        "plaintext = decryptAES_CBC(ciphertext,testKey)\n",
        "assert plaintext == testString\n",
        "\n",
        "#decoding\n",
        "recoveredPlaintext = decryptAES_CBC(data, testKey)\n",
        "\n",
        "print(recoveredPlaintext.decode())"
      ],
      "execution_count": 83,
      "outputs": [
        {
          "output_type": "stream",
          "name": "stdout",
          "text": [
            " ringin' the bell \n",
            "A rockin' on the mike while the fly girls yell \n",
            "In ecstasy in the back of me \n",
            "Well that's my DJ Deshay cuttin' all them Z's \n",
            "Hittin' hard and the girlies goin' crazy \n",
            "Vanilla's on the mike, man I'm not lazy. \n",
            "\n",
            "I'm lettin' my drug kick in \n",
            "It controls my mouth and I begin \n",
            "To just let it flow, let my concepts go \n",
            "My posse's to the side yellin', Go Vanilla Go! \n",
            "\n",
            "Smooth 'cause that's the way I will be \n",
            "And if you don't give a damn, then \n",
            "Why you starin' at me \n",
            "So get off 'cause I control the stage \n",
            "There's no dissin' allowed \n",
            "I'm in my own phase \n",
            "The girlies sa y they love me and that is ok \n",
            "And I can dance better than any kid n' play \n",
            "\n",
            "Stage 2 -- Yea the one ya' wanna listen to \n",
            "It's off my head so let the beat play through \n",
            "So I can funk it up and make it sound good \n",
            "1-2-3 Yo -- Knock on some wood \n",
            "For good luck, I like my rhymes atrocious \n",
            "Supercalafragilisticexpialidocious \n",
            "I'm an effect and that you can bet \n",
            "I can take a fly girl and make her wet. \n",
            "\n",
            "I'm like Samson -- Samson to Delilah \n",
            "There's no denyin', You can try to hang \n",
            "But you'll keep tryin' to get my style \n",
            "Over and over, practice makes perfect \n",
            "But not if you're a loafer. \n",
            "\n",
            "You'll get nowhere, no place, no time, no girls \n",
            "Soon -- Oh my God, homebody, you probably eat \n",
            "Spaghetti with a spoon! Come on and say it! \n",
            "\n",
            "VIP. Vanilla Ice yep, yep, I'm comin' hard like a rhino \n",
            "Intoxicating so you stagger like a wino \n",
            "So punks stop trying and girl stop cryin' \n",
            "Vanilla Ice is sellin' and you people are buyin' \n",
            "'Cause why the freaks are jockin' like Crazy Glue \n",
            "Movin' and groovin' trying to sing along \n",
            "All through the ghetto groovin' this here song \n",
            "Now you're amazed by the VIP posse. \n",
            "\n",
            "Steppin' so hard like a German Nazi \n",
            "Startled by the bases hittin' ground \n",
            "There's no trippin' on mine, I'm just gettin' down \n",
            "Sparkamatic, I'm hangin' tight like a fanatic \n",
            "You trapped me once and I thought that \n",
            "You might have it \n",
            "So step down and lend me your ear \n",
            "'89 in my time! You, '90 is my year. \n",
            "\n",
            "You're weakenin' fast, YO! and I can tell it \n",
            "Your body's gettin' hot, so, so I can smell it \n",
            "So don't be mad and don't be sad \n",
            "'Cause the lyrics belong to ICE, You can call me Dad \n",
            "You're pitchin' a fit, so step back and endure \n",
            "Let the witch doctor, Ice, do the dance to cure \n",
            "So come up close and don't be square \n",
            "You wanna battle me -- Anytime, anywhere \n",
            "\n",
            "You thought that I was weak, Boy, you're dead wrong \n",
            "So come on, everybody and sing this song \n",
            "\n",
            "Say -- Play that funky music Say, go white boy, go white boy go \n",
            "play that funky music Go white boy, go white boy, go \n",
            "Lay down and boogie and play that funky music till you die. \n",
            "\n",
            "Play that funky music Come on, Come on, let me hear \n",
            "Play that funky music white boy you say it, say it \n",
            "Play that funky music A little louder now \n",
            "Play that funky music, white boy Come on, Come on, Come on \n",
            "Play that funky music \n",
            "\u0004\u0004\u0004\u0004\n"
          ]
        }
      ]
    },
    {
      "cell_type": "markdown",
      "metadata": {
        "id": "FMRy7pMHjL4u"
      },
      "source": [
        "# 11. An ECB/CBC detection oracle\n",
        "Now that you have ECB and CBC working:\n",
        "\n",
        "Write a function to generate a random AES key; that's just 16 random bytes.\n",
        "\n",
        "Write a function that encrypts data under an unknown key --- that is, a function that generates a random key and encrypts under it.\n",
        "\n",
        "The function should look like:\n",
        "\n",
        "encryption_oracle(your-input)\n",
        "=> [MEANINGLESS JIBBER JABBER]\n",
        "Under the hood, have the function append 5-10 bytes (count chosen randomly) before the plaintext and 5-10 bytes after the plaintext.\n",
        "\n",
        "Now, have the function choose to encrypt under ECB 1/2 the time, and under CBC the other half (just use random IVs each time for CBC). Use rand(2) to decide which to use.\n",
        "\n",
        "Detect the block cipher mode the function is using each time. You should end up with a piece of code that, pointed at a block box that might be encrypting ECB or CBC, tells you which one is happening."
      ]
    },
    {
      "cell_type": "code",
      "metadata": {
        "id": "50O-60tkzV5S"
      },
      "source": [
        "#@title support fuctions\n",
        "def hammingDist(bytes1, bytes2):\n",
        "  result = 0\n",
        "  for bit1, bit2 in zip(bytes1, bytes2):\n",
        "    result += bin(bit1 ^ bit2).count('1')\n",
        "  return result\n",
        "\n",
        "b1 = b\"this is a test\"\n",
        "b2 = b\"wokka wokka!!!\"\n",
        "assert hammingDist(b1,b2) == 37\n",
        "\n",
        "def normHammingDistance(bytes1, bytes2):\n",
        "  length1 = len(bytes1)\n",
        "  length2  = len(bytes2)\n",
        "  assert length1 == length2, f\"bytes1 len {length1}, bytes2 len {length2}\"\n",
        "  return hammingDist(bytes1, bytes2) / length1\n",
        "\n",
        "def guessKeySize(data):\n",
        "    maxKeySize = min(len(data) // 4, 50)\n",
        "\n",
        "    keyScores = []\n",
        "\n",
        "    for keySize in range(1, maxKeySize):\n",
        "        maxFrames = len(data) // keySize\n",
        "\n",
        "        frames = [data[i*keySize : (i+1)*keySize] for i in range(maxFrames)]\n",
        "        pairs = list(zip(frames[:-1], frames[1:]))\n",
        "\n",
        "        normDists = list(map(lambda t : normHammingDistance(t[0],t[1]), pairs))\n",
        "        score = sum(normDists) / len(normDists)\n",
        "\n",
        "        keyScores.append((score, keySize))\n",
        "    #we want a low Hamming distance\n",
        "    keyScores = sorted(keyScores)\n",
        "    return keyScores"
      ],
      "execution_count": 84,
      "outputs": []
    },
    {
      "cell_type": "code",
      "metadata": {
        "id": "kvNMnvE-hB2B"
      },
      "source": [
        "import random\n",
        "\n",
        "# def randomBytes(length = 10):\n",
        "#     values = [random.randrange(0,256) for i in range(length)]\n",
        "#     return bytes(values)\n",
        "\n",
        "def encryptWithUnknownKey(data):\n",
        "    key = randomBytes(16)\n",
        "    header = randomBytes(random.randint(5,10))\n",
        "    footer = randomBytes(random.randint(5,10))\n",
        "\n",
        "    enclosedData = header + data + footer\n",
        "\n",
        "    paddedData = pkcs7Padding(enclosedData, len(key))\n",
        "\n",
        "    if random.randint(0,1) == 0:\n",
        "        #encrypt ECB\n",
        "        print(\"ECB\")\n",
        "        return encryptAES_ECB(paddedData, key)\n",
        "    else:\n",
        "        #encrypt CBC\n",
        "        print(\"CBC\")\n",
        "        return encryptAES_CBC(paddedData, key, randomBytes(16))\n",
        "\n",
        "def keysizeFor_AES_ECB(ciphertext):\n",
        "    score, keySize = guessKeySize(ciphertext)[0]\n",
        "    if score < 3:\n",
        "        return True, keySize\n",
        "    else:\n",
        "        return False, 0"
      ],
      "execution_count": 85,
      "outputs": []
    },
    {
      "cell_type": "code",
      "metadata": {
        "colab": {
          "base_uri": "https://localhost:8080/"
        },
        "id": "CrqGDsZNzZs5",
        "outputId": "fe238491-0def-44a6-fd65-aa7805e9e259"
      },
      "source": [
        "def detectAES_ECB(encryptionFunction, n = 10):\n",
        "    for i in range(n):\n",
        "        #encrypt some 0 bytes and measure the Hamming distance between adjacent\n",
        "        #blocks. A normalised Hamming distance lower than 2 indicates ECB\n",
        "        isECB, guessedKeySize = keysizeFor_AES_ECB(encryptionFunction(bytes(100)))\n",
        "        if isECB:\n",
        "            print(f\"encryption was probably ECB; key length: {guessedKeySize} bytes ({guessedKeySize * 8} bits)\\n\")\n",
        "        else:\n",
        "            print(f\"encryption was probably CBC\\n\")\n",
        "\n",
        "detectAES_ECB(encryptWithUnknownKey, 10)"
      ],
      "execution_count": 86,
      "outputs": [
        {
          "output_type": "stream",
          "name": "stdout",
          "text": [
            "CBC\n",
            "encryption was probably CBC\n",
            "\n",
            "ECB\n",
            "encryption was probably ECB; key length: 16 bytes (128 bits)\n",
            "\n",
            "ECB\n",
            "encryption was probably ECB; key length: 16 bytes (128 bits)\n",
            "\n",
            "CBC\n",
            "encryption was probably CBC\n",
            "\n",
            "ECB\n",
            "encryption was probably ECB; key length: 16 bytes (128 bits)\n",
            "\n",
            "ECB\n",
            "encryption was probably ECB; key length: 16 bytes (128 bits)\n",
            "\n",
            "CBC\n",
            "encryption was probably CBC\n",
            "\n",
            "ECB\n",
            "encryption was probably ECB; key length: 16 bytes (128 bits)\n",
            "\n",
            "ECB\n",
            "encryption was probably ECB; key length: 16 bytes (128 bits)\n",
            "\n",
            "ECB\n",
            "encryption was probably ECB; key length: 16 bytes (128 bits)\n",
            "\n"
          ]
        }
      ]
    },
    {
      "cell_type": "markdown",
      "metadata": {
        "id": "g6IXCVdFDtUa"
      },
      "source": [
        "# 12. Byte-at-a-time ECB decryption (Simple)\n",
        "Copy your oracle function to a new function that encrypts buffers under ECB mode using a consistent but unknown key (for instance, assign a single random key, once, to a global variable).\n",
        "\n",
        "Now take that same function and have it append to the plaintext, BEFORE ENCRYPTING, the following string:\n",
        "\n",
        "``Um9sbGluJyBpbiBteSA1LjAKV2l0aCBteSByYWctdG9wIGRvd24gc28gbXkg\n",
        "aGFpciBjYW4gYmxvdwpUaGUgZ2lybGllcyBvbiBzdGFuZGJ5IHdhdmluZyBq\n",
        "dXN0IHRvIHNheSBoaQpEaWQgeW91IHN0b3A/IE5vLCBJIGp1c3QgZHJvdmUg\n",
        "YnkK``\n",
        "\n",
        "## Spoiler alert.\n",
        "Do not decode this string now. Don't do it.\n",
        "\n",
        "Base64 decode the string before appending it. Do not base64 decode the string by hand; make your code do it. The point is that you don't know its contents.\n",
        "\n",
        "What you have now is a function that produces:\n",
        "\n",
        "``AES-128-ECB(your-string || unknown-string, random-key)``\n",
        "It turns out: you can decrypt \"unknown-string\" with repeated calls to the oracle function!\n",
        "\n",
        "## Here's roughly how:\n",
        "\n",
        "Feed identical bytes of your-string to the function 1 at a time --- start with 1 byte (\"A\"), then \"AA\", then \"AAA\" and so on. Discover the block size of the cipher. You know it, but do this step anyway.\n",
        "Detect that the function is using ECB. You already know, but do this step anyways.\n",
        "Knowing the block size, craft an input block that is exactly 1 byte short (for instance, if the block size is 8 bytes, make \"AAAAAAA\"). Think about what the oracle function is going to put in that last byte position.\n",
        "Make a dictionary of every possible last byte by feeding different strings to the oracle; for instance, \"AAAAAAAA\", \"AAAAAAAB\", \"AAAAAAAC\", remembering the first block of each invocation.\n",
        "Match the output of the one-byte-short input to one of the entries in your dictionary. You've now discovered the first byte of unknown-string.\n",
        "Repeat for the next byte.\n",
        "\n",
        "## Congratulations.\n",
        "This is the first challenge we've given you whose solution will break real crypto. Lots of people know that when you encrypt something in ECB mode, you can see penguins through it. Not so many of them can decrypt the contents of those ciphertexts, and now you can. If our experience is any guideline, this attack will get you code execution in security tests about once a year."
      ]
    },
    {
      "cell_type": "code",
      "metadata": {
        "id": "rMd2efMpJAMI"
      },
      "source": [
        "#@title data\n",
        "ex12Key = b'\\x19\\x1b\\xac\\x8aR\\x0bNt\\x079\\xb9\\xb8\\x80X\\xd6\\xc0'\n",
        "suffixData = \"\"\"Um9sbGluJyBpbiBteSA1LjAKV2l0aCBteSByYWctdG9wIGRvd24gc28gbXkg\n",
        "aGFpciBjYW4gYmxvdwpUaGUgZ2lybGllcyBvbiBzdGFuZGJ5IHdhdmluZyBq\n",
        "dXN0IHRvIHNheSBoaQpEaWQgeW91IHN0b3A/IE5vLCBJIGp1c3QgZHJvdmUg\n",
        "YnkK\n",
        "\"\"\""
      ],
      "execution_count": 87,
      "outputs": []
    },
    {
      "cell_type": "code",
      "metadata": {
        "colab": {
          "base_uri": "https://localhost:8080/"
        },
        "id": "d0fQPh4U-NVX",
        "outputId": "92d49907-bde6-402a-c123-1701cb325361"
      },
      "source": [
        "#encrypt with a fixed key after appending a known suffix\n",
        "def AES_128_ECB_Suffix(data):\n",
        "    suffix = base64.b64decode(suffixData)\n",
        "    enclosedData = data + suffix\n",
        "    paddedData = pkcs7Padding(enclosedData, len(ex12Key))\n",
        "    return encryptAES_ECB(paddedData, ex12Key)\n",
        "\n",
        "#detect ECB block size\n",
        "def blockSizeDetector_AES(encryptionFunction):\n",
        "    lastCiphertextLength = 0\n",
        "    candidateBlockSize = 0\n",
        "\n",
        "    for length in range(32):\n",
        "        plaintext = bytes(length)\n",
        "        nextCiphertextLength = len(AES_128_ECB_Suffix(plaintext))\n",
        "    \n",
        "        if nextCiphertextLength > lastCiphertextLength:\n",
        "            candidateBlockSize = nextCiphertextLength - lastCiphertextLength\n",
        "            lastCiphertextLength = nextCiphertextLength\n",
        "    return candidateBlockSize\n",
        "\n",
        "blockSizeBytes = blockSizeDetector_AES(AES_128_ECB_Suffix)\n",
        "print(f\"block size: {blockSizeBytes} bytes ({blockSizeBytes * 8} bits)\")\n",
        "\n",
        "#detect ECB mode (this also prints the key length: 16)\n",
        "detectAES_ECB(AES_128_ECB_Suffix, 1)"
      ],
      "execution_count": 88,
      "outputs": [
        {
          "output_type": "stream",
          "name": "stdout",
          "text": [
            "block size: 16 bytes (128 bits)\n",
            "encryption was probably ECB; key length: 16 bytes (128 bits)\n",
            "\n"
          ]
        }
      ]
    },
    {
      "cell_type": "code",
      "metadata": {
        "id": "5GbV7zueKJiX",
        "colab": {
          "base_uri": "https://localhost:8080/"
        },
        "outputId": "9ffea4e2-2e21-46cd-c819-13b6f8d27eb2"
      },
      "source": [
        "import string\n",
        "\n",
        "def getSuffixByte(encryptionFuction, guessedBytes, byteNumber):\n",
        "    blockSize = 16 #bytes\n",
        "    blockOfDesiredByte = byteNumber // blockSize\n",
        "    blockStartIndex = blockSize * blockOfDesiredByte\n",
        "    blockEndIndex = blockStartIndex + blockSize\n",
        "\n",
        "    #maps candidate bytes to ciphertext blocks\n",
        "    dictionaryAcc = {}\n",
        "    \n",
        "    padding = bytes((blockSize - byteNumber % blockSize) - 1)\n",
        "    CtBlock = encryptionFuction(padding)[blockStartIndex : blockEndIndex]\n",
        "\n",
        "    #build a plaintext 1 byte shorter than the cipher block size\n",
        "    PtShort = padding + guessedBytes\n",
        "    assert len(PtShort) % blockSize == blockSize - 1, f\"wrong pt size {len(PtShort)}, guessedBytes: {guessedBytes}\"\n",
        "\n",
        "    # append all possible bytes to the end, encrypt them and store the results\n",
        "    for character in range(256):\n",
        "        plaintext = PtShort + bytes([character])\n",
        "        assert len(plaintext) % blockSize == 0\n",
        "        ct = encryptionFuction(plaintext)\n",
        "        dictionaryAcc[character] = ct[blockStartIndex : blockEndIndex]\n",
        "\n",
        "    #find a block in the dictionary that matches the encrypted padding.\n",
        "    for character, block in dictionaryAcc.items():\n",
        "        if block == CtBlock:\n",
        "            return bytes([character])\n",
        "    return bytes('?', 'ascii')\n",
        "\n",
        "\n",
        "decodedSuffix = b''\n",
        "for i in range(len(suffixData)):\n",
        "    decodedSuffix += getSuffixByte(AES_128_ECB_Suffix, decodedSuffix, i)\n",
        "\n",
        "print(f\"length: {len(decodedSuffix)}\\n{decodedSuffix.decode()}\")"
      ],
      "execution_count": 89,
      "outputs": [
        {
          "output_type": "stream",
          "name": "stdout",
          "text": [
            "length: 188\n",
            "Rollin' in my 5.0\n",
            "With my rag-top down so my hair can blow\n",
            "The girlies on standby waving just to say hi\n",
            "Did you stop? No, I just drove by\n",
            "\u0001?????????????????????????????????????????????????\n"
          ]
        }
      ]
    },
    {
      "cell_type": "markdown",
      "metadata": {
        "id": "IvqqvDI9bv4Q"
      },
      "source": [
        "# 13. ECB cut-and-paste\n",
        "Write a k=v parsing routine, as if for a structured cookie. The routine should take:\n",
        "\n",
        "``\n",
        "foo=bar&baz=qux&zap=zazzle\n",
        "``\n",
        "\n",
        "... and produce:\n",
        "\n",
        "``\n",
        "{\n",
        "  foo: 'bar',\n",
        "  baz: 'qux',\n",
        "  zap: 'zazzle'\n",
        "}\n",
        "``\n",
        "(you know, the object; I don't care if you convert it to JSON).\n",
        "\n",
        "Now write a function that encodes a user profile in that format, given an email address. You should have something like:\n",
        "\n",
        "``\n",
        "profile_for(\"foo@bar.com\")\n",
        "``\n",
        "\n",
        "... and it should produce:\n",
        "\n",
        "``\n",
        "{\n",
        "  email: 'foo@bar.com',\n",
        "  uid: 10,\n",
        "  role: 'user'\n",
        "}\n",
        "``\n",
        "\n",
        "... encoded as:\n",
        "\n",
        "``\n",
        "email=foo@bar.com&uid=10&role=user\n",
        "``\n",
        "\n",
        "Your \"profile_for\" function should not allow encoding metacharacters (& and =). Eat them, quote them, whatever you want to do, but don't let people set their email address to ``\"foo@bar.com&role=admin\"``.\n",
        "\n",
        "Now, two more easy functions. Generate a random AES key, then:\n",
        "\n",
        "* Encrypt the encoded user profile under the key; \"provide\" that to the \"attacker\".\n",
        "* Decrypt the encoded user profile and parse it.\n",
        "\n",
        "Using only the user input to profile_for() (as an oracle to generate \"valid\" ciphertexts) and the ciphertexts themselves, make a role=admin profile."
      ]
    },
    {
      "cell_type": "code",
      "metadata": {
        "colab": {
          "base_uri": "https://localhost:8080/"
        },
        "id": "aFQYimzKc8mG",
        "outputId": "4a2293cc-0b60-4fb4-a48d-75ffa956ae44"
      },
      "source": [
        "ex13TestString = \"foo=bar&baz=qux&zap=zazzle\"\n",
        "\n",
        "def parse(string):\n",
        "    dictionary = {}\n",
        "    kvs = string.split('&')\n",
        "    for entry in kvs:\n",
        "        key, value = entry.split('=')\n",
        "        try:\n",
        "            # try to interpret as an int\n",
        "            dictionary[key] = int(value)\n",
        "        except ValueError:\n",
        "            #otherwise treat as a string\n",
        "            dictionary[key] = value\n",
        "    return dictionary\n",
        "\n",
        "def encode(dictionary):\n",
        "    attributes = []\n",
        "    for key, value in dictionary.items():\n",
        "        # clean values\n",
        "        try:\n",
        "            value = value.replace('&', '')\n",
        "            value = value.replace('=', '')\n",
        "            attributes += [str(key) + \"=\" + value]\n",
        "            continue\n",
        "        except AttributeError:\n",
        "            # print(f\"didn't clean {value}, it's not a string!\")\n",
        "            attributes += [str(key) + \"=\" + str(value)]\n",
        "    return \"&\".join(attributes)\n",
        "\n",
        "#oracle function\n",
        "def profileFor(email):\n",
        "    dictionary = {'email' : email, 'uid' : 100, 'role' : 'user' }\n",
        "    return encode(dictionary)\n",
        "\n",
        "\n",
        "# doesn't work\n",
        "print(parse(profileFor('james@nice.com&role=admin')))\n",
        "\n",
        "# does work\n",
        "print(parse('email=james@nice.comroleadmin&uid=100&role=user&role=admin'))"
      ],
      "execution_count": 90,
      "outputs": [
        {
          "output_type": "stream",
          "name": "stdout",
          "text": [
            "{'email': 'james@nice.comroleadmin', 'uid': 100, 'role': 'user'}\n",
            "{'email': 'james@nice.comroleadmin', 'uid': 100, 'role': 'admin'}\n"
          ]
        }
      ]
    },
    {
      "cell_type": "markdown",
      "metadata": {
        "id": "SI76nCb6cCO2"
      },
      "source": [
        "# The lazy way"
      ]
    },
    {
      "cell_type": "code",
      "metadata": {
        "id": "N1NzrceHeIpU",
        "colab": {
          "base_uri": "https://localhost:8080/"
        },
        "outputId": "46017bc3-f38c-4eb3-d066-af44c2904946"
      },
      "source": [
        "testKey = b'\\xec\\x94h\\xe8\\xe0b]#>\\x93c\\x0f\\xc4\\x8c\\x1b\\xca'\n",
        "\n",
        "def encryptProfile(email, key):\n",
        "    plainProfile = bytes(profileFor(email), 'ascii')\n",
        "    paddedPlainProfile = pkcs7Padding(plainProfile, len(key))\n",
        "    ciphertext = encryptAES_ECB(paddedPlainProfile, key)\n",
        "    return ciphertext\n",
        "\n",
        "def decryptAndParse(ciphertext, key):\n",
        "    recoveredProfile = decryptAES_ECB(ciphertext, key).decode()\n",
        "    return parse(recoveredProfile)\n",
        "\n",
        "desiredKV = b'&role=admin'  # 11 bytes\n",
        "KVPadding = b'& =  '        # 5 bytes needed to prevent pad to the right length.\n",
        "                            # this results in a nonsense profile dictionary entry.\n",
        "KVpt = desiredKV + KVPadding\n",
        "KVct = encryptAES_ECB(KVpt, testKey)\n",
        "\n",
        "# innocent encrypted user profile\n",
        "ciphertext = bytearray(encryptProfile('target@user.com', testKey))\n",
        "\n",
        "modifiedCiphertext = ciphertext + KVct\n",
        "\n",
        "modifiedPlaintext = decryptAES_ECB(modifiedCiphertext, testKey)\n",
        "recoveredProfile = decryptAndParse(modifiedCiphertext, testKey)\n",
        "\n",
        "print(f\"modified plaintext: {modifiedPlaintext}\\nrecoveredProfile: {recoveredProfile}\")"
      ],
      "execution_count": 91,
      "outputs": [
        {
          "output_type": "stream",
          "name": "stdout",
          "text": [
            "modified plaintext: b'email=target@user.com&uid=100&role=user\\t\\t\\t\\t\\t\\t\\t\\t\\t&role=admin& =  '\n",
            "recoveredProfile: {'email': 'target@user.com', 'uid': 100, 'role': 'admin', ' ': '  '}\n"
          ]
        }
      ]
    },
    {
      "cell_type": "markdown",
      "metadata": {
        "id": "PR4p28fJcJGH"
      },
      "source": [
        "# Perhaps playing by the rules a bit more"
      ]
    },
    {
      "cell_type": "code",
      "metadata": {
        "id": "P082e4scSqlD",
        "colab": {
          "base_uri": "https://localhost:8080/"
        },
        "outputId": "9a74e567-2b11-48fa-e27c-3ef624538eb7"
      },
      "source": [
        "ctOne = bytearray(encryptProfile(12 * \"1\" , testKey)[:32])\n",
        "\n",
        "ctTwo = bytearray(encryptProfile(26 * \"1\" + \"admin\" , testKey))\n",
        "\n",
        "ctThree = bytearray(encryptProfile(27 * \"1\" + \"admin\", testKey))\n",
        "\n",
        "def inBlocks(data, blockSize = 16):\n",
        "    if len(data) < blockSize:\n",
        "        return [data]\n",
        "    return [data[:blockSize]] + inBlocks(data[blockSize:], blockSize)\n",
        "\n",
        "def printBlocks(data):\n",
        "    print(\"\\nin blocks:\")\n",
        "    for block in inBlocks(data, 16):\n",
        "        pt = decryptAES_ECB(block, testKey)\n",
        "        print(pt)\n",
        "\n",
        "printBlocks(ctOne)\n",
        "printBlocks(ctTwo)\n",
        "printBlocks(ctThree)\n",
        "\n",
        "#start copy and pasting a new encrypted profile string together\n",
        "ctTwo[16:32] = ctOne[16:32]\n",
        "ctTwo[48:64] = ctThree[48:64]\n",
        "printBlocks(ctTwo)\n",
        "\n",
        "profile = decryptAndParse(ctTwo, testKey)\n",
        "print(profile)\n",
        "assert profile['role'] == 'admin'"
      ],
      "execution_count": 92,
      "outputs": [
        {
          "output_type": "stream",
          "name": "stdout",
          "text": [
            "\n",
            "in blocks:\n",
            "b'email=1111111111'\n",
            "b'11&uid=100&role='\n",
            "b''\n",
            "\n",
            "in blocks:\n",
            "b'email=1111111111'\n",
            "b'1111111111111111'\n",
            "b'admin&uid=100&ro'\n",
            "b'le=user\\t\\t\\t\\t\\t\\t\\t\\t\\t'\n",
            "b''\n",
            "\n",
            "in blocks:\n",
            "b'email=1111111111'\n",
            "b'1111111111111111'\n",
            "b'1admin&uid=100&r'\n",
            "b'ole=user\\x08\\x08\\x08\\x08\\x08\\x08\\x08\\x08'\n",
            "b''\n",
            "\n",
            "in blocks:\n",
            "b'email=1111111111'\n",
            "b'11&uid=100&role='\n",
            "b'admin&uid=100&ro'\n",
            "b'ole=user\\x08\\x08\\x08\\x08\\x08\\x08\\x08\\x08'\n",
            "b''\n",
            "{'email': 111111111111, 'uid': 100, 'role': 'admin', 'roole': 'user\\x08\\x08\\x08\\x08\\x08\\x08\\x08\\x08'}\n"
          ]
        }
      ]
    },
    {
      "cell_type": "markdown",
      "metadata": {
        "id": "yeYsrwERkN7g"
      },
      "source": [
        "# 14. Byte-at-a-time ECB decryption (Harder)\n",
        "Take your oracle function from #12. Now generate a random count of random bytes and prepend this string to every plaintext. You are now doing:\n",
        "\n",
        "`AES-128-ECB(random-prefix || attacker-controlled || target-bytes, random-key)`\n",
        "Same goal: decrypt the target-bytes.\n",
        "\n",
        "## Stop and think for a second.\n",
        "What's harder than challenge #12 about doing this? How would you overcome that obstacle? The hint is: you're using all the tools you already have; no crazy math is required.\n",
        "\n",
        "Think \"STIMULUS\" and \"RESPONSE\"."
      ]
    },
    {
      "cell_type": "code",
      "metadata": {
        "colab": {
          "base_uri": "https://localhost:8080/"
        },
        "id": "onLYBSwjlvHw",
        "outputId": "0cbf8b1f-d517-4858-d6d1-b37c88178da7"
      },
      "source": [
        "def AES_128_RandomPrefix(data):\n",
        "    ex14Key = ex12Key\n",
        "    ex14randomPrefix =  bytes('yellow', 'ascii') \n",
        "    targetBytes = bytes(profileFor('test@user.com'), 'ascii')\n",
        "    paddedData = pkcs7Padding(ex14randomPrefix + data + targetBytes, len(ex14Key))\n",
        "    return encryptAES_ECB(paddedData, ex14Key)\n",
        "\n",
        "def findPrefixLength(function, blockSize):\n",
        "    lastOutput = function(bytes('', 'ascii'))[:blockSize]\n",
        "    paddingSize = 1\n",
        "    while function(bytes(paddingSize * 'x', 'ascii'))[:blockSize] != lastOutput:\n",
        "        lastOutput = function(bytes(paddingSize * 'x', 'ascii'))[:blockSize]\n",
        "        paddingSize += 1\n",
        "    return blockSize - paddingSize + 1\n",
        "\n",
        "prefix = randomBytes(random.randint(1,10))\n",
        "assert findPrefixLength( lambda x : prefix + x , 16) == len(prefix)\n",
        "\n",
        "prefix = findPrefixLength(AES_128_RandomPrefix, 16)\n",
        "print(f\"prefix length: {prefix}\")"
      ],
      "execution_count": 93,
      "outputs": [
        {
          "output_type": "stream",
          "name": "stdout",
          "text": [
            "prefix length: 6\n"
          ]
        }
      ]
    },
    {
      "cell_type": "code",
      "metadata": {
        "colab": {
          "base_uri": "https://localhost:8080/"
        },
        "id": "lHFws7WA6Dth",
        "outputId": "3de937ad-40e5-4b91-f692-b466cf576f18"
      },
      "source": [
        "def getSuffixByteFromPrefixedData(encryptionFuction, guessedBytes, byteNumber, prefixLength):\n",
        "    blockSize = 16 #bytes\n",
        "    blockOfDesiredByte = (byteNumber) // (blockSize - prefixLength)\n",
        "    blockStartIndex = blockSize * blockOfDesiredByte\n",
        "    blockEndIndex = blockStartIndex + blockSize\n",
        "    \n",
        "    padding = bytes(((blockSize - prefixLength) - byteNumber % (blockSize - prefixLength)) - 1)\n",
        "    padding += bytes( prefixLength * (byteNumber // (blockSize - prefixLength)))\n",
        "\n",
        "    CtBlock = encryptionFuction(padding)[blockStartIndex : blockEndIndex]\n",
        "    # print(f\"padding length {len(padding)}\")\n",
        "\n",
        "    #build a plaintext 1 byte shorter than the cipher block size\n",
        "    PtShort = padding + guessedBytes\n",
        "    assert len(PtShort) % (blockSize) == (blockSize - prefixLength) - 1, f\"wrong pt size {len(PtShort)}, guessedBytes: {guessedBytes}\"\n",
        "\n",
        "    # append all possible bytes to the end, encrypt them and store the results\n",
        "    \n",
        "    #maps candidate bytes to ciphertext blocks\n",
        "    dictionaryAcc = {}\n",
        "    for character in range(256):\n",
        "        plaintext = PtShort + bytes([character])\n",
        "        assert len(plaintext) % blockSize == (blockSize - prefixLength)\n",
        "        ct = encryptionFuction(plaintext)\n",
        "        dictionaryAcc[character] = ct[blockStartIndex : blockEndIndex]\n",
        "\n",
        "    #find a block in the dictionary that matches the encrypted padding.\n",
        "    for character, block in dictionaryAcc.items():\n",
        "        if block == CtBlock:\n",
        "            return bytes([character])\n",
        "    return bytes('?', 'ascii')\n",
        "\n",
        "decodedSuffix = b''\n",
        "for i in range(len(suffixData)):\n",
        "    decodedSuffix += getSuffixByteFromPrefixedData(AES_128_RandomPrefix, decodedSuffix, i, 6)\n",
        "\n",
        "print(f\"length: {len(decodedSuffix)}\\n{decodedSuffix.decode()}\")"
      ],
      "execution_count": 94,
      "outputs": [
        {
          "output_type": "stream",
          "name": "stdout",
          "text": [
            "length: 188\n",
            "email=test@user.com&uid=100&role=user\u0001??????????????????????????????????????????????????????????????????????????????????????????????????????????????????????????????????????????????????????\n"
          ]
        }
      ]
    },
    {
      "cell_type": "markdown",
      "metadata": {
        "id": "s0MNVc1xfc2A"
      },
      "source": [
        "# 15.PKCS#7 padding validation\n",
        "Write a function that takes a plaintext, determines if it has valid PKCS#7 padding, and strips the padding off.\n",
        "\n",
        "The string:\n",
        "\n",
        "`ICE ICE BABY\\x04\\x04\\x04\\x04`\n",
        "... has valid padding, and produces the result \"ICE ICE BABY\".\n",
        "\n",
        "The string:\n",
        "\n",
        "`ICE ICE BABY\\x05\\x05\\x05\\x05`\n",
        "... does not have valid padding, nor does:\n",
        "\n",
        "`ICE ICE BABY\\x01\\x02\\x03\\x04`\n",
        "If you are writing in a language with exceptions, like Python or Ruby, make your function throw an exception on bad padding.\n",
        "\n",
        "Crypto nerds know where we're going with this. Bear with us."
      ]
    },
    {
      "cell_type": "code",
      "metadata": {
        "id": "JdF0yaZmsIh2",
        "colab": {
          "base_uri": "https://localhost:8080/"
        },
        "outputId": "48084e62-1229-4d03-fc4f-d71531995ee1"
      },
      "source": [
        "validPKCSStrings = [b'ICE ICE BABY\\x04\\x04\\x04\\x04']\n",
        "invalidPKCSStrings = [b'ICE ICE BABY\\x05\\x05\\x05\\x05', b'ICE ICE BABY\\x01\\x02\\x03\\x04']\n",
        "\n",
        "def removePadding(data):\n",
        "    lastByte = int(data[-1])\n",
        "    endIndex = -1 * lastByte\n",
        "    if data[endIndex:] == bytes([lastByte] * lastByte):\n",
        "        return data[:endIndex]\n",
        "    else:\n",
        "        raise ValueError(\"Invalid PKCS7 padding\", data)\n",
        "\n",
        "\n",
        "\n",
        "for candidate in validPKCSStrings + invalidPKCSStrings:\n",
        "    try:\n",
        "        print(removePadding(candidate))\n",
        "    except ValueError as error:\n",
        "        print(error.args)"
      ],
      "execution_count": 95,
      "outputs": [
        {
          "output_type": "stream",
          "name": "stdout",
          "text": [
            "b'ICE ICE BABY'\n",
            "('Invalid PKCS7 padding', b'ICE ICE BABY\\x05\\x05\\x05\\x05')\n",
            "('Invalid PKCS7 padding', b'ICE ICE BABY\\x01\\x02\\x03\\x04')\n"
          ]
        }
      ]
    },
    {
      "cell_type": "markdown",
      "metadata": {
        "id": "GYYVkQeKk0rJ"
      },
      "source": [
        "# 16. CBC bitflipping attacks\n",
        "Generate a random AES key.\n",
        "\n",
        "Combine your padding code and CBC code to write two functions.\n",
        "\n",
        "The first function should take an arbitrary input string, prepend the string:\n",
        "\n",
        "`comment1=cooking%20MCs;userdata=`\n",
        ".. and append the string:\n",
        "\n",
        "`;comment2=%20like%20a%20pound%20of%20bacon`\n",
        "The function should quote out the \";\" and \"=\" characters.\n",
        "\n",
        "The function should then pad out the input to the 16-byte AES block length and encrypt it under the random AES key.\n",
        "\n",
        "The second function should decrypt the string and look for the characters \";admin=true;\" (or, equivalently, decrypt, split the string on \";\", convert each resulting string into 2-tuples, and look for the \"admin\" tuple).\n",
        "\n",
        "Return true or false based on whether the string exists.\n",
        "\n",
        "If you've written the first function properly, it should not be possible to provide user input to it that will generate the string the second function is looking for. We'll have to break the crypto to do that.\n",
        "\n",
        "Instead, modify the ciphertext (without knowledge of the AES key) to accomplish this.\n",
        "\n",
        "You're relying on the fact that in CBC mode, a 1-bit error in a ciphertext block:\n",
        "\n",
        "* Completely scrambles the block the error occurs in\n",
        "* Produces the identical 1-bit error(/edit) in the next ciphertext block.\n",
        "\n",
        "# Stop and think for a second.\n",
        "Before you implement this attack, answer this question: why does CBC mode have this property?"
      ]
    },
    {
      "cell_type": "code",
      "metadata": {
        "colab": {
          "base_uri": "https://localhost:8080/"
        },
        "id": "eZRE01Ngk0ZE",
        "outputId": "209a0d26-a39a-4434-ea5d-e958bbc8c1e2"
      },
      "source": [
        "ex16Key = b'\\x92!+C\\xbc9\\xe4]\\xe2)\\xa8\\xe0\\xdd\\xe4\\xf8\\x96'\n",
        "ex16Iv = b\"\\xf1\\xbe\\x89W=\\x11\\x93\\xf2\\x94M\\xf3\\xce\\xbe\\xd6\\xfc'\"\n",
        "\n",
        "def prefixSuffixAES_CBC_encrypt(data):\n",
        "    ex16Prefix = \"comment1=cooking%20MCs;userdata=\"\n",
        "    ex16Suffix = \";comment2=%20like%20a%20pound%20of%20bacon\"\n",
        "\n",
        "    plaintext = ex16Prefix + data + ex16Suffix\n",
        "\n",
        "    plaintext = plaintext.replace(';', \"';'\")\n",
        "    plaintext = plaintext.replace('=', \"'='\")\n",
        "    plaintextBytes = bytes(plaintext, 'ascii')\n",
        "\n",
        "    paddedPT = pkcs7Padding(plaintextBytes,16)\n",
        "\n",
        "    return encryptAES_CBC(paddedPT, ex16Key, ex16Iv)\n",
        "\n",
        "def ciphertextIsAdmin(ciphertext, key):\n",
        "    plaintext = decryptAES_CBC(ciphertext, key).decode()\n",
        "    # print(plaintext)\n",
        "    return plaintext.find(\";admin=true;\") >= 0\n",
        "\n",
        "testCT = prefixSuffixAES_CBC_encrypt(';admin=true;')\n",
        "print(ciphertextIsAdmin(testCT, ex16Key))"
      ],
      "execution_count": 96,
      "outputs": [
        {
          "output_type": "stream",
          "name": "stdout",
          "text": [
            "False\n"
          ]
        }
      ]
    },
    {
      "cell_type": "code",
      "metadata": {
        "colab": {
          "base_uri": "https://localhost:8080/"
        },
        "id": "zloxS20wiLlo",
        "outputId": "e973ffe4-2600-470a-88ed-b9a1b26178e5"
      },
      "source": [
        "attackBytes = b';admin=true;'\n",
        "\n",
        "def insertString(encryptionFunction, attackBytes):\n",
        "    # find byte values to write into the ciphertext\n",
        "    byteValues = []\n",
        "    for index in range(len(attackBytes)):\n",
        "        testCT = bytearray(encryptionFunction(attackBytes.decode()))\n",
        "        recoveredPT = decryptAES_CBC(testCT, ex16Key)\n",
        "\n",
        "        newByteValue = 0\n",
        "        while recoveredPT[index] != attackBytes[index]:\n",
        "            newByteValue += 1\n",
        "            testCT = bytearray(encryptionFunction(attackBytes.decode()))\n",
        "            testCT[index] = newByteValue\n",
        "            recoveredPT = decryptAES_CBC(testCT, ex16Key)\n",
        "\n",
        "        byteValues.append(testCT[index])\n",
        "        # debug = f\"{chr(recoveredPT[index])} - {chr(attackBytes[index])} -- {byteValues}\"\n",
        "        # print(debug)\n",
        "\n",
        "    #edit a fresh ciphertext with the discovered byte values\n",
        "    testCT = bytearray(encryptionFunction(attackString.decode()))\n",
        "    for index in range(len(attackString)):\n",
        "            testCT[index] = byteValues[index]\n",
        "            \n",
        "    return testCT\n",
        "\n",
        "\n",
        "modifiedCiphertext = insertString(prefixSuffixAES_CBC_encrypt, attackBytes)\n",
        "recoveredPT = decryptAES_CBC(modifiedCiphertext, ex16Key)\n",
        "\n",
        "for block in inBlocks(recoveredPT):\n",
        "    print(block)\n",
        "\n",
        "#check we have an admin string\n",
        "assert ciphertextIsAdmin(modifiedCiphertext, ex16Key)"
      ],
      "execution_count": 99,
      "outputs": [
        {
          "output_type": "stream",
          "name": "stdout",
          "text": [
            "b';admin=true;ooki'\n",
            "b\"ng%20MCs';'userd\"\n",
            "b\"ata'='';'admin'=\"\n",
            "b\"'true';'';'comme\"\n",
            "b\"nt2'='%20like%20\"\n",
            "b'a%20pound%20of%2'\n",
            "b'0bacon\\n\\n\\n\\n\\n\\n\\n\\n\\n\\n'\n",
            "b''\n"
          ]
        }
      ]
    }
  ]
}