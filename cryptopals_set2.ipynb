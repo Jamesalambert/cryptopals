{
  "nbformat": 4,
  "nbformat_minor": 0,
  "metadata": {
    "colab": {
      "name": "cryptopals set2",
      "provenance": [],
      "authorship_tag": "ABX9TyMrHsV+5xdBX7sDo9A+bTX5"
    },
    "kernelspec": {
      "name": "python3",
      "display_name": "Python 3"
    },
    "language_info": {
      "name": "python"
    }
  },
  "cells": [
    {
      "cell_type": "markdown",
      "metadata": {
        "id": "MSX1YlUvNfSR"
      },
      "source": [
        "# 9. Implement PKCS#7 padding\n",
        "\n",
        "A block cipher transforms a fixed-sized block (usually 8 or 16 bytes) of plaintext into ciphertext. But we almost never want to transform a single block; we encrypt irregularly-sized messages.\n",
        "\n",
        "One way we account for irregularly-sized messages is by padding, creating a plaintext that is an even multiple of the blocksize. The most popular padding scheme is called PKCS#7.\n",
        "\n",
        "So: pad any block to a specific block length, by appending the number of bytes of padding to the end of the block. For instance,\n",
        "\n",
        "\"YELLOW SUBMARINE\"\n",
        "... padded to 20 bytes would be:\n",
        "\n",
        "\"YELLOW SUBMARINE\\x04\\x04\\x04\\x04\""
      ]
    },
    {
      "cell_type": "code",
      "metadata": {
        "colab": {
          "base_uri": "https://localhost:8080/"
        },
        "id": "d6a1Jpv0NJD0",
        "outputId": "486582db-a22a-49ee-fa18-0a99aea67f05"
      },
      "source": [
        "test = b\"YELLOW SUBMARINE\"\n",
        "testResult = b\"YELLOW SUBMARINE\\x04\\x04\\x04\\x04\"\n",
        "\n",
        "def pkcs7Padding(data, blockSize):\n",
        "    paddingLength = blockSize - ((len(data) - blockSize) % blockSize)\n",
        "    padding = bytes([4] * paddingLength) #padding with 00000100\n",
        "    return data + padding\n",
        "\n",
        "paddedData = pkcs7Padding(test, 20)\n",
        "assert paddedData == testResult\n",
        "paddedData"
      ],
      "execution_count": 8,
      "outputs": [
        {
          "output_type": "execute_result",
          "data": {
            "text/plain": [
              "b'YELLOW SUBMARINE\\x04\\x04\\x04\\x04'"
            ]
          },
          "metadata": {},
          "execution_count": 8
        }
      ]
    },
    {
      "cell_type": "markdown",
      "metadata": {
        "id": "RFGzqGbHSErN"
      },
      "source": [
        "# 10. Implement CBC mode\n",
        "CBC mode is a block cipher mode that allows us to encrypt irregularly-sized messages, despite the fact that a block cipher natively only transforms individual blocks.\n",
        "\n",
        "In CBC mode, each ciphertext block is added to the next plaintext block before the next call to the cipher core.\n",
        "\n",
        "The first plaintext block, which has no associated previous ciphertext block, is added to a \"fake 0th ciphertext block\" called the initialization vector, or IV.\n",
        "\n",
        "Implement CBC mode by hand by taking the ECB function you wrote earlier, making it encrypt instead of decrypt (verify this by decrypting whatever you encrypt to test), and using your XOR function from the previous exercise to combine them.\n",
        "\n",
        "The data is intelligible (somewhat) when CBC decrypted against \"YELLOW SUBMARINE\" with an IV of all ASCII 0 (\\x00\\x00\\x00 &c)"
      ]
    },
    {
      "cell_type": "code",
      "metadata": {
        "cellView": "form",
        "id": "x255oE-pPsAg"
      },
      "source": [
        "#@title data\n",
        "ex10data = \"\"\"CRIwqt4+szDbqkNY+I0qbNXPg1XLaCM5etQ5Bt9DRFV/xIN2k8Go7jtArLIy\n",
        "P605b071DL8C+FPYSHOXPkMMMFPAKm+Nsu0nCBMQVt9mlluHbVE/yl6VaBCj\n",
        "NuOGvHZ9WYvt51uR/lklZZ0ObqD5UaC1rupZwCEK4pIWf6JQ4pTyPjyiPtKX\n",
        "g54FNQvbVIHeotUG2kHEvHGS/w2Tt4E42xEwVfi29J3yp0O/TcL7aoRZIcJj\n",
        "MV4qxY/uvZLGsjo1/IyhtQp3vY0nSzJjGgaLYXpvRn8TaAcEtH3cqZenBoox\n",
        "BH3MxNjD/TVf3NastEWGnqeGp+0D9bQx/3L0+xTf+k2VjBDrV9HPXNELRgPN\n",
        "0MlNo79p2gEwWjfTbx2KbF6htgsbGgCMZ6/iCshy3R8/abxkl8eK/VfCGfA6\n",
        "bQQkqs91bgsT0RgxXSWzjjvh4eXTSl8xYoMDCGa2opN/b6Q2MdfvW7rEvp5m\n",
        "wJOfQFDtkv4M5cFEO3sjmU9MReRnCpvalG3ark0XC589rm+42jC4/oFWUdwv\n",
        "kzGkSeoabAJdEJCifhvtGosYgvQDARUoNTQAO1+CbnwdKnA/WbQ59S9MU61Q\n",
        "KcYSuk+jK5nAMDot2dPmvxZIeqbB6ax1IH0cdVx7qB/Z2FlJ/U927xGmC/RU\n",
        "FwoXQDRqL05L22wEiF85HKx2XRVB0F7keglwX/kl4gga5rk3YrZ7VbInPpxU\n",
        "zgEaE4+BDoEqbv/rYMuaeOuBIkVchmzXwlpPORwbN0/RUL89xwOJKCQQZM8B\n",
        "1YsYOqeL3HGxKfpFo7kmArXSRKRHToXuBgDq07KS/jxaS1a1Paz/tvYHjLxw\n",
        "Y0Ot3kS+cnBeq/FGSNL/fFV3J2a8eVvydsKat3XZS3WKcNNjY2ZEY1rHgcGL\n",
        "5bhVHs67bxb/IGQleyY+EwLuv5eUwS3wljJkGcWeFhlqxNXQ6NDTzRNlBS0W\n",
        "4CkNiDBMegCcOlPKC2ZLGw2ejgr2utoNfmRtehr+3LAhLMVjLyPSRQ/zDhHj\n",
        "Xu+Kmt4elmTmqLgAUskiOiLYpr0zI7Pb4xsEkcxRFX9rKy5WV7NhJ1lR7BKy\n",
        "alO94jWIL4kJmh4GoUEhO+vDCNtW49PEgQkundV8vmzxKarUHZ0xr4feL1ZJ\n",
        "THinyUs/KUAJAZSAQ1Zx/S4dNj1HuchZzDDm/nE/Y3DeDhhNUwpggmesLDxF\n",
        "tqJJ/BRn8cgwM6/SMFDWUnhkX/t8qJrHphcxBjAmIdIWxDi2d78LA6xhEPUw\n",
        "NdPPhUrJcu5hvhDVXcceZLa+rJEmn4aftHm6/Q06WH7dq4RaaJePP6WHvQDp\n",
        "zZJOIMSEisApfh3QvHqdbiybZdyErz+yXjPXlKWG90kOz6fx+GbvGcHqibb/\n",
        "HUfcDosYA7lY4xY17llY5sibvWM91ohFN5jyDlHtngi7nWQgFcDNfSh77TDT\n",
        "zltUp9NnSJSgNOOwoSSNWadm6+AgbXfQNX6oJFaU4LQiAsRNa7vX/9jRfi65\n",
        "5uvujM4ob199CZVxEls10UI9pIemAQQ8z/3rgQ3eyL+fViyztUPg/2IvxOHv\n",
        "eexE4owH4Fo/bRlhZK0mYIamVxsRADBuBlGqx1b0OuF4AoZZgUM4d8v3iyUu\n",
        "feh0QQqOkvJK/svkYHn3mf4JlUb2MTgtRQNYdZKDRgF3Q0IJaZuMyPWFsSNT\n",
        "YauWjMVqnj0AEDHh6QUMF8bXLM0jGwANP+r4yPdKJNsoZMpuVoUBJYWnDTV+\n",
        "8Ive6ZgBi4EEbPbMLXuqDMpDi4XcLE0UUPJ8VnmO5fAHMQkA64esY2QqldZ+\n",
        "5gEhjigueZjEf0917/X53ZYWJIRiICnmYPoM0GSYJRE0k3ycdlzZzljIGk+P\n",
        "Q7WgeJhthisEBDbgTuppqKNXLbNZZG/VaTdbpW1ylBv0eqamFOmyrTyh1APS\n",
        "Gn37comTI3fmN6/wmVnmV4/FblvVwLuDvGgSCGPOF8i6FVfKvdESs+yr+1AE\n",
        "DJXfp6h0eNEUsM3gXaJCknGhnt3awtg1fSUiwpYfDKZxwpPOYUuer8Wi+VCD\n",
        "sWsUpkMxhhRqOBKaQaBDQG+kVJu6aPFlnSPQQTi1hxLwi0l0Rr38xkr+lHU7\n",
        "ix8LeJVgNsQdtxbovE3i7z3ZcTFY7uJkI9j9E0muDN9x8y/YN25rm6zULYaO\n",
        "jUoP/7FQZsSgxPIUvUiXkEq+FU2h0FqAC7H18cr3Za5x5dpw5nwawMArKoqG\n",
        "9qlhqc34lXV0ZYwULu58EImFIS8+kITFuu7jOeSXbBgbhx8zGPqavRXeiu0t\n",
        "bJd0gWs+YgMLzXtQIbQuVZENMxJSZB4aw5lPA4vr1fFBsiU4unjOEo/XAgwr\n",
        "Tc0w0UndJFPvXRr3Ir5rFoIEOdRo+6os5DSlk82SBnUjwbje7BWsxWMkVhYO\n",
        "6bOGUm4VxcKWXu2jU66TxQVIHy7WHktMjioVlWJdZC5Hq0g1LHg1nWSmjPY2\n",
        "c/odZqN+dBBC51dCt4oi5UKmKtU5gjZsRSTcTlfhGUd6DY4Tp3CZhHjQRH4l\n",
        "Zhg0bF/ooPTxIjLKK4r0+yR0lyRjqIYEY27HJMhZDXFDxBQQ1UkUIhAvXacD\n",
        "WB2pb3YyeSQjt8j/WSbQY6TzdLq8SreZiuMWcXmQk4EH3xu8bPsHlcvRI+B3\n",
        "gxKeLnwrVJqVLkf3m2cSGnWQhSLGbnAtgQPA6z7u3gGbBmRtP0KnAHWSK7q6\n",
        "onMoYTH+b5iFjCiVRqzUBVzRRKjAL4rcL2nYeV6Ec3PlnboRzJwZIjD6i7WC\n",
        "dcxERr4WVOjOBX4fhhKUiVvlmlcu8CkIiSnZENHZCpI41ypoVqVarHpqh2aP\n",
        "/PS624yfxx2N3C2ci7VIuH3DcSYcaTXEKhz/PRLJXkRgVlWxn7QuaJJzDvpB\n",
        "oFndoRu1+XCsup/AtkLidsSXMFTo/2Ka739+BgYDuRt1mE9EyuYyCMoxO/27\n",
        "sn1QWMMd1jtcv8Ze42MaM4y/PhAMp2RfCoVZALUS2K7XrOLl3s9LDFOdSrfD\n",
        "8GeMciBbfLGoXDvv5Oqq0S/OvjdID94UMcadpnSNsist/kcJJV0wtRGfALG2\n",
        "+UKYzEj/2TOiN75UlRvA5XgwfqajOvmIIXybbdhxpjnSB04X3iY82TNSYTmL\n",
        "LAzZlX2vmV9IKRRimZ2SpzNpvLKeB8lDhIyGzGXdiynQjFMNcVjZlmWHsH7e\n",
        "ItAKWmCwNkeuAfFwir4TTGrgG1pMje7XA7kMT821cYbLSiPAwtlC0wm77F0T\n",
        "a7jdMrLjMO29+1958CEzWPdzdfqKzlfBzsba0+dS6mcW/YTHaB4bDyXechZB\n",
        "k/35fUg+4geMj6PBTqLNNWXBX93dFC7fNyda+Lt9cVJnlhIi/61fr0KzxOeX\n",
        "NKgePKOC3Rz+fWw7Bm58FlYTgRgN63yFWSKl4sMfzihaQq0R8NMQIOjzuMl3\n",
        "Ie5ozSa+y9g4z52RRc69l4n4qzf0aErV/BEe7FrzRyWh4PkDj5wy5ECaRbfO\n",
        "7rbs1EHlshFvXfGlLdEfP2kKpT9U32NKZ4h+Gr9ymqZ6isb1KfNov1rw0KSq\n",
        "YNP+EyWCyLRJ3EcOYdvVwVb+vIiyzxnRdugB3vNzaNljHG5ypEJQaTLphIQn\n",
        "lP02xcBpMNJN69bijVtnASN/TLV5ocYvtnWPTBKu3OyOkcflMaHCEUgHPW0f\n",
        "mGfld4i9Tu35zrKvTDzfxkJX7+KJ72d/V+ksNKWvwn/wvMOZsa2EEOfdCidm\n",
        "oql027IS5XvSHynQtvFmw0HTk9UXt8HdVNTqcdy/jUFmXpXNP2Wvn8PrU2Dh\n",
        "kkIzWhQ5Rxd/vnM2QQr9Cxa2J9GXEV3kGDiZV90+PCDSVGY4VgF8y7GedI1h\n",
        "\"\"\""
      ],
      "execution_count": 1,
      "outputs": []
    },
    {
      "cell_type": "code",
      "metadata": {
        "cellView": "form",
        "id": "71koxjYpST22"
      },
      "source": [
        "#@title installing cryptography\n",
        "!pip3 install cryptography"
      ],
      "execution_count": null,
      "outputs": []
    },
    {
      "cell_type": "code",
      "metadata": {
        "id": "ibDZoBC-Sdeo"
      },
      "source": [
        "from cryptography.hazmat.primitives.ciphers import Cipher, algorithms, modes"
      ],
      "execution_count": 3,
      "outputs": []
    },
    {
      "cell_type": "code",
      "metadata": {
        "id": "ziBUtyeDSeVZ",
        "colab": {
          "base_uri": "https://localhost:8080/"
        },
        "outputId": "b4724e28-efd7-4bfa-ea00-fd91a0ffe4d5"
      },
      "source": [
        "testString = b\"hbdft3fsbnhlngbe\"\n",
        "testKey = b\"yellow submarine\"\n",
        "\n",
        "def encryptAES_ECB(data, key):\n",
        "    paddedData = pkcs7Padding(data, len(key))\n",
        "\n",
        "    AESCipher = Cipher(algorithms.AES(key), modes.ECB())\n",
        "    encryptor = AESCipher.encryptor()\n",
        "\n",
        "    ciphertextBytes = encryptor.update(paddedData) + encryptor.finalize()\n",
        "    return ciphertextBytes\n",
        "\n",
        "def decryptAES_ECB(data, key):\n",
        "    AESCipher = Cipher(algorithms.AES(key), modes.ECB())\n",
        "    decryptor = AESCipher.decryptor()\n",
        "    plaintextBytes = decryptor.update(data) + decryptor.finalize()\n",
        "    return plaintextBytes\n",
        "\n",
        "ct = encryptAES_ECB(testString, testKey)\n",
        "pt = decryptAES_ECB(ct, testKey)\n",
        "\n",
        "#the > is necessary because ECB will pad the plaintext before encrypting\n",
        "assert testString < pt\n",
        "\n",
        "print(f\"in: {testString}\\nct: {ct}\\npt: {pt}\")"
      ],
      "execution_count": 72,
      "outputs": [
        {
          "output_type": "stream",
          "name": "stdout",
          "text": [
            "in: b'hbdft3fsbnhlngbe'\n",
            "ct: b'\\xfag\\xf9 8\\x1d\\xfa\\xa7\\xdbE\\xfa\\xdf}\\xfb\\x81e\\n\\xb5W\\xea>\\x94\\x1b?\\xf4^\\xc1F\\x19j-\\xf6'\n",
            "pt: b'hbdft3fsbnhlngbe\\x04\\x04\\x04\\x04\\x04\\x04\\x04\\x04\\x04\\x04\\x04\\x04\\x04\\x04\\x04\\x04'\n"
          ]
        }
      ]
    },
    {
      "cell_type": "code",
      "metadata": {
        "id": "NTq5mqhcVmm_",
        "cellView": "form"
      },
      "source": [
        "#@title helper functions\n",
        "\n",
        "def xorBytes(in1, in2):\n",
        "  xor = bytes([x ^ y for (x,y) in zip(in1, in2)])\n",
        "  return xor\n",
        "\n",
        "def reshape(data, keySize):\n",
        "\n",
        "  dataSize = len(data)\n",
        "\n",
        "  out = []\n",
        "  data = pkcs7Padding(data, keySize)\n",
        "\n",
        "  startIndex = 0\n",
        "  endIndex = keySize\n",
        "\n",
        "  for i in range(0, dataSize, keySize):\n",
        "    out += [data[startIndex : endIndex]]\n",
        "    startIndex += keySize\n",
        "    endIndex += keySize\n",
        "  return out\n",
        "\n",
        "def flatten(byteArray):\n",
        "    flatData = b''\n",
        "    for byte in byteArray:\n",
        "        flatData += byte\n",
        "    return flatData"
      ],
      "execution_count": 5,
      "outputs": []
    },
    {
      "cell_type": "code",
      "metadata": {
        "cellView": "form",
        "id": "p0i6TTgAkZR9"
      },
      "source": [
        "#@title data\n",
        "ex10data = \"\"\"CRIwqt4+szDbqkNY+I0qbNXPg1XLaCM5etQ5Bt9DRFV/xIN2k8Go7jtArLIy\n",
        "P605b071DL8C+FPYSHOXPkMMMFPAKm+Nsu0nCBMQVt9mlluHbVE/yl6VaBCj\n",
        "NuOGvHZ9WYvt51uR/lklZZ0ObqD5UaC1rupZwCEK4pIWf6JQ4pTyPjyiPtKX\n",
        "g54FNQvbVIHeotUG2kHEvHGS/w2Tt4E42xEwVfi29J3yp0O/TcL7aoRZIcJj\n",
        "MV4qxY/uvZLGsjo1/IyhtQp3vY0nSzJjGgaLYXpvRn8TaAcEtH3cqZenBoox\n",
        "BH3MxNjD/TVf3NastEWGnqeGp+0D9bQx/3L0+xTf+k2VjBDrV9HPXNELRgPN\n",
        "0MlNo79p2gEwWjfTbx2KbF6htgsbGgCMZ6/iCshy3R8/abxkl8eK/VfCGfA6\n",
        "bQQkqs91bgsT0RgxXSWzjjvh4eXTSl8xYoMDCGa2opN/b6Q2MdfvW7rEvp5m\n",
        "wJOfQFDtkv4M5cFEO3sjmU9MReRnCpvalG3ark0XC589rm+42jC4/oFWUdwv\n",
        "kzGkSeoabAJdEJCifhvtGosYgvQDARUoNTQAO1+CbnwdKnA/WbQ59S9MU61Q\n",
        "KcYSuk+jK5nAMDot2dPmvxZIeqbB6ax1IH0cdVx7qB/Z2FlJ/U927xGmC/RU\n",
        "FwoXQDRqL05L22wEiF85HKx2XRVB0F7keglwX/kl4gga5rk3YrZ7VbInPpxU\n",
        "zgEaE4+BDoEqbv/rYMuaeOuBIkVchmzXwlpPORwbN0/RUL89xwOJKCQQZM8B\n",
        "1YsYOqeL3HGxKfpFo7kmArXSRKRHToXuBgDq07KS/jxaS1a1Paz/tvYHjLxw\n",
        "Y0Ot3kS+cnBeq/FGSNL/fFV3J2a8eVvydsKat3XZS3WKcNNjY2ZEY1rHgcGL\n",
        "5bhVHs67bxb/IGQleyY+EwLuv5eUwS3wljJkGcWeFhlqxNXQ6NDTzRNlBS0W\n",
        "4CkNiDBMegCcOlPKC2ZLGw2ejgr2utoNfmRtehr+3LAhLMVjLyPSRQ/zDhHj\n",
        "Xu+Kmt4elmTmqLgAUskiOiLYpr0zI7Pb4xsEkcxRFX9rKy5WV7NhJ1lR7BKy\n",
        "alO94jWIL4kJmh4GoUEhO+vDCNtW49PEgQkundV8vmzxKarUHZ0xr4feL1ZJ\n",
        "THinyUs/KUAJAZSAQ1Zx/S4dNj1HuchZzDDm/nE/Y3DeDhhNUwpggmesLDxF\n",
        "tqJJ/BRn8cgwM6/SMFDWUnhkX/t8qJrHphcxBjAmIdIWxDi2d78LA6xhEPUw\n",
        "NdPPhUrJcu5hvhDVXcceZLa+rJEmn4aftHm6/Q06WH7dq4RaaJePP6WHvQDp\n",
        "zZJOIMSEisApfh3QvHqdbiybZdyErz+yXjPXlKWG90kOz6fx+GbvGcHqibb/\n",
        "HUfcDosYA7lY4xY17llY5sibvWM91ohFN5jyDlHtngi7nWQgFcDNfSh77TDT\n",
        "zltUp9NnSJSgNOOwoSSNWadm6+AgbXfQNX6oJFaU4LQiAsRNa7vX/9jRfi65\n",
        "5uvujM4ob199CZVxEls10UI9pIemAQQ8z/3rgQ3eyL+fViyztUPg/2IvxOHv\n",
        "eexE4owH4Fo/bRlhZK0mYIamVxsRADBuBlGqx1b0OuF4AoZZgUM4d8v3iyUu\n",
        "feh0QQqOkvJK/svkYHn3mf4JlUb2MTgtRQNYdZKDRgF3Q0IJaZuMyPWFsSNT\n",
        "YauWjMVqnj0AEDHh6QUMF8bXLM0jGwANP+r4yPdKJNsoZMpuVoUBJYWnDTV+\n",
        "8Ive6ZgBi4EEbPbMLXuqDMpDi4XcLE0UUPJ8VnmO5fAHMQkA64esY2QqldZ+\n",
        "5gEhjigueZjEf0917/X53ZYWJIRiICnmYPoM0GSYJRE0k3ycdlzZzljIGk+P\n",
        "Q7WgeJhthisEBDbgTuppqKNXLbNZZG/VaTdbpW1ylBv0eqamFOmyrTyh1APS\n",
        "Gn37comTI3fmN6/wmVnmV4/FblvVwLuDvGgSCGPOF8i6FVfKvdESs+yr+1AE\n",
        "DJXfp6h0eNEUsM3gXaJCknGhnt3awtg1fSUiwpYfDKZxwpPOYUuer8Wi+VCD\n",
        "sWsUpkMxhhRqOBKaQaBDQG+kVJu6aPFlnSPQQTi1hxLwi0l0Rr38xkr+lHU7\n",
        "ix8LeJVgNsQdtxbovE3i7z3ZcTFY7uJkI9j9E0muDN9x8y/YN25rm6zULYaO\n",
        "jUoP/7FQZsSgxPIUvUiXkEq+FU2h0FqAC7H18cr3Za5x5dpw5nwawMArKoqG\n",
        "9qlhqc34lXV0ZYwULu58EImFIS8+kITFuu7jOeSXbBgbhx8zGPqavRXeiu0t\n",
        "bJd0gWs+YgMLzXtQIbQuVZENMxJSZB4aw5lPA4vr1fFBsiU4unjOEo/XAgwr\n",
        "Tc0w0UndJFPvXRr3Ir5rFoIEOdRo+6os5DSlk82SBnUjwbje7BWsxWMkVhYO\n",
        "6bOGUm4VxcKWXu2jU66TxQVIHy7WHktMjioVlWJdZC5Hq0g1LHg1nWSmjPY2\n",
        "c/odZqN+dBBC51dCt4oi5UKmKtU5gjZsRSTcTlfhGUd6DY4Tp3CZhHjQRH4l\n",
        "Zhg0bF/ooPTxIjLKK4r0+yR0lyRjqIYEY27HJMhZDXFDxBQQ1UkUIhAvXacD\n",
        "WB2pb3YyeSQjt8j/WSbQY6TzdLq8SreZiuMWcXmQk4EH3xu8bPsHlcvRI+B3\n",
        "gxKeLnwrVJqVLkf3m2cSGnWQhSLGbnAtgQPA6z7u3gGbBmRtP0KnAHWSK7q6\n",
        "onMoYTH+b5iFjCiVRqzUBVzRRKjAL4rcL2nYeV6Ec3PlnboRzJwZIjD6i7WC\n",
        "dcxERr4WVOjOBX4fhhKUiVvlmlcu8CkIiSnZENHZCpI41ypoVqVarHpqh2aP\n",
        "/PS624yfxx2N3C2ci7VIuH3DcSYcaTXEKhz/PRLJXkRgVlWxn7QuaJJzDvpB\n",
        "oFndoRu1+XCsup/AtkLidsSXMFTo/2Ka739+BgYDuRt1mE9EyuYyCMoxO/27\n",
        "sn1QWMMd1jtcv8Ze42MaM4y/PhAMp2RfCoVZALUS2K7XrOLl3s9LDFOdSrfD\n",
        "8GeMciBbfLGoXDvv5Oqq0S/OvjdID94UMcadpnSNsist/kcJJV0wtRGfALG2\n",
        "+UKYzEj/2TOiN75UlRvA5XgwfqajOvmIIXybbdhxpjnSB04X3iY82TNSYTmL\n",
        "LAzZlX2vmV9IKRRimZ2SpzNpvLKeB8lDhIyGzGXdiynQjFMNcVjZlmWHsH7e\n",
        "ItAKWmCwNkeuAfFwir4TTGrgG1pMje7XA7kMT821cYbLSiPAwtlC0wm77F0T\n",
        "a7jdMrLjMO29+1958CEzWPdzdfqKzlfBzsba0+dS6mcW/YTHaB4bDyXechZB\n",
        "k/35fUg+4geMj6PBTqLNNWXBX93dFC7fNyda+Lt9cVJnlhIi/61fr0KzxOeX\n",
        "NKgePKOC3Rz+fWw7Bm58FlYTgRgN63yFWSKl4sMfzihaQq0R8NMQIOjzuMl3\n",
        "Ie5ozSa+y9g4z52RRc69l4n4qzf0aErV/BEe7FrzRyWh4PkDj5wy5ECaRbfO\n",
        "7rbs1EHlshFvXfGlLdEfP2kKpT9U32NKZ4h+Gr9ymqZ6isb1KfNov1rw0KSq\n",
        "YNP+EyWCyLRJ3EcOYdvVwVb+vIiyzxnRdugB3vNzaNljHG5ypEJQaTLphIQn\n",
        "lP02xcBpMNJN69bijVtnASN/TLV5ocYvtnWPTBKu3OyOkcflMaHCEUgHPW0f\n",
        "mGfld4i9Tu35zrKvTDzfxkJX7+KJ72d/V+ksNKWvwn/wvMOZsa2EEOfdCidm\n",
        "oql027IS5XvSHynQtvFmw0HTk9UXt8HdVNTqcdy/jUFmXpXNP2Wvn8PrU2Dh\n",
        "kkIzWhQ5Rxd/vnM2QQr9Cxa2J9GXEV3kGDiZV90+PCDSVGY4VgF8y7GedI1h\n",
        "\"\"\""
      ],
      "execution_count": 6,
      "outputs": []
    },
    {
      "cell_type": "code",
      "metadata": {
        "id": "qulsuLCTTKFO"
      },
      "source": [
        "import base64\n",
        "data = base64.b64decode(ex10data)\n",
        "testString = b\"9AuhqAjjiKLU&>\\rY5LtmCn`\\rb\\x0bU ga&,jg\\r\\x0bJv|6h1%7Q'w\\x0c0gLRe\\x0c^jzO.6UhPp$|fij6D\\rk\\x0c(rvH\\x0c'pe3VPnQn[\\nyJz\\\\3-nYJFJ(A[CxGt2~Fq\\\\ V\\n&=#>[hTt9EM>#O!,mX*jF0D%r{PL$6yB:}PZ+]4#hN3}\"\n",
        "testKey = b\"YELLOW SUBMARINE\"\n",
        "testIV = b\"0000000000000000\"\n",
        "\n",
        "def encryptAES_CBC(data, key, iv):\n",
        "    acc = iv\n",
        "    shapedData = reshape(data, len(key))\n",
        "    shapedAcc = reshape(acc, len(key))\n",
        "\n",
        "    for block in shapedData:\n",
        "        newBlock = xorBytes(block, shapedAcc[-1])\n",
        "        newCTBlock = encryptAES_ECB(newBlock, key)\n",
        "        \n",
        "        shapedAcc.append(newCTBlock)\n",
        "\n",
        "    return flatten(shapedAcc)\n",
        "\n",
        "\n",
        "def decryptAES_CBC(data, key, iv):\n",
        "    pt = b''\n",
        "    shapedCt = reshape(data, len(key))\n",
        "    shapedPt = reshape(pt, len(key))\n",
        "    \n",
        "    for blockIndex in range(len(shapedCt) - 1):\n",
        "        decryptedBlock = decryptAES_ECB(shapedCt[blockIndex + 1], key)\n",
        "        newPtBlock = xorBytes(decryptedBlock, shapedCt[blockIndex] )\n",
        "        shapedPt.append(newPtBlock)\n",
        "    return flatten(shapedPt)\n",
        "\n",
        "assert decryptAES_CBC(encryptAES_CBC(testString, testKey, testIV), testKey, testIV) > testString\n",
        "\n",
        "print(decryptAES_CBC(data, testKey, testIV).decode())"
      ],
      "execution_count": null,
      "outputs": []
    },
    {
      "cell_type": "markdown",
      "metadata": {
        "id": "FMRy7pMHjL4u"
      },
      "source": [
        "# 11. An ECB/CBC detection oracle\n",
        "Now that you have ECB and CBC working:\n",
        "\n",
        "Write a function to generate a random AES key; that's just 16 random bytes.\n",
        "\n",
        "Write a function that encrypts data under an unknown key --- that is, a function that generates a random key and encrypts under it.\n",
        "\n",
        "The function should look like:\n",
        "\n",
        "encryption_oracle(your-input)\n",
        "=> [MEANINGLESS JIBBER JABBER]\n",
        "Under the hood, have the function append 5-10 bytes (count chosen randomly) before the plaintext and 5-10 bytes after the plaintext.\n",
        "\n",
        "Now, have the function choose to encrypt under ECB 1/2 the time, and under CBC the other half (just use random IVs each time for CBC). Use rand(2) to decide which to use.\n",
        "\n",
        "Detect the block cipher mode the function is using each time. You should end up with a piece of code that, pointed at a block box that might be encrypting ECB or CBC, tells you which one is happening."
      ]
    },
    {
      "cell_type": "code",
      "metadata": {
        "id": "50O-60tkzV5S"
      },
      "source": [
        "#from set 1\n",
        "def detectAES_ECB(ciphertexts):\n",
        "    keySizeResults = [guessKeySize(string)[0] + (index, string)  for index, string in enumerate(ciphertexts)]\n",
        "    sortedResults = sorted(keySizeResults)\n",
        "\n",
        "def guessKeySize(data):\n",
        "    maxKeySize = min(len(data) // 4, 40)\n",
        "\n",
        "    keyScores = []\n",
        "\n",
        "    for keySize in range(1,maxKeySize):\n",
        "        maxFrames = len(data) // keySize\n",
        "\n",
        "        frames = [data[i*keySize : (i+1)*keySize] for i in range(maxFrames)]\n",
        "        pairs = list(zip(frames[:-1], frames[1:]))\n",
        "\n",
        "        normDists = list(map(lambda t : normHammingDistance(t[0],t[1]), pairs))\n",
        "        score = sum(normDists) / len(normDists)\n",
        "\n",
        "        keyScores.append((score, keySize))\n",
        "\n",
        "    #we want a low Hamming distance\n",
        "    keyScores = sorted(keyScores)\n",
        "    return keyScores\n"
      ],
      "execution_count": 74,
      "outputs": []
    },
    {
      "cell_type": "code",
      "metadata": {
        "colab": {
          "base_uri": "https://localhost:8080/"
        },
        "id": "kvNMnvE-hB2B",
        "outputId": "4e0494c5-4184-41ad-e487-b22a3c7ab3ac"
      },
      "source": [
        "import random\n",
        "\n",
        "def randomBytes(length = 10):\n",
        "    values = [random.randrange(0,256) for i in range(length)]\n",
        "    return bytes(values)\n",
        "\n",
        "def encryptWithUnknownKey(data):\n",
        "    header = randomBytes(random.randint(5,10))\n",
        "    footer = randomBytes(random.randint(5,10))\n",
        "\n",
        "    enclosedData = header + data + footer\n",
        "\n",
        "    if random.randint(0,1) == 0:\n",
        "        #encrypt ECB\n",
        "        return encryptAES_ECB(enclosedData, randomBytes(16))\n",
        "    else:\n",
        "        #encrypt CBC\n",
        "        return encryptAES_CBC(enclosedData, randomBytes(16), randomBytes(16))\n",
        "\n",
        "    return sortedResults[:5]\n",
        "\n",
        "\n",
        "encryptWithUnknownKey(b'abcdefg')"
      ],
      "execution_count": 71,
      "outputs": [
        {
          "output_type": "execute_result",
          "data": {
            "text/plain": [
              "b'UV\\x875\\x01 +\\xd2\\xc9\\x92P&X(\\xc9\\x95\\x1b\\xc0\\xd4\\x9d,Cl\\n*\\xa9-\\xbf\\xa8\\xe1|\\xb5\\x0b{\\xa51\\xc2\\xb2\\xeb\\xcd\\x8f\\xd8\\x97g}\\x1dq\\xd7\\xdf\\xbc\\xbfN\\xb9\\x1c\\x8b\\xa32\\xb5~\\x0c\\x0bP.\\xe0\\x0b{\\xa51\\xc2\\xb2\\xeb\\xcd\\x8f\\xd8\\x97g}\\x1dq\\xd7'"
            ]
          },
          "metadata": {},
          "execution_count": 71
        }
      ]
    },
    {
      "cell_type": "code",
      "metadata": {
        "id": "XEtL3lBtv79t"
      },
      "source": [
        ""
      ],
      "execution_count": null,
      "outputs": []
    }
  ]
}