{
  "nbformat": 4,
  "nbformat_minor": 0,
  "metadata": {
    "colab": {
      "provenance": [],
      "toc_visible": true,
      "authorship_tag": "ABX9TyPRwxbCrg+Su0LXVsAuHA3g",
      "include_colab_link": true
    },
    "kernelspec": {
      "name": "python3",
      "display_name": "Python 3"
    },
    "language_info": {
      "name": "python"
    }
  },
  "cells": [
    {
      "cell_type": "markdown",
      "metadata": {
        "id": "view-in-github",
        "colab_type": "text"
      },
      "source": [
        "<a href=\"https://colab.research.google.com/github/Jamesalambert/cryptopals/blob/main/set_3.ipynb\" target=\"_parent\"><img src=\"https://colab.research.google.com/assets/colab-badge.svg\" alt=\"Open In Colab\"/></a>"
      ]
    },
    {
      "cell_type": "markdown",
      "metadata": {
        "id": "A1NmArsNykup"
      },
      "source": [
        "# 1. The CBC padding oracle\n",
        "This is the best-known attack on modern block-cipher cryptography.\n",
        "\n",
        "Combine your padding code and your CBC code to write two functions.\n",
        "\n",
        "The first function should select at random one of the following 10 strings:\n",
        "```\n",
        "MDAwMDAwTm93IHRoYXQgdGhlIHBhcnR5IGlzIGp1bXBpbmc=\n",
        "MDAwMDAxV2l0aCB0aGUgYmFzcyBraWNrZWQgaW4gYW5kIHRoZSBWZWdhJ3MgYXJlIHB1bXBpbic=\n",
        "MDAwMDAyUXVpY2sgdG8gdGhlIHBvaW50LCB0byB0aGUgcG9pbnQsIG5vIGZha2luZw==\n",
        "MDAwMDAzQ29va2luZyBNQydzIGxpa2UgYSBwb3VuZCBvZiBiYWNvbg==\n",
        "MDAwMDA0QnVybmluZyAnZW0sIGlmIHlvdSBhaW4ndCBxdWljayBhbmQgbmltYmxl\n",
        "MDAwMDA1SSBnbyBjcmF6eSB3aGVuIEkgaGVhciBhIGN5bWJhbA==\n",
        "MDAwMDA2QW5kIGEgaGlnaCBoYXQgd2l0aCBhIHNvdXBlZCB1cCB0ZW1wbw==\n",
        "MDAwMDA3SSdtIG9uIGEgcm9sbCwgaXQncyB0aW1lIHRvIGdvIHNvbG8=\n",
        "MDAwMDA4b2xsaW4nIGluIG15IGZpdmUgcG9pbnQgb2g=\n",
        "MDAwMDA5aXRoIG15IHJhZy10b3AgZG93biBzbyBteSBoYWlyIGNhbiBibG93\n",
        "```\n",
        "... generate a random AES key (which it should save for all future encryptions), pad the string out to the 16-byte AES block size and CBC-encrypt it under that key, providing the caller the ciphertext and IV.\n",
        "\n",
        "The second function should consume the ciphertext produced by the first function, decrypt it, check its padding, and return true or false depending on whether the padding is valid.\n",
        "\n",
        "## What you're doing here.\n",
        "This pair of functions approximates AES-CBC encryption as its deployed serverside in web applications; the second function models the server's consumption of an encrypted session token, as if it was a cookie.\n",
        "\n",
        "It turns out that it's possible to decrypt the ciphertexts provided by the first function.\n",
        "\n",
        "The decryption here depends on a side-channel leak by the decryption function. The leak is the error message that the padding is valid or not.\n",
        "\n",
        "You can find 100 web pages on how this attack works, so I won't re-explain it. What I'll say is this:\n",
        "\n",
        "The fundamental insight behind this attack is that the byte 01h is valid padding, and occur in 1/256 trials of \"randomized\" plaintexts produced by decrypting a tampered ciphertext.\n",
        "\n",
        "02h in isolation is not valid padding.\n",
        "\n",
        "02h 02h is valid padding, but is much less likely to occur randomly than 01h.\n",
        "\n",
        "03h 03h 03h is even less likely.\n",
        "\n",
        "So you can assume that if you corrupt a decryption AND it had valid padding, you know what that padding byte is.\n",
        "\n",
        "It is easy to get tripped up on the fact that CBC plaintexts are \"padded\". Padding oracles have nothing to do with the actual padding on a CBC plaintext. It's an attack that targets a specific bit of code that handles decryption. You can mount a padding oracle on any CBC block, whether it's padded or not."
      ]
    },
    {
      "cell_type": "code",
      "metadata": {
        "cellView": "form",
        "id": "NWxWLZ_V0V7M",
        "outputId": "64927bc1-094d-4621-c77e-1e6e589d79f5",
        "colab": {
          "base_uri": "https://localhost:8080/"
        }
      },
      "source": [
        "#@title installing cryptography\n",
        "!pip3 install cryptography --quiet"
      ],
      "execution_count": null,
      "outputs": [
        {
          "output_type": "stream",
          "name": "stdout",
          "text": [
            "\u001b[K     |████████████████████████████████| 3.6 MB 8.4 MB/s \n",
            "\u001b[?25h"
          ]
        }
      ]
    },
    {
      "cell_type": "code",
      "metadata": {
        "id": "OWaRHGsXyWfP",
        "cellView": "form",
        "outputId": "4714288b-1c93-491f-f373-e726241ad862",
        "colab": {
          "base_uri": "https://localhost:8080/"
        }
      },
      "source": [
        "#@title pkcs7 padding\n",
        "validPKCSStrings = [b'ICE ICE BABY\\x04\\x04\\x04\\x04']\n",
        "invalidPKCSStrings = [b'ICE ICE BABY\\x05\\x05\\x05\\x05', b'ICE ICE BABY\\x01\\x02\\x03\\x04']\n",
        "\n",
        "def pkcs7Padding(data, blockSize):\n",
        "    overhang = len(data) % blockSize\n",
        "    paddingLength = blockSize if overhang == 0 else blockSize - overhang\n",
        "    padding = bytes([paddingLength] * paddingLength)\n",
        "    return data + padding\n",
        "\n",
        "def removePadding(data):\n",
        "    lastByte = int(data[-1])\n",
        "    endIndex = -1 * lastByte\n",
        "    if data[endIndex:] == bytes([lastByte] * lastByte):\n",
        "        return data[:endIndex]\n",
        "    else:\n",
        "        raise ValueError(\"Invalid PKCS7 padding\", data)\n",
        "\n",
        "\n",
        "for candidate in validPKCSStrings + invalidPKCSStrings:\n",
        "    try:\n",
        "        print(removePadding(candidate))\n",
        "    except ValueError as error:\n",
        "        print(error.args)"
      ],
      "execution_count": null,
      "outputs": [
        {
          "output_type": "stream",
          "name": "stdout",
          "text": [
            "b'ICE ICE BABY'\n",
            "('Invalid PKCS7 padding', b'ICE ICE BABY\\x05\\x05\\x05\\x05')\n",
            "('Invalid PKCS7 padding', b'ICE ICE BABY\\x01\\x02\\x03\\x04')\n"
          ]
        }
      ]
    },
    {
      "cell_type": "code",
      "metadata": {
        "cellView": "form",
        "id": "8A1ga8DJ0A_y"
      },
      "source": [
        "#@title helper functions\n",
        "import random\n",
        "\n",
        "def xorBytes(in1, in2):\n",
        "  xor = bytes([x ^ y for (x,y) in zip(in1, in2)])\n",
        "  return xor\n",
        "\n",
        "def reshape(data, keySize):\n",
        "  dataSize = len(data)\n",
        "\n",
        "  out = []\n",
        "  data = pkcs7Padding(data, keySize)\n",
        "\n",
        "  startIndex = 0\n",
        "  endIndex = keySize\n",
        "\n",
        "  for i in range(0, dataSize, keySize):\n",
        "    out += [data[startIndex : endIndex]]\n",
        "    startIndex += keySize\n",
        "    endIndex += keySize\n",
        "  return out\n",
        "\n",
        "def flatten(byteArray):\n",
        "    flatData = b''\n",
        "    for byte in byteArray:\n",
        "        flatData += byte\n",
        "    return flatData\n",
        "\n",
        "def randomBytes(length):\n",
        "    return bytes([random.randint(0,255) for i in range(length)])\n"
      ],
      "execution_count": null,
      "outputs": []
    },
    {
      "cell_type": "code",
      "metadata": {
        "cellView": "form",
        "id": "gbEf4BJo0MPW"
      },
      "source": [
        "#@title AES - ECB\n",
        "from cryptography.hazmat.primitives.ciphers import Cipher, algorithms, modes\n",
        "\n",
        "testString = b\"hbdft3fsbnhlngbe\"\n",
        "testKey = b\"yellow submarine\"\n",
        "\n",
        "def encryptAES_ECB(data, key):\n",
        "    # paddedData = pkcs7Padding(data, len(key))\n",
        "\n",
        "    AESCipher = Cipher(algorithms.AES(key), modes.ECB())\n",
        "    encryptor = AESCipher.encryptor()\n",
        "\n",
        "    ciphertextBytes = encryptor.update(data) + encryptor.finalize()\n",
        "    return ciphertextBytes\n",
        "\n",
        "def decryptAES_ECB(data, key):\n",
        "\n",
        "    # paddedData = pkcs7Padding(data, len(key))\n",
        "\n",
        "    AESCipher = Cipher(algorithms.AES(key), modes.ECB())\n",
        "    decryptor = AESCipher.decryptor()\n",
        "\n",
        "    plaintextBytes = decryptor.update(data) + decryptor.finalize()\n",
        "    return plaintextBytes\n",
        "\n",
        "paddedPT = pkcs7Padding(testString, len(testKey))\n",
        "ct = encryptAES_ECB(paddedPT, testKey)\n",
        "recoveredPlaintext = decryptAES_ECB(ct, testKey)\n",
        "\n",
        "assert removePadding(recoveredPlaintext) == testString\n",
        "# print(f\"in: {testString}\\nct: {ct}\\npt: {recoveredPlaintext}\")"
      ],
      "execution_count": null,
      "outputs": []
    },
    {
      "cell_type": "code",
      "metadata": {
        "cellView": "form",
        "id": "1Pa3aGSxzkqz"
      },
      "source": [
        "#@title AES - CBC\n",
        "testString = b\"9AuhqAjjiKLU&>\\rY5LtmCn`\\rb\\x0bU ga&,jg\\r\\x0bJv|6h1%7Q'w\\x0c0gLRe\\x0c^jzO.6UhPp$|fij6D\\rk\\x0c(rvH\\x0c'pe3VPnQn[\\nyJz\\\\3-nYJFJ(A[CxGt2~Fq\\\\ V\\n&=#>[hTt9EM>#O!,mX*jF0D%r{PL$6yB:}PZ+]4#hN3}\"\n",
        "testKey = b\"YELLOW SUBMARINE\"\n",
        "testIV = b\"0000000000000000\"\n",
        "\n",
        "def encryptAES_CBC(data, key, iv):\n",
        "    acc = iv\n",
        "    shapedData = reshape(data, len(key))\n",
        "    shapedAcc = reshape(acc, len(key))\n",
        "    # print(f\"Encrypting blocks = {len(shapedData)}\")\n",
        "    for block in shapedData:\n",
        "        newBlock = xorBytes(block, shapedAcc[-1])\n",
        "        # print(f\"new_block ({len(newBlock)}): {newBlock}\")\n",
        "        newCTBlock = encryptAES_ECB(newBlock, key)\n",
        "        # print(f\"new_ct ({len(newCTBlock)}): {newCTBlock}\")\n",
        "        shapedAcc.append(newCTBlock)\n",
        "    return flatten(shapedAcc)\n",
        "\n",
        "\n",
        "def decryptAES_CBC(data, key):\n",
        "    shapedCt = reshape(data, len(key))\n",
        "    shapedPt = []\n",
        "    for blockIndex in range(len(shapedCt) - 1):\n",
        "        decryptedBlock = decryptAES_ECB(shapedCt[blockIndex + 1], key)\n",
        "        newPtBlock = xorBytes(decryptedBlock, shapedCt[blockIndex] )\n",
        "        shapedPt.append(newPtBlock)\n",
        "    return flatten(shapedPt)\n",
        "\n",
        "#testing\n",
        "ciphertext = encryptAES_CBC(testString, testKey, testIV)\n",
        "plaintext = decryptAES_CBC(ciphertext,testKey)\n",
        "assert plaintext == testString"
      ],
      "execution_count": null,
      "outputs": []
    },
    {
      "cell_type": "code",
      "metadata": {
        "cellView": "form",
        "id": "2QgyVIf01FjY"
      },
      "source": [
        "#@title ex-1 data + key\n",
        "testStrings = [\n",
        "'MDAwMDAwTm93IHRoYXQgdGhlIHBhcnR5IGlzIGp1bXBpbmc=',\n",
        "'MDAwMDAxV2l0aCB0aGUgYmFzcyBraWNrZWQgaW4gYW5kIHRoZSBWZWdhJ3MgYXJlIHB1bXBpbic=',\n",
        "'MDAwMDAyUXVpY2sgdG8gdGhlIHBvaW50LCB0byB0aGUgcG9pbnQsIG5vIGZha2luZw==',\n",
        "'MDAwMDAzQ29va2luZyBNQydzIGxpa2UgYSBwb3VuZCBvZiBiYWNvbg==',\n",
        "'MDAwMDA0QnVybmluZyAnZW0sIGlmIHlvdSBhaW4ndCBxdWljayBhbmQgbmltYmxl',\n",
        "'MDAwMDA1SSBnbyBjcmF6eSB3aGVuIEkgaGVhciBhIGN5bWJhbA==',\n",
        "'MDAwMDA2QW5kIGEgaGlnaCBoYXQgd2l0aCBhIHNvdXBlZCB1cCB0ZW1wbw==',\n",
        "'MDAwMDA3SSdtIG9uIGEgcm9sbCwgaXQncyB0aW1lIHRvIGdvIHNvbG8=',\n",
        "'MDAwMDA4b2xsaW4nIGluIG15IGZpdmUgcG9pbnQgb2g=',\n",
        "'MDAwMDA5aXRoIG15IHJhZy10b3AgZG93biBzbyBteSBoYWlyIGNhbiBibG93',\n",
        "]\n",
        "ex1Key = b'\\xf7Et\\x82\\x10\\xc7\\x01.*_\\xe1\\x1eY\\xff$\\xc5'"
      ],
      "execution_count": null,
      "outputs": []
    },
    {
      "cell_type": "code",
      "metadata": {
        "id": "jjwgJaA91lJI"
      },
      "source": [
        "def encryptRandomlyChosenString():\n",
        "    string = random.choice(testStrings)\n",
        "    pt = pkcs7Padding(bytes(string, 'ascii'), 16)\n",
        "    iv = randomBytes(16)\n",
        "    key = ex1Key\n",
        "    return (encryptAES_CBC(pt, key, iv), iv)\n",
        "\n",
        "def decryptAndCheckPadding(data):\n",
        "    recoveredPT = decryptAES_CBC(data, ex1Key)\n",
        "    try:\n",
        "        removePadding(recoveredPT)\n",
        "    except ValueError:\n",
        "        return False\n",
        "    return True\n",
        "\n",
        "ct, iv = encryptRandomlyChosenString()\n",
        "assert decryptAndCheckPadding(ct)"
      ],
      "execution_count": null,
      "outputs": []
    },
    {
      "cell_type": "code",
      "metadata": {
        "colab": {
          "base_uri": "https://localhost:8080/"
        },
        "id": "xrD5LZM3281e",
        "outputId": "9464841e-1be0-4e00-f410-13001dfd301c"
      },
      "source": [
        "#Any byte string ending with 1 is valid pkcs7\n",
        "removePadding(randomBytes(5) + bytes([1]))"
      ],
      "execution_count": null,
      "outputs": [
        {
          "output_type": "execute_result",
          "data": {
            "text/plain": [
              "b'\\xb3\\x0e\\x05\\xc6$'"
            ]
          },
          "metadata": {},
          "execution_count": 12
        }
      ]
    },
    {
      "cell_type": "code",
      "metadata": {
        "id": "4M3_JhYBL39s"
      },
      "source": [
        "ct = bytearray(encryptRandomlyChosenString()[0])"
      ],
      "execution_count": null,
      "outputs": []
    }
  ]
}