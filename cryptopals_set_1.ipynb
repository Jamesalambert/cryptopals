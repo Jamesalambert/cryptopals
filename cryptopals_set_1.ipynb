{
  "nbformat": 4,
  "nbformat_minor": 0,
  "metadata": {
    "colab": {
      "name": "cryptopals set 1.ipynb",
      "provenance": [],
      "collapsed_sections": []
    },
    "kernelspec": {
      "display_name": "Python 3",
      "language": "python",
      "name": "python3"
    },
    "language_info": {
      "codemirror_mode": {
        "name": "ipython",
        "version": 3
      },
      "file_extension": ".py",
      "mimetype": "text/x-python",
      "name": "python",
      "nbconvert_exporter": "python",
      "pygments_lexer": "ipython3",
      "version": "3.8.5"
    }
  },
  "cells": [
    {
      "cell_type": "code",
      "metadata": {
        "id": "b5kOcsqouN5i"
      },
      "source": [
        "#@title imports\n",
        "import math, string, base64\n",
        "import itertools as it"
      ],
      "execution_count": 1,
      "outputs": []
    },
    {
      "cell_type": "markdown",
      "metadata": {
        "id": "5ODZGVFDBz_I"
      },
      "source": [
        "# 1. Hex to base64\n",
        "Mathematically first"
      ]
    },
    {
      "cell_type": "code",
      "metadata": {
        "colab": {
          "base_uri": "https://localhost:8080/"
        },
        "id": "NC_kXJWztsLy",
        "outputId": "e0324d26-fda2-431a-9795-f8cca2d20352"
      },
      "source": [
        "hexString = \"49276d206b696c6c696e6720796f757220627261696e206c696b65206120706f69736f6e6f7573206d757368726f6f6d\"\n",
        "base64String = 'SSdtIGtpbGxpbmcgeW91ciBicmFpbiBsaWtlIGEgcG9pc29ub3VzIG11c2hyb29t'\n",
        "base64Alphabet = string.ascii_uppercase + string.ascii_lowercase + string.digits + '+/'\n",
        "\n",
        "# def hexadecimal(n):\n",
        "#   if n == 0: return \"0\"\n",
        "#   alphabet = string.digits + \"abcdef\"\n",
        "#   ans = \"\"\n",
        "#   while n >= 1:\n",
        "#     ans += alphabet[math.floor(n % 16)]\n",
        "#     n //= 16\n",
        "#   return ans[::-1]\n",
        "\n",
        "# def base64(n):\n",
        "#   if n == 0: return \"0\"\n",
        "#   alphabet = string.ascii_uppercase + string.ascii_lowercase + string.digits + '+' + '/'\n",
        "#   ans = \"\"\n",
        "#   while n >= 1:\n",
        "#     #print(n)\n",
        "#     ans += alphabet[math.floor(n % 64)]\n",
        "#     n //= 64\n",
        "#   return ans[::-1]\n",
        "\n",
        "def hexTo64(hexString):\n",
        "  n = int(hexString, 16)\n",
        "  if n == 0: return \"0\"\n",
        "  ans = \"\"\n",
        "  while n >= 1:\n",
        "    #print(n)\n",
        "    ans += base64Alphabet[math.floor(n % 64)]\n",
        "    n //= 64\n",
        "  return ans[::-1]\n",
        "\n",
        "hexTo64(hexString) == base64String"
      ],
      "execution_count": 2,
      "outputs": [
        {
          "output_type": "execute_result",
          "data": {
            "text/plain": [
              "True"
            ]
          },
          "metadata": {},
          "execution_count": 2
        }
      ]
    },
    {
      "cell_type": "markdown",
      "metadata": {
        "id": "-BgTfDIojY8i"
      },
      "source": [
        "using the bytes and base64 libs"
      ]
    },
    {
      "cell_type": "code",
      "metadata": {
        "colab": {
          "base_uri": "https://localhost:8080/"
        },
        "id": "4gWtPjlSil37",
        "outputId": "a1028455-2c13-469e-ee00-e443cc0c6896"
      },
      "source": [
        "hexStringAsBytes = bytes.fromhex(hexString)\n",
        "base64Bytes = base64.encodebytes(hexStringAsBytes)\n",
        "print(f\"Hex bytes:\\t{hexStringAsBytes}\")\n",
        "print(f\"base64 bytes:\\t{base64Bytes}\")\n",
        "\n",
        "#check the decoded string matches the target. After removing whitespace.\n",
        "assert base64Bytes.decode().rstrip() == base64String"
      ],
      "execution_count": 3,
      "outputs": [
        {
          "output_type": "stream",
          "name": "stdout",
          "text": [
            "Hex bytes:\tb\"I'm killing your brain like a poisonous mushroom\"\n",
            "base64 bytes:\tb'SSdtIGtpbGxpbmcgeW91ciBicmFpbiBsaWtlIGEgcG9pc29ub3VzIG11c2hyb29t\\n'\n"
          ]
        }
      ]
    },
    {
      "cell_type": "markdown",
      "metadata": {
        "id": "Aegt5cTm-XI1"
      },
      "source": [
        "# 2. Fixed XOR"
      ]
    },
    {
      "cell_type": "code",
      "metadata": {
        "colab": {
          "base_uri": "https://localhost:8080/"
        },
        "id": "loIuZ4yu-H2P",
        "outputId": "bed8d8f9-d193-4240-f28a-0d4de2c98bbe"
      },
      "source": [
        "inString1 = \"1c0111001f010100061a024b53535009181c\"\n",
        "inString2 = \"686974207468652062756c6c277320657965\"\n",
        "targetString = \"746865206b696420646f6e277420706c6179\"\n",
        "\n",
        "def xorHexBytes(in1, in2):\n",
        "  in1B = bytes.fromhex(in1)\n",
        "  in2B = bytes.fromhex(in2)\n",
        "  xor = bytes([x ^ y for (x,y) in zip(in1B, in2B)])\n",
        "  return xor.hex()\n",
        "\n",
        "xorResult = xorHexBytes(inString1, inString2)\n",
        "\n",
        "print(f\"base 64:\\t{bytes.fromhex(inString1)}\")\n",
        "print(f\"base 64:\\t{bytes.fromhex(inString2)}\")\n",
        "print(f\"base 64:\\t{bytes.fromhex(xorResult)}\")\n",
        "print(f\"xorResult:\\t{xorResult}\")\n",
        "\n",
        "assert targetString == xorResult"
      ],
      "execution_count": 4,
      "outputs": [
        {
          "output_type": "stream",
          "name": "stdout",
          "text": [
            "base 64:\tb'\\x1c\\x01\\x11\\x00\\x1f\\x01\\x01\\x00\\x06\\x1a\\x02KSSP\\t\\x18\\x1c'\n",
            "base 64:\tb\"hit the bull's eye\"\n",
            "base 64:\tb\"the kid don't play\"\n",
            "xorResult:\t746865206b696420646f6e277420706c6179\n"
          ]
        }
      ]
    },
    {
      "cell_type": "markdown",
      "metadata": {
        "id": "6OO2K2QYB4ss"
      },
      "source": [
        "# 3. Single-byte XOR cipher"
      ]
    },
    {
      "cell_type": "code",
      "metadata": {
        "colab": {
          "base_uri": "https://localhost:8080/"
        },
        "id": "e5FR1HFl6_lX",
        "outputId": "c379cdaf-74ba-4e27-e6f6-72bbd47cf0ab"
      },
      "source": [
        "ciphertext = '1b37373331363f78151b7f2b783431333d78397828372d363c78373e783a393b3736'\n",
        "\n",
        "frequencies = {\n",
        "    'a': 0.0651738, 'b': 0.0124248, 'c': 0.0217339, 'd': 0.0349835, 'e': 0.1041442, 'f': 0.0197881, 'g': 0.0158610,\n",
        "    'h': 0.0492888, 'i': 0.0558094, 'j': 0.0009033, 'k': 0.0050529, 'l': 0.0331490, 'm': 0.0202124, 'n': 0.0564513,\n",
        "    'o': 0.0596302, 'p': 0.0137645, 'q': 0.0008606, 'r': 0.0497563, 's': 0.0515760, 't': 0.0729357, 'u': 0.0225134,\n",
        "    'v': 0.0082903, 'w': 0.0171272, 'x': 0.0013692, 'y': 0.0145984, 'z': 0.0007836, ' ': 0.1918182\n",
        "}\n",
        "\n",
        "def englishScore(testBytes):\n",
        "  score = 0\n",
        "  for byte in testBytes:\n",
        "    score += frequencies.get(chr(byte).lower(), 0)\n",
        "  return score\n",
        "\n",
        "def isProbablyEnglish(testStr):\n",
        "  testStr = str(testStr)\n",
        "  testStr = testStr.lower()\n",
        "  length = len(testStr)\n",
        "  \n",
        "  #count characters\n",
        "  testFrequencies = [testStr.count(char) / length for char in frequencies.keys()]\n",
        "\n",
        "  #compare to standard probabilities\n",
        "  sqDiffs = [(a - b)**2 for a,b in zip(testFrequencies, frequencies.values())]\n",
        "  sqDiff = sum(sqDiffs)\n",
        "  return sqDiff\n",
        "\n",
        "\n",
        "def trySingleCharXOR(ciphertext):\n",
        "\n",
        "  candidateSolutions = []\n",
        "#   for candidateKey in range(32,256):\n",
        "  for candidateKey in string.printable:\n",
        "#     convert to int\n",
        "    candidateKey = bytes(candidateKey, 'ascii')[0]\n",
        "    pt = b''\n",
        "    for byte in ciphertext:\n",
        "      pt += bytes([byte ^ candidateKey])\n",
        "\n",
        "    candidateSolution = pt\n",
        "\n",
        "    sqDiff = isProbablyEnglish(candidateSolution)\n",
        "\n",
        "    # score = englishScore(candidateSolution)\n",
        "    candidateSolutions.append( (sqDiff, candidateKey, candidateSolution))\n",
        "\n",
        "  candidateSolutions = sorted(candidateSolutions)\n",
        "  return candidateSolutions\n",
        "\n",
        "ciphertext = bytes.fromhex(ciphertext)\n",
        "print(ciphertext)\n",
        "\n",
        "results = trySingleCharXOR(ciphertext)\n",
        "\n",
        "for score, key, pt in results[:1]:\n",
        "  print(f\"score: {score:.1f}\\nkey: {key}\\n{pt.decode()}\\n\")"
      ],
      "execution_count": 5,
      "outputs": [
        {
          "output_type": "stream",
          "name": "stdout",
          "text": [
            "b'\\x1b77316?x\\x15\\x1b\\x7f+x413=x9x(7-6<x7>x:9;76'\n",
            "score: 0.0\n",
            "key: 88\n",
            "Cooking MC's like a pound of bacon\n",
            "\n"
          ]
        }
      ]
    },
    {
      "cell_type": "markdown",
      "metadata": {
        "id": "OL1Ul4XYLXHb"
      },
      "source": [
        "# 4. Detect single-char XOR\n",
        "data in the hidden cell below"
      ]
    },
    {
      "cell_type": "code",
      "metadata": {
        "cellView": "form",
        "id": "7HNs4expHJK7",
        "jupyter": {
          "source_hidden": true
        }
      },
      "source": [
        "#@title ciphertext \n",
        "ex4data = \"\"\"\n",
        "0e3647e8592d35514a081243582536ed3de6734059001e3f535ce6271032\n",
        "334b041de124f73c18011a50e608097ac308ecee501337ec3e100854201d\n",
        "40e127f51c10031d0133590b1e490f3514e05a54143d08222c2a4071e351\n",
        "45440b171d5c1b21342e021c3a0eee7373215c4024f0eb733cf006e2040c\n",
        "22015e420b07ef21164d5935e82338452f42282c1836e42536284c450de3\n",
        "043b452e0268e7eb005a080b360f0642e6e342005217ef04a42f3e43113d\n",
        "581e0829214202063d70030845e5301f5a5212ed0818e22f120b211b171b\n",
        "ea0b342957394717132307133f143a1357e9ed1f5023034147465c052616\n",
        "0c300b355c2051373a051851ee154a023723414c023a08171e1b4f17595e\n",
        "550c3e13e80246320b0bec09362542243be42d1d5d060e203e1a0c66ef48\n",
        "e159464a582a6a0c50471310084f6b1703221d2e7a54502b2b205c433afa\n",
        "ec58ea200e3005090e1725005739eda7342aed311001383fff7c58ef1f11\n",
        "01305424231c0d2c41f105057f74510d335440332f1038ec17275f5814e1\n",
        "05f12f380720ea2b19e24a07e53c142128354e2827f25a08fb401c3126a6\n",
        "0d17272f53063954163d050a541b1f1144305ae37d4932431b1f33140b1b\n",
        "0b4f070f071fe92c200e1fa05e4b272e50201b5d493110e429482c100730\n",
        "100a3148080f227fe60a132f0c10174fe3f63d1a5d38eb414ca8e82f2b05\n",
        "0a19e83c58400a023b13234572e6e4272bf67434331631e63b5e0f00175c\n",
        "54520c2ceb45530e0f78111d0b0707e01e4bf43b0606073854324421e6f9\n",
        "09e7585353ee4a34190de1354e481c373a1b2b0a136127383e271212191f\n",
        "0f060d09fb4f2d5024022c5ff6463c390c2b5f1a5532071a31f33503fcea\n",
        "371d39121605584f48217235ee1e0602445c162e4942254c071954321d29\n",
        "4a0900e63e5f161e15554045f3594c2a6a77e4e52711602beaf53ae53bed\n",
        "29011616565d2a372a605bee39eced31183fe068185c3b445b391fe53232\n",
        "e4102337000303452a1e2f2b29493f54ed5a037b3e08311b625cfd005009\n",
        "2d560d4b0618203249312a310d5f541f295c3f0f25235c2b20037d1600f3\n",
        "2c245155e8253708391a7ceb0d05005c3e080f3f0f0e5a16583b111f4448\n",
        "493804044d262eec3759594f212d562420105d6a39e70a0f3957f347070c\n",
        "e72d1d1f103807590f4339575e00381074485d2d580249f744052605e11d\n",
        "e131570ae95307143a71131729552d001057a4540a1f425b190b572dee34\n",
        "2c1655342f02581c202b0a5c17a358291e1506f325550f05365e165c1c5f\n",
        "e318164df80b043e5406296e5359271d152f552e155a43eda81f23231d1c\n",
        "001de0413e174e18192c061e4b3d1b5626f90e3e1429544a20ee150d0c20\n",
        "32e902193219033c58191302441a5c1b584825ea140c290927aaea53e23c\n",
        "3a36363a732e32ea3f0e430508204b332c382a19292d5b291122e123446a\n",
        "1804115614031f5f571f2b143c5d3c1b257a4b37350f18445a3e08341c3d\n",
        "21f2fb250b2e55151e77253a3f0e5f4b2030370a4155e720e73914e35a4a\n",
        "510a55583a3c491221397c123a2b14a8305b3b09e71b241d0e51202e1a32\n",
        "1b51202f4917232b512a141d6812f03c455df05e5a1c2cee14390b3b593a\n",
        "5f5731e5203116ee131a4a4b24112cef5d0822f035e6547d3a0014462f26\n",
        "0028fb522104f771501a555d3f581e30e9ec3e49e3e63123432f07794145\n",
        "1459f6312f000e5a1373e346e40f211e1b0b0e17000f391f170552150500\n",
        "7e301e18325717e3412e022f087be30e5641080151357714e0e0eee15e11\n",
        "533258e9360f513b083aa51d2824222f40200a470537ecec392d31070b38\n",
        "07e32c180dfa56496a461627542115132a4c284050495b23e2245b093159\n",
        "2d3c230a1e5a300f6c3e26ed0d1709434950fd6f1e121335054129e4e4ec\n",
        "ef22fa2112311b11584ce43434f46f521a215433f9514fe33d313a3e0838\n",
        "34e7f336270c08010f2f544f0f1c1e235c0222644c2632efec061de2115f\n",
        "121a42395d4c560d213b0c0a26a7e4f4382718153d5e511158a10b2c021e\n",
        "e05d414dfa40222f0c382a03235f4d0d04372d4b7855105e26e44f2e0555\n",
        "7f3a4f1351f85b0344223e1177e14707190c0e311f4ca633f5f3e9352372\n",
        "01424d5d1a322a0d381717130e181d07240c2c19ecee750b1a37085d014c\n",
        "16012c5de55a0314a8260e2759e439123ca0c81c321d454e4e0ee14f4c1d\n",
        "0b1415512f38580e4e2a227def242643183c224f0ea146443403022fe9fd\n",
        "43eb2b1078322a02192d5b5e0c360d584d0b5e2c13072912ee32f03f4155\n",
        "002a52553e08361b0be0074b573e201c164c093a5c0f0159333b59770d5b\n",
        "38e63c1c5244301a5a01f26930321256143e1ae05e1120a9eaf20a192d58\n",
        "7d54140a152ef4035f09083ded531ee04df55848020656a1342e502649eb\n",
        "0c211dfe101702015516341136252f3f06f73247133113f5642d083a3417\n",
        "015e3d51433f3c003e5e28030b1d413eee186824504b241e0f0d32373e2b\n",
        "2d465040ec130c5c0e2704aa17010c40095207223669110f22f45ea155f7\n",
        "14552e2b341e5ce0195351066a23e3283e0ee935444b255a1c5c3cef7614\n",
        "372b453d5a357c05142be65b3c17f92d2b134853390a312bf92a531b513d\n",
        "5658265f4c0ce4440a20322f591a413034292b312206a01be6453a512d21\n",
        "1c585c19f31f785324f8583d1ee02620342b10a236263f105011ee5b0e14\n",
        "0f522b550818591a752e5fea0e033322ee5e280a4a1b244f5a2b35341255\n",
        "39093c1ced331b264127173f1312e2455fa33b31012c1f4d073c553f5d5e\n",
        "18f82d5d07e2430b3b3c1b5b49effb0313173f5d4a2e5c134555ff6b1d1a\n",
        "550a20234202726341190311295254f4064205aa515ae0145a23071c4e18\n",
        "3f2047024e3ce4555a1b39fa145455012c3afb0f2d11134846182e3c575b\n",
        "e3e456571937762828065443153b51152e262f09c937024405284f236432\n",
        "012f580c3536ec5c021574541d5c41123a4e661d5f0f5f344a083e3a5e4c\n",
        "4216252d01eb0a2a4623621b48360d312c29f33e380650447617124b3e71\n",
        "54141e59323606390204e95f1206520e5c084510034d30171c5e744f335d\n",
        "1e30061401600b342e171059526d1949431a3f412f56594c183711ea4837\n",
        "3131254f11e76f550e1e4d26f1391f44363b151c31281ff45259351da0e6\n",
        "5def250d0f3505385f22e9f4112633005d272d092e0138275851f943e90e\n",
        "0939165718303b445210095c16390cf04f19450e06f4545c0a0c320e3e23\n",
        "1e0b0b1f573f3d0fe05d43090fa8482242300819313142325b1f4b19365b\n",
        "0d3b2a5d271e463d2203765245065d5d684a051e5815265b52f3171d3004\n",
        "6af423303817a43324394af15a5c482e3b16f5a46f1e0b5c1201214b5fe4\n",
        "4030544f3f51151e436e04203a5e3b287ee303490a43fb3b28042f36504e\n",
        "1a2d5a03fc0e2c04384046242e2b5e1548101825eb2f285f1a210f022141\n",
        "122355e90122281deeed3ba05636003826525d5551572d07030d4935201f\n",
        "2a3c484a15410d3b16375d4665271b5c4ce7ee37083d3e512b45204f17f6\n",
        "03222801255c2c211a7aeb1e042b4e38e8f1293143203139fb202c325f2b\n",
        "06542a28041956350e292bf3fe5c32133a2a171b3a3e4e4e3101381529e3\n",
        "4a5209ef24e5f3225e503b143d0e5747323fe7ee3d5b1b5110395619e65a\n",
        "1fee0a3945563d2b5703701817584b5f5b54702522f5031b561929ea2d1e\n",
        "e7271935100e3c31211b23113a3a5524e02241181a251d521ff52f3c5a76\n",
        "144a0efee02f0f5f1d353a1c112e1909234f032953ec591e0a58e55d2cf4\n",
        "efee0cf00d0955500210015311467543544708eb590d113d30443d080c1e\n",
        "1a562c1f7e2b0030094f051c03e30f4d501a0fe22a2817edfc5e470c3843\n",
        "1c3df1135321a8e9241a5607f8305d571aa546001e3254555a11511924\n",
        "eb1d3f54ec0fea341a097c502ff1111524e24f5b553e49e8576b5b0e1e33\n",
        "72413e2f5329e332ec563b5e65185efefd2c3b4e5f0b5133246d214a401d\n",
        "352a0ae632183d200a162e5346110552131514e0553e51003e220d47424b\n",
        "1d005c58135f3c1b53300c3b49263928f55625454f3be259361ded1f0834\n",
        "2d2457524a1e1204255934174d442a1a7d130f350a123c4a075f5be73e30\n",
        "0c0518582d131f39575925e0231833370c482b270e183810415d5aec1900\n",
        "453b181df1572735380b0446097f00111f1425070b2e1958102ceb592928\n",
        "010a4a2d0b0926082d2f1525562d1d070a7a08152f5b4438a4150b132e20\n",
        "2b395d0d5d015d41335d21250de33e3d42152d3f557d1e44e4ee22255d2d\n",
        "4a1b5c272d0d1c45072639362e402dee2853e51311262b17aa72eb390410\n",
        "e7015f0215352030574b4108e44d0e1a204418e62325ff7f34052f234b2d\n",
        "1d563c13202346071d39e34055402b0b392c27f552222d3deb3843ee2c16\n",
        "29332a521f3c1b0811e33e1a25520e323e75e01c17473f55071226120d3d\n",
        "210b35ee1a0a5335222e35033905170c4f3104eb032d425058367d5a2bf2\n",
        "1e553809415efb1c460f2f0ffafaec491e4d4e49510452e8245a366a4106\n",
        "e1f92cee0e10142514e7ec13155c412fe901092f1f0fa738280c5eee5e04\n",
        "3526291e0b2a5f486a3051041f4c16372f5402e6f70b31a03525190b161a\n",
        "260e5e1f0c2e4d7528ef11552fefe247201e4752085c1da903563c162a4b\n",
        "2a14ff2e3265e604075e523b24455c364a7f284f3a43051d52152f1119e8\n",
        "5f02e55a4b1300063640ef10151002565f0b0c010033a1cbef5d3634484a\n",
        "1b121c585b495a5e033a09037f2d1754072c2d49084055172a3c220bed4f\n",
        "1613400e1632435c0018482aa55b363d26290ae4405ded280f2b0c271536\n",
        "4011250ce02119464a1de43113170356342c272d1d3355555e5706245e0a\n",
        "16272d5e545953002e10020875e223010719555410f91ce518420e382456\n",
        "0d4037320345f945241a1d090a545a310142442131464f4d10562ae4f05a\n",
        "07ee4d4ae12e571e313c1636313134233e495459e548317708563c2c1b2f\n",
        "e75803294b36565225552c3406304f0201e43323291b5e0e2159025c2f25\n",
        "5e63194411490c44494232237e1b323108573d3f391d1f3537e4165a2b35\n",
        "51000a3a264c503b5852072a5636f04f5cea58a42838f5fca876415c3521\n",
        "3c14130be511275932055a30aa2d03470c51060009f210543002585f5713\n",
        "10f0370c5823115200e5015d083e2f1a5df91d68065c1b03f0080855e529\n",
        "02ec00f1462d034123151ba6fc07eb3d5e54e85a3f3ee532fb41791a060b\n",
        "0c29274232f93efb3d465544e45e491b042ced245100e3f05c14134c254b\n",
        "5741235f051e080401a8013c065627e8ee5432205114243d54320e133f2d\n",
        "4a4d181635411f5d084e31ed230c16506d5125415e060e4dcd0e5f3708e3\n",
        "2d531c3e22065a5eee07310c145305131800063e4a20094b2006ea131240\n",
        "e7335c1c4308160be6aa551a0f5a58243e0b10ee470047683c345e1c5b0c\n",
        "5434505ee22a18110d20342e4b53062c4d79042a0a02422e225b2523e95a\n",
        "3252212407115c07e15eee06391d0519e9271b641330011f383410281f0e\n",
        "2cee2b355233292b595d1c69592f483b54584f7154fd4928560752e333a1\n",
        "17272b272f110df5e91c560a39104510240b5c4b0c1c570871e422351927\n",
        "c32550ec3f132c0c2458503ae5241d3c0d7911480a073826315620403615\n",
        "16e11c270d2b010650145de2290b0beb1e120a3a354b2104064f3b533c4e\n",
        "505746313d4d2e3455290a281ee81d50007e1148252528025237715a342a\n",
        "1c0a13163e404e40242142061d34185421160220fa031f7a423a08f2e01a\n",
        "101d303802f51b0c08ef461259315b553823e622a12d565509e23c624139\n",
        "0a3d1309e4384c0eed383846545a035a41ee1771513b090a031e15f45159\n",
        "2d4944092a1965542507003b23195758403e175a0a450c5c38114de21141\n",
        "eb100fe63a031c4b35eb591845e428441c0d5b0037131f5c160a31243619\n",
        "c155ef0d19143e24392507a202581a25491b135c27571d5c5b35250f0bef\n",
        "0e1d510556485e39557e044e2cf10457523016473f500b1e36370c17591c\n",
        "7e5a19250a5e152b46f5130a094cef08e84704ef10197324464b0114017a\n",
        "3b56f126390008343d3c400232ed201667211f0b1a1413080202530b08e2\n",
        "4912321b61c90a0cf6ef0a0a0c0f17fa62eb385e2616194526701aff5fe6\n",
        "2c57114b0400152d4f2aeb18ed41386c2e3a023a281d1a311eefe750ebab\n",
        "3a4353282114593b3e36446d2c5e1e582e335337022930331f211604576a\n",
        "295f3bfae9271ae8065a3b4417545c3e5b0df11a53351c78530915392d2e\n",
        "074a122ee01b17131e4e124e2322a9560ce4120e37582b24e1036fe93f30\n",
        "3c08290121090ef72f25e4f220323444532d3fe71f34553c7b2726131009\n",
        "12e84a3308590357a719e74c4f2133690a20031a0b045af63551325b1219\n",
        "0e3d4fe03f56523cf40f29e4353455120e3a4f2f26f6a30a2b3e0c5b085a\n",
        "57f3315c33e41c0f523426232d0651395c1525274e314d0219163b5f181f\n",
        "53471622182739e9e25b473d74e1e7023d095a3134e62d1366563004120e\n",
        "230a06431935391d5e0b5543223a3bed2b4358f555401e1b3b5c36470d11\n",
        "22100330e03b4812e6120f163b1ef6abebe6f602545ef9a459e33d334c2a\n",
        "463405faa655563a43532cfe154bec32fe3345eb2c2700340811213e5006\n",
        "14241340112b2916017c270a0652732ee8121132385a6c020c040e2be15b\n",
        "251119225c573b105d5c0a371c3d421ef23e22377fee334e0228561b2d15\n",
        "2e4c2e373b434b0d0b1b340c300e4b195614130ea03c234c292e14530c46\n",
        "0d2c3f08560ee32e5a5b6413355215384442563e69ec294a0eef561e3053\n",
        "193c100c0b24231c012273e10d2e12552723586120020b02e45632265e5f\n",
        "2c175a11553d4b0b16025e2534180964245b125e5d6e595d1d2a0710580b\n",
        "213a175ff30855e4001b305000263f5a5c3c5100163cee00114e3518f33a\n",
        "10ed33e65b003012e7131e161d5e2e270b4645f358394118330f5a5b241b\n",
        "33e80130f45708395457573406422a3b0d03e6e5053d0d2d151c083337a2\n",
        "551be2082b1563c4ec2247140400124d4b6508041b5a472256093aea1847\n",
        "7b5a4215415d544115415d5015455447414c155c46155f4058455c5b523f\n",
        "0864eb4935144c501103a71851370719301bec57093a0929ea3f18060e55\n",
        "2d395e57143359e80efffb13330633ea19e323077b4814571e5a3de73a1f\n",
        "52e73c1d53330846243c422d3e1b374b5209543903e3195c041c251b7c04\n",
        "2f3c2c28273a12520b482f18340d565d1fe84735474f4a012e1a13502523\n",
        "23340f39064e306a08194d544647522e1443041d5ee81f5a18415e34a45f\n",
        "475a392637565757730a0c4a517b2821040e1709e028071558021f164c54\n",
        "100b2135190505264254005618f51152136125370eef27383e45350118ed\n",
        "3947452914e0223f1d040943313c193f295b221e573e1b5723391d090d1f\n",
        "2c33141859392b04155e3d4e393b322526ee3e581d1b3d6817374d0c085b\n",
        "c2ea5821200f1b755b2d13130f04e26625ea3a5b1e37144d3e473c24030d\n",
        "ee15025d2019f757305e3f010e2a453a205f1919391e1a04e86d1a350119\n",
        "1a5beb4946180fe0002a031a050b41e5164c58795021e1e45c59e2495c20\n",
        "1121394f1e381c3647005b7326250514272b55250a49183be5454ba518eb\n",
        "1ee55936102a465d5004371f2e382f1d03144f170d2b0eed042ee341eb19\n",
        "ec1014ef3ff1272c3408220a41163708140b2e340e505c560c1e4cf82704\n",
        "274b341a454a27a0263408292e362c201c0401462049523b2d55e5132d54\n",
        "e259032c444b091e2e4920023f1a7ce40908255228e36f0f2424394b3c48\n",
        "34130cf8223f23084813e745e006531a1e464b005e0e1ee405413fe22b4e\n",
        "4af201080c0928420c2d491f6e5121e451223b070dee54244b3efc470a0e\n",
        "771c161f795df81c22101408465ae7ef0c0604733ee03a20560c1512f217\n",
        "2f3a142c4155073a200f04166c565634020a59ea04244ff7413c4bc10858\n",
        "240d4752e5fa5a4e1ce255505602e55d4c575e2b59f52b4e0c0a0b464019\n",
        "21341927f3380232396707232ae424ea123f5b371d4f65e2471dfbede611\n",
        "e10e1c3b1d4d28085c091f135b585709332c56134e4844552f45eb41172a\n",
        "3f1b5a343f034832193b153c482f1705392f021f5f0953290c4c43312b36\n",
        "3810161aea7001fb5d502b285945255d4ef80131572d2c2e59730e2c3035\n",
        "4d59052e1f2242403d440a13263e1d2dea0612125e16033b180834030829\n",
        "022917180d07474c295f793e42274b0e1e16581036225c1211e41e04042f\n",
        "ec2b41054f2a5f56065e5e0e1f56e13e0a702e1b2f2137020e363a2ae2a4\n",
        "53085a3b34e75a1caa2e5d031f261f5f044350312f37455d493f131f3746\n",
        "0c295f1724e90b001a4e015d27091a0b3256302c303d51a05956e6331531\n",
        "e42b315ce21f0def38144d20242845fa3f3b3b0ce8f4fb2d31ed1d54134b\n",
        "2957023141335d35372813263b46581af6535a16404d0b4ff12a207648ec\n",
        "e4421e301de25c43010c504e0f562f2018421ce137443b41134b5f542047\n",
        "0c5600294e085c1d3622292c480d261213e05c1334385108c145f3090612\n",
        "062d2e02267404241f4966e6e010052d3224e72856100b1d22f65a30e863\n",
        "324950394700e11a01201a0564525706f1013f353319076b4c0d015a2e24\n",
        "2a1be80e2013571522483b1e20321a4e03285d211a444d113924e8f41a1f\n",
        "27193ae2302208e73010eaa1292001045737013e10e4745aed2c105b25fb\n",
        "1b135d46eaef103e1d330a14337a2a4302441c1631ed07e7100c743a0e35\n",
        "1a0957115c293b1c0de853245b5b18e2e12d28421b3230245d7b4a55f355\n",
        "e7360e2b3846202a2926fa495e3302ed064d127a17343a1f11032b40e8f5\n",
        "06e8f90a3118381c5414157d1434050210363e30500511a00a3d56e10438\n",
        "30021931f7193e25a0540ef52658350929380974fb035b1a5d2c042959c7\n",
        "151b0c24052d0e56025404390e5a3909edec0d03070f040cff710825363e\n",
        "2a2328120b2203320810134a0c0a0ef30b25460bec011c1e26e913575a51\n",
        "e12d0948ed3c511416151d1c54082b3e385d14f838510bec4e4b5f585321\n",
        "1559305c3a49192a010f04ec11001a3d5a5621e5535358353206521f013f\n",
        "172c2c155a3a322009505c290516a2c4e4405a1e0a1e353b6e1a5a4e2f09\n",
        "552c34e2432b0df1132b130841000d4007232339a2092a593f142b0a0117\n",
        "0931432e452d3aea1d02587d3a3e56ed2a3050e2f9363df366331e421947\n",
        "0250094823545b20163f1d0a36a92228ed25564d1a304deae8035c32370d\n",
        "4314380e264e2359e6a412504a424328e84434ff30236649353315344a00\n",
        "25e33540550d3c15135b0eed451cfd1812eaf2063f085d6e214d121c342f\n",
        "37513b2d0a4e3e5211372a3a01334c5d51030c46463e3756290c0d0e1222\n",
        "132f175e4c4af1120138e1f2085a3804471f5824555d083de6123f533123\n",
        "0de11936062d3d2f12193e135f38ff5e1a531d1426523746004e2c063a27\n",
        "49241aee1802311611a50de9592009e936270108214a0c4213a01f09545f\n",
        "02e14d2babee204a5c4337135821360d021b7831305963ee0737072f0deb\n",
        "1512371119050c0c1142245a004f033650481830230a1925085c1a172726\n",
        "3be62f230a4b50526ec9345100252aa729eafa59221b3fa517304e500a15\n",
        "5e57f231333c3d0c470a47551733511031362a3bed0f334a3f3136104230\n",
        "eb24015d051a151f245905061a37ea273d2239fe02463a5e314d565f0457\n",
        "23025f415d290a594e3b5940313347a11c5e41531ff15a385a183829780a\n",
        "51e0035f2deb3b163eabe8550e2e0414491f573b5419234a28183044e112\n",
        "1d54e8390b26585f3aef5f14206672240c4a5e5d31e01b4d406e351401fa\n",
        "e555173e242c753b275d4ee50b2f26501402a71b1b5733ec19ee34284aed\n",
        "2ee8f023401c09383b084d623ef324ee5a33065a6d5e365b092c5d0d4501\n",
        "3f4e024d4b161e144d5e3b140d1e2944465b491d265603a705373c231240\n",
        "544f0d4ea6091e00e62d3e130d4f005139f339001a3b480c221b730be75e\n",
        "5f1f4f3e0a0dec3b5128e32960e42d0fee02275528154b10e65c36555a2e\n",
        "ea3e311b5b0f5f220b1f1b2914f12111f41213e06232224df5ec0114470d\n",
        "51203f1e01e5563851284013514a565e53125223052f47100e5011100201\n",
        "3f5bee2305217838582be55958a00245265b0308ec56525b5c114c2d5407\n",
        "e6e74818e53602160e45372029eb4de72754ec3f49290d2f5901014c0e7f\n",
        "08e715e612380a5c1908285a1222073a023c562907384e4f470444483f34\n",
        "1110382b5225343ba6092133483e2d683e1e280227084a1e405e3a341513\n",
        "415f240f0c53e3f7196e2252fb0105347f345e531f535a344bf439220916\n",
        "5722e7f7fa2f4c2e057e2a025e2dec31413439aa12265f5a3458f81a4b15\n",
        "135839401856f337a72fec475a060de239a650163a55392a5b303f051415\n",
        "56090f18023a2b16e2364407050d48e1541408281d3aa3e84c5b264c1f33\n",
        "1725f9540aec5e10ed293e4e5a5a2d2125f053251a55395d1c2044022231\n",
        "292d523ff86a180620075f325e02566659f30423525a053a01f0087f4b3b\n",
        "17fe493808f25309251e1325596ce32b42311e5d0c2f58652640582a4b17\n",
        "67381a5afb7128150a0043e45b173d2111155c49092d2635370a3a201826\n",
        "e62d021d36e03b205d5f1f295c094608342a412122583f3bfc34190be62c\n",
        "393a055f59060d454a235326e844243a30285c14e316272524f4f0444f51\n",
        "352c3c5b2b5845244f55494940194721f80b120f07392b7c2c5a0508111e\n",
        "2f1219430151e60f11150b101e295736361b1e053e4d08f83f230e2c383a\n",
        "ef5b1d492610e834330f5cf3a2485d324f2822084f41111f582957191b19\n",
        "1e3e223704fe1d2e1f592753e5550f15170b231b4234e945301f5605a670\n",
        "300d322759ea0337015c662a0e073809543f2741104835512d0624551751\n",
        "373727ef1f41084d0b5c0c0137283b1337026aea1c5ae115064ffa183402\n",
        "09152b11e1233e5a0e302a521c5a33181e180026463744a82c024b4bf04e\n",
        "1df61df1263fee59135c13400950153d3c5c59183b020b1d2d2c492f4968\n",
        "e2000c405a01ede30c4c082e2537443c120f38fc57c43651423e5c3beb1d\n",
        "1922182420191b293e163d58020b005f454a0621051a38e80b090a463ee9\n",
        "39513f2d47042c0fe5134419ec48490f150f323a5ee7a7e0201e193a5e1b\n",
        "2037200a2b1013567b35fb4a0f322c2f49435d091920521c302b413f5f35\n",
        "775d1a345b483b35a02a4c3e17ee3a3d5a5b57153613264f23041922432f\n",
        "35125b3e0a1d2257eb002a26455e1a2f042e1545e92f0b3408032c4f3551\n",
        "2d4c392321300a18ed4f3e2c314d20500052aa3917e55d0d29500754282e\n",
        "381b2e263758f63c474a1c23110c2d5f1c220412e91043580656080c0427\n",
        "081ce1e5350b6a3535f0e6592e5b543432340e38f008e0324102e45a3f25\n",
        "30040c181615362e4d1016160a4a5c006eeb1d2422355a3f1028ff192a07\n",
        "53f6354d4b5d121974245c14f0225713331f2e381810101428571725e432\n",
        "1a2c06372d5b1419742150042d25003c2650512834ef16e51d183f0f0508\n",
        "3d191107251100ee2e4125405a44174f061e0e1e5959e606530e06ed245e\n",
        "3f592d47512dec5922500e460e1de7183b4c3c2e583942255a0c5d4d2305\n",
        "3438001e482a002d56113a1fe13bed542d3508e22f4e22221431121c1539\n",
        "ed445a5d28415073eb18022ef836274d573a48090f2a663058194901405d\n",
        "215b143954fc313c1e28584b51e729ef31013b232bfb4c52e2322a2d4557\n",
        "5244102e1c3d304450ee01761924e62ff2173305e15809102b2125284dfc\n",
        "171a3f010f3639056f2be71c2047581de32e05a20833e1221b0e25362459\n",
        "2958280de238084f5a1c292e005be71f3b311e1f415809383d3862260238\n",
        "361f56ecee120156375862eb3627185c2519545149e2e50b1f3b0c4e3352\n",
        "e6115f440634e4005d273611e41c5d383c3814537b3d23362b084024345b\n",
        "10370656372e0236eb4f3303e216505f0e465228383729394faa2f205f34\n",
        "2e125b2f2c1d0f1f170e0c51331f0c06291610345c0603791f33253f0e0c\n",
        "1c2b080526133aeb3e23571d4cfa1e48057a2a010a490a50391b09514f2e\n",
        "59383ae11237e5450029162d2e1d3e09221a160e42ea06ea0ca7c7ecf4ea\n",
        "3d3024f34d5c07464bea3b185e110d3a10395d3b2632343cf30ca2e6065a\n",
        "262f111c0e15441a4825111b185f1e5756243206125f4603e97e79582d27\n",
        "2d5801ee2654113e2da00b58e9260d643c10423e1d1f42093b0d0f7d5102\n",
        "3649211f210456051e290f1b4c584d0749220c280b2a50531f262901503e\n",
        "52053e3e152b5b2b4415580fec57ef5c08e5ed43cc2d2e5b40355d0d2017\n",
        "6d3917263f030c4b55f0025d501e57504a122729293c4c5819680d3001ed\n",
        "1e313323324e5e177b171cf70c371541395c0e2b7726e42505483014362e\n",
        "1910e4f7253f0a012057e03b1e3b4201362b224ff60e0b3a1d115b043957\n",
        "200c1e0b242e5e3b4755f61e3be05c040908f1234358e55562711d2efa0f\n",
        "0737e0160b1d13132044080d2325f1f0ee2f00354f2106471131020a5d0b\n",
        "3f21060de62c052a17576e2ce729242b3e3621300627f01e52580a480050\n",
        "1b381a11351f4f5d22040c3c4b3e7d263714e8e61a571d107a34260a4a51\n",
        "edf52314e111207c0b23eb482f441d211f306137152407040e08530a783e\n",
        "3c054e2d4e2905275e640220f74f1a193f54e1ed5b4e2a290eab27a55147\n",
        "33522817335316ea2f3df957e25e02030601514f09f74c2fedee102d3114\n",
        "5d05231d03313826164156110c44e4111f4658005e115e300f413b430300\n",
        "380bf53a4331f74627492c133fe8eb3141ee39040def040c1a0ae914e3ed\n",
        "5b00f0211f0a091e05582e22f05a5d262e0ce352251d25100b102b11e339\n",
        "36053935f051f959093252411e2d5af81f360c0fa15d0b373b1d26323b77\n",
        "501424184202206215e05944505c4817514540445b0207025de05b050932\n",
        "0a5a114515536f553a352c513f0b12f700345fa51d5efb28222676e559ea\n",
        "561b0557403f5f534a574638411e2d3b3c133f79555c333215e6f5f9e7ec\n",
        "6658f7210218110f00062752e305f21601442c5310162445ed4d175630f3\n",
        "0e2154253c4a22f02e1b0933351314071b521513235031250c18120024a1\n",
        "e03555453d1e31775f37331823164c341c09e310463438481019fb0b12fa\n",
        "37eee654410e4007501f2c0e42faf50125075b2b46164f165a1003097f08\n",
        "2a5332145851553926523965582e5b2f530d5d1e292046344feaed461517\n",
        "583d2b06251f551d2f5451110911e6034147481a05166e1f241a5817015b\n",
        "1f2d3f5c310c315402200010e24135592435f71b4640540a041012ee1b3f\n",
        "5b2010060e2f5a4d045e0b36192f79181b0732183b4a261038340032f434\n",
        "3a5557340be6f5315c35112912393503320f54065f0e275a3b5853352008\n",
        "1c595d183539220eec123478535337110424f90a355af44c267be848173f\n",
        "41053f5cef5f6f56e4f5410a5407281600200b2649460a2e3a3c38492a0c\n",
        "4c071a57e9356ee415103c5c53e254063f2019340969e30a2e381d5b2555\n",
        "32042f46431d2c44607934ed180c1028136a5f2b26092e3b2c4e2930585a\n",
        "\"\"\""
      ],
      "execution_count": 6,
      "outputs": []
    },
    {
      "cell_type": "code",
      "metadata": {
        "colab": {
          "base_uri": "https://localhost:8080/"
        },
        "id": "myhX65WOLT2U",
        "outputId": "5e30aff3-bfe7-43a4-b416-2216fe0481a4"
      },
      "source": [
        "data = ex4data.split()\n",
        "\n",
        "solutions = []\n",
        "\n",
        "for index, line in enumerate(data):\n",
        "  line = bytes.fromhex(line)\n",
        "  #choose just the candidate with the lowest sqDiff\n",
        "  sqDiff, key, solution = trySingleCharXOR(line)[0]\n",
        "  solutions.append((sqDiff, index, key, solution))\n",
        "\n",
        "solutions = sorted(solutions)\n",
        "\n",
        "for sqDiff, lineNo, key, pt in solutions[:1]:\n",
        "  pt = pt.decode(errors='ignore')\n",
        "  pt = pt.replace('\\n',' ')\n",
        "  print(f\"Line: {lineNo}, sqDiff: {sqDiff:0.1f}, key: {key}\\n{pt}\\n\")"
      ],
      "execution_count": 7,
      "outputs": [
        {
          "output_type": "stream",
          "name": "stdout",
          "text": [
            "Line: 170, sqDiff: 0.0, key: 53\n",
            "Now that the party is jumping \n",
            "\n"
          ]
        }
      ]
    },
    {
      "cell_type": "markdown",
      "metadata": {
        "id": "JLLbhSVYR80r"
      },
      "source": [
        "# 5. Implement repeating key XOR"
      ]
    },
    {
      "cell_type": "code",
      "metadata": {
        "colab": {
          "base_uri": "https://localhost:8080/"
        },
        "id": "MgXj7BNrMLaG",
        "outputId": "7a0b92df-05ac-459d-bb81-b6571c3c0aa2"
      },
      "source": [
        "plaintext = b\"\"\"Burning 'em, if you ain't quick and nimble\n",
        "I go crazy when I hear a cymbal\"\"\"\n",
        "key = b\"ICE\"\n",
        "\n",
        "targetCiphertext = \"\"\"0b3637272a2b2e63622c2e69692a23693a2a3c6324202d623d63343c2a26226324272765272\n",
        "a282b2f20430a652e2c652a3124333a653e2b2027630c692b20283165286326302e27282f\"\"\".replace('\\n','')\n",
        "\n",
        "def repeatingKeyXOR(plain = b\"\", key = b\"\"):\n",
        "  ct = b''\n",
        "  for plainChar, keyChar in zip(plain, it.cycle(key)):\n",
        "    ct +=  bytes([plainChar ^ keyChar])\n",
        "  return ct\n",
        "\n",
        "candidateCiphertext = repeatingKeyXOR(plaintext, key)\n",
        "print(candidateCiphertext.hex())\n",
        "print(targetCiphertext)\n",
        "assert candidateCiphertext.hex() == targetCiphertext"
      ],
      "execution_count": 8,
      "outputs": [
        {
          "output_type": "stream",
          "name": "stdout",
          "text": [
            "0b3637272a2b2e63622c2e69692a23693a2a3c6324202d623d63343c2a26226324272765272a282b2f20430a652e2c652a3124333a653e2b2027630c692b20283165286326302e27282f\n",
            "0b3637272a2b2e63622c2e69692a23693a2a3c6324202d623d63343c2a26226324272765272a282b2f20430a652e2c652a3124333a653e2b2027630c692b20283165286326302e27282f\n"
          ]
        }
      ]
    },
    {
      "cell_type": "markdown",
      "metadata": {
        "id": "57HwB85krVI7"
      },
      "source": [
        "# 6. Break repeating key XOR"
      ]
    },
    {
      "cell_type": "code",
      "metadata": {
        "cellView": "form",
        "id": "Ub9b-vPHJYNH"
      },
      "source": [
        "#@title ciphertext\n",
        "ex6data = \"\"\"HUIfTQsPAh9PE048GmllH0kcDk4TAQsHThsBFkU2AB4BSWQgVB0dQzNTTmVS\n",
        "BgBHVBwNRU0HBAxTEjwMHghJGgkRTxRMIRpHKwAFHUdZEQQJAGQmB1MANxYG\n",
        "DBoXQR0BUlQwXwAgEwoFR08SSAhFTmU+Fgk4RQYFCBpGB08fWXh+amI2DB0P\n",
        "QQ1IBlUaGwAdQnQEHgFJGgkRAlJ6f0kASDoAGhNJGk9FSA8dDVMEOgFSGQEL\n",
        "QRMGAEwxX1NiFQYHCQdUCxdBFBZJeTM1CxsBBQ9GB08dTnhOSCdSBAcMRVhI\n",
        "CEEATyBUCHQLHRlJAgAOFlwAUjBpZR9JAgJUAAELB04CEFMBJhAVTQIHAh9P\n",
        "G054MGk2UgoBCVQGBwlTTgIQUwg7EAYFSQ8PEE87ADpfRyscSWQzT1QCEFMa\n",
        "TwUWEXQMBk0PAg4DQ1JMPU4ALwtJDQhOFw0VVB1PDhxFXigLTRkBEgcKVVN4\n",
        "Tk9iBgELR1MdDAAAFwoFHww6Ql5NLgFBIg4cSTRWQWI1Bk9HKn47CE8BGwFT\n",
        "QjcEBx4MThUcDgYHKxpUKhdJGQZZVCFFVwcDBVMHMUV4LAcKQR0JUlk3TwAm\n",
        "HQdJEwATARNFTg5JFwQ5C15NHQYEGk94dzBDADsdHE4UVBUaDE5JTwgHRTkA\n",
        "Umc6AUETCgYAN1xGYlUKDxJTEUgsAA0ABwcXOwlSGQELQQcbE0c9GioWGgwc\n",
        "AgcHSAtPTgsAABY9C1VNCAINGxgXRHgwaWUfSQcJABkRRU8ZAUkDDTUWF01j\n",
        "OgkRTxVJKlZJJwFJHQYADUgRSAsWSR8KIgBSAAxOABoLUlQwW1RiGxpOCEtU\n",
        "YiROCk8gUwY1C1IJCAACEU8QRSxORTBSHQYGTlQJC1lOBAAXRTpCUh0FDxhU\n",
        "ZXhzLFtHJ1JbTkoNVDEAQU4bARZFOwsXTRAPRlQYE042WwAuGxoaAk5UHAoA\n",
        "ZCYdVBZ0ChQLSQMYVAcXQTwaUy1SBQsTAAAAAAAMCggHRSQJExRJGgkGAAdH\n",
        "MBoqER1JJ0dDFQZFRhsBAlMMIEUHHUkPDxBPH0EzXwArBkkdCFUaDEVHAQAN\n",
        "U29lSEBAWk44G09fDXhxTi0RAk4ITlQbCk0LTx4cCjBFeCsGHEETAB1EeFZV\n",
        "IRlFTi4AGAEORU4CEFMXPBwfCBpOAAAdHUMxVVUxUmM9ElARGgZBAg4PAQQz\n",
        "DB4EGhoIFwoKUDFbTCsWBg0OTwEbRSonSARTBDpFFwsPCwIATxNOPBpUKhMd\n",
        "Th5PAUgGQQBPCxYRdG87TQoPD1QbE0s9GkFiFAUXR0cdGgkADwENUwg1DhdN\n",
        "AQsTVBgXVHYaKkg7TgNHTB0DAAA9DgQACjpFX0BJPQAZHB1OeE5PYjYMAg5M\n",
        "FQBFKjoHDAEAcxZSAwZOBREBC0k2HQxiKwYbR0MVBkVUHBZJBwp0DRMDDk5r\n",
        "NhoGACFVVWUeBU4MRREYRVQcFgAdQnQRHU0OCxVUAgsAK05ZLhdJZChWERpF\n",
        "QQALSRwTMRdeTRkcABcbG0M9Gk0jGQwdR1ARGgNFDRtJeSchEVIDBhpBHQlS\n",
        "WTdPBzAXSQ9HTBsJA0UcQUl5bw0KB0oFAkETCgYANlVXKhcbC0sAGgdFUAIO\n",
        "ChZJdAsdTR0HDBFDUk43GkcrAAUdRyonBwpOTkJEUyo8RR8USSkOEENSSDdX\n",
        "RSAdDRdLAA0HEAAeHQYRBDYJC00MDxVUZSFQOV1IJwYdB0dXHRwNAA9PGgMK\n",
        "OwtTTSoBDBFPHU54W04mUhoPHgAdHEQAZGU/OjV6RSQMBwcNGA5SaTtfADsX\n",
        "GUJHWREYSQAnSARTBjsIGwNOTgkVHRYANFNLJ1IIThVIHQYKAGQmBwcKLAwR\n",
        "DB0HDxNPAU94Q083UhoaBkcTDRcAAgYCFkU1RQUEBwFBfjwdAChPTikBSR0T\n",
        "TwRIEVIXBgcURTULFk0OBxMYTwFUN0oAIQAQBwkHVGIzQQAGBR8EdCwRCEkH\n",
        "ElQcF0w0U05lUggAAwANBxAAHgoGAwkxRRMfDE4DARYbTn8aKmUxCBsURVQf\n",
        "DVlOGwEWRTIXFwwCHUEVHRcAMlVDKRsHSUdMHQMAAC0dCAkcdCIeGAxOazkA\n",
        "BEk2HQAjHA1OAFIbBxNJAEhJBxctDBwKSRoOVBwbTj8aQS4dBwlHKjUECQAa\n",
        "BxscEDMNUhkBC0ETBxdULFUAJQAGARFJGk9FVAYGGlMNMRcXTRoBDxNPeG43\n",
        "TQA7HRxJFUVUCQhBFAoNUwctRQYFDE43PT9SUDdJUydcSWRtcwANFVAHAU5T\n",
        "FjtFGgwbCkEYBhlFeFsABRcbAwZOVCYEWgdPYyARNRcGAQwKQRYWUlQwXwAg\n",
        "ExoLFAAcARFUBwFOUwImCgcDDU5rIAcXUj0dU2IcBk4TUh0YFUkASEkcC3QI\n",
        "GwMMQkE9SB8AMk9TNlIOCxNUHQZCAAoAHh1FXjYCDBsFABkOBkk7FgALVQRO\n",
        "D0EaDwxOSU8dGgI8EVIBAAUEVA5SRjlUQTYbCk5teRsdRVQcDhkDADBFHwhJ\n",
        "AQ8XClJBNl4AC1IdBghVEwARABoHCAdFXjwdGEkDCBMHBgAwW1YnUgAaRyon\n",
        "B0VTGgoZUwE7EhxNCAAFVAMXTjwaTSdSEAESUlQNBFJOZU5LXHQMHE0EF0EA\n",
        "Bh9FeRp5LQdFTkAZREgMU04CEFMcMQQAQ0lkay0ABwcqXwA1FwgFAk4dBkIA\n",
        "CA4aB0l0PD1MSQ8PEE87ADtbTmIGDAILAB0cRSo3ABwBRTYKFhROHUETCgZU\n",
        "MVQHYhoGGksABwdJAB0ASTpFNwQcTRoDBBgDUkksGioRHUkKCE5THEVCC08E\n",
        "EgF0BBwJSQoOGkgGADpfADETDU5tBzcJEFMLTx0bAHQJCx8ADRJUDRdMN1RH\n",
        "YgYGTi5jMURFeQEaSRAEOkURDAUCQRkKUmQ5XgBIKwYbQFIRSBVJGgwBGgtz\n",
        "RRNNDwcVWE8BT3hJVCcCSQwGQx9IBE4KTwwdASEXF01jIgQATwZIPRpXKwYK\n",
        "BkdEGwsRTxxDSToGMUlSCQZOFRwKUkQ5VEMnUh0BR0MBGgAAZDwGUwY7CBdN\n",
        "HB5BFwMdUz0aQSwWSQoITlMcRUILTxoCEDUXF01jNw4BTwVBNlRBYhAIGhNM\n",
        "EUgIRU5CRFMkOhwGBAQLTVQOHFkvUkUwF0lkbXkbHUVUBgAcFA0gRQYFCBpB\n",
        "PU8FQSsaVycTAkJHYhsRSQAXABxUFzFFFggICkEDHR1OPxoqER1JDQhNEUgK\n",
        "TkJPDAUAJhwQAg0XQRUBFgArU04lUh0GDlNUGwpOCU9jeTY1HFJARE4xGA4L\n",
        "ACxSQTZSDxsJSw1ICFUdBgpTNjUcXk0OAUEDBxtUPRpCLQtFTgBPVB8NSRoK\n",
        "SREKLUUVAklkERgOCwAsUkE2Ug8bCUsNSAhVHQYKUyI7RQUFABoEVA0dWXQa\n",
        "Ry1SHgYOVBFIB08XQ0kUCnRvPgwQTgUbGBwAOVREYhAGAQBJEUgETgpPGR8E\n",
        "LUUGBQgaQRIaHEshGk03AQANR1QdBAkAFwAcUwE9AFxNY2QxGA4LACxSQTZS\n",
        "DxsJSw1ICFUdBgpTJjsIF00GAE1ULB1NPRpPLF5JAgJUVAUAAAYKCAFFXjUe\n",
        "DBBOFRwOBgA+T04pC0kDElMdC0VXBgYdFkU2CgtNEAEUVBwTWXhTVG5SGg8e\n",
        "AB0cRSo+AwgKRSANExlJCBQaBAsANU9TKxFJL0dMHRwRTAtPBRwQMAAATQcB\n",
        "FlRlIkw5QwA2GggaR0YBBg5ZTgIcAAw3SVIaAQcVEU8QTyEaYy0fDE4ITlhI\n",
        "Jk8DCkkcC3hFMQIEC0EbAVIqCFZBO1IdBgZUVA4QTgUWSR4QJwwRTWM=\n",
        "\"\"\""
      ],
      "execution_count": 9,
      "outputs": []
    },
    {
      "cell_type": "code",
      "metadata": {
        "id": "57vX4R4yyVNk",
        "cellView": "form"
      },
      "source": [
        "#@title support fuctions\n",
        "def hammingDist(bytes1, bytes2):\n",
        "  result = 0\n",
        "  for bit1, bit2 in zip(bytes1, bytes2):\n",
        "    result += bin(bit1 ^ bit2).count('1')\n",
        "  return result\n",
        "b1 = b\"this is a test\"\n",
        "b2 = b\"wokka wokka!!!\"\n",
        "\n",
        "assert hammingDist(b1,b2) == 37\n",
        "\n",
        "def normHammingDistance(bytes1, bytes2):\n",
        "  length1 = len(bytes1)\n",
        "  length2  = len(bytes2)\n",
        "  assert length1 == length2, f\"bytes1 len {length1}, bytes2 len {length2}\"\n",
        "  return hammingDist(bytes1, bytes2) / length1\n",
        "\n",
        "def guessKeySize(data):\n",
        "  maxKeySize = min(len(data) // 4, 40)\n",
        "\n",
        "  keyScores = []\n",
        "\n",
        "  for keySize in range(1,maxKeySize):\n",
        "    maxFrames = len(data) // keySize\n",
        "\n",
        "    frames = [data[i*keySize : (i+1)*keySize] for i in range(maxFrames)]\n",
        "    pairs = list(zip(frames[:-1], frames[1:]))\n",
        "\n",
        "    normDists = list(map(lambda t : normHammingDistance(t[0],t[1]), pairs))\n",
        "    score = sum(normDists) / len(normDists)\n",
        "\n",
        "    keyScores.append((score, keySize))\n",
        "\n",
        "  #we want a low Hamming distance\n",
        "  keyScores = sorted(keyScores)\n",
        "  return keyScores\n",
        "\n",
        "def flatten(byteArray):\n",
        "    flatData = b''\n",
        "    for byte in byteArray:\n",
        "      flatData += bytes([byte])\n",
        "    return flatData\n",
        "\n",
        "def reshape(data, keySize):\n",
        "\n",
        "  dataSize = len(data)\n",
        "\n",
        "  out = []\n",
        "  numberOfFrames = math.ceil(dataSize / keySize)\n",
        "\n",
        "  startIndex = 0\n",
        "  endIndex = keySize\n",
        "\n",
        "  for i in range(numberOfFrames):\n",
        "    if endIndex >= dataSize:\n",
        "      padding = bytes((endIndex - dataSize) * \"0\", 'ascii')\n",
        "      newString = data[startIndex : ] + padding\n",
        "      out += [newString]\n",
        "    else:\n",
        "      out += [data[startIndex : endIndex]]\n",
        "    startIndex += keySize\n",
        "    endIndex += keySize\n",
        "  return out\n",
        "\n",
        "# def restitch(arr):\n",
        "#   #turn each line into a list of chars\n",
        "#   input = [list(line) for line in arr]\n",
        "#   numberOfChars = len(input[0])\n",
        "#   output = []\n",
        "\n",
        "#   for charIndex in range(numberOfChars):\n",
        "#     nextLine = [line[charIndex] for line in input]\n",
        "#     nextLine = ''.join(nextLine)\n",
        "#     output.append(nextLine)\n",
        "\n",
        "#   output = ''.join(output)\n",
        "#   return output"
      ],
      "execution_count": 10,
      "outputs": []
    },
    {
      "cell_type": "code",
      "metadata": {
        "id": "yWkP5-HdPKva",
        "outputId": "98985795-16ee-43b1-ae61-17bf8ed85f27",
        "colab": {
          "base_uri": "https://localhost:8080/"
        }
      },
      "source": [
        "data = base64.b64decode(ex6data)\n",
        "\n",
        "#these should decode properly too\n",
        "# data = bytes.fromhex(targetCiphertext)\n",
        "# data = bytes.fromhex(\"1b37373331363f78151b7f2b783431333d78397828372d363c78373e783a393b3736\")\n",
        "# print(data)\n",
        "\n",
        "keyGuesses = guessKeySize(data)\n",
        "promisingKeySizes = [guess[1] for guess in keyGuesses[:10]]\n",
        "# promisingKeySizes = [3]\n",
        "\n",
        "for keySize in promisingKeySizes:\n",
        "\n",
        "  shapedData = reshape(data, keySize)\n",
        "  \n",
        "  #score, key digit\n",
        "  bestKeyGuess = []\n",
        "\n",
        "  for byteNumber in range(keySize):\n",
        "    # make byte string of the first,second,... byte from each\n",
        "    # element from the data array and try to break it\n",
        "    newBlock = [frame[byteNumber] for frame in shapedData]\n",
        "    newBlock = flatten(newBlock)\n",
        "\n",
        "    # score, key, plaintext \n",
        "    candidateSolutions = trySingleCharXOR(newBlock)\n",
        "\n",
        "    if len(candidateSolutions) == 0:\n",
        "      print(f\"Keysize: {keySize}, byte: {byteNumber}. No candidates found.\")\n",
        "      break\n",
        "\n",
        "    bestSolution = candidateSolutions[0]\n",
        "    bestKeyGuess.append((bestSolution[0], bestSolution[1]))\n",
        "\n",
        "  possibleScore = [f\"{guess[0]:.5f}\" for guess in bestKeyGuess]\n",
        "  possibleKey = [guess[1] for guess in bestKeyGuess]\n",
        "  possiblePlaintext = repeatingKeyXOR(data, possibleKey).decode()\n",
        "\n",
        "  keyText = ''.join([chr(x) for x in possibleKey])\n",
        "  print(f\"keysize: {keySize}\\nkey:'{keyText}'\\n{possiblePlaintext}\\n\")"
      ],
      "execution_count": 19,
      "outputs": [
        {
          "output_type": "stream",
          "name": "stdout",
          "text": [
            "keysize: 29\n",
            "key:'Terminator X: Bring the noise'\n",
            "I'm back and I'm ringin' the bell \n",
            "A rockin' on the mike while the fly girls yell \n",
            "In ecstasy in the back of me \n",
            "Well that's my DJ Deshay cuttin' all them Z's \n",
            "Hittin' hard and the girlies goin' crazy \n",
            "Vanilla's on the mike, man I'm not lazy. \n",
            "\n",
            "I'm lettin' my drug kick in \n",
            "It controls my mouth and I begin \n",
            "To just let it flow, let my concepts go \n",
            "My posse's to the side yellin', Go Vanilla Go! \n",
            "\n",
            "Smooth 'cause that's the way I will be \n",
            "And if you don't give a damn, then \n",
            "Why you starin' at me \n",
            "So get off 'cause I control the stage \n",
            "There's no dissin' allowed \n",
            "I'm in my own phase \n",
            "The girlies sa y they love me and that is ok \n",
            "And I can dance better than any kid n' play \n",
            "\n",
            "Stage 2 -- Yea the one ya' wanna listen to \n",
            "It's off my head so let the beat play through \n",
            "So I can funk it up and make it sound good \n",
            "1-2-3 Yo -- Knock on some wood \n",
            "For good luck, I like my rhymes atrocious \n",
            "Supercalafragilisticexpialidocious \n",
            "I'm an effect and that you can bet \n",
            "I can take a fly girl and make her wet. \n",
            "\n",
            "I'm like Samson -- Samson to Delilah \n",
            "There's no denyin', You can try to hang \n",
            "But you'll keep tryin' to get my style \n",
            "Over and over, practice makes perfect \n",
            "But not if you're a loafer. \n",
            "\n",
            "You'll get nowhere, no place, no time, no girls \n",
            "Soon -- Oh my God, homebody, you probably eat \n",
            "Spaghetti with a spoon! Come on and say it! \n",
            "\n",
            "VIP. Vanilla Ice yep, yep, I'm comin' hard like a rhino \n",
            "Intoxicating so you stagger like a wino \n",
            "So punks stop trying and girl stop cryin' \n",
            "Vanilla Ice is sellin' and you people are buyin' \n",
            "'Cause why the freaks are jockin' like Crazy Glue \n",
            "Movin' and groovin' trying to sing along \n",
            "All through the ghetto groovin' this here song \n",
            "Now you're amazed by the VIP posse. \n",
            "\n",
            "Steppin' so hard like a German Nazi \n",
            "Startled by the bases hittin' ground \n",
            "There's no trippin' on mine, I'm just gettin' down \n",
            "Sparkamatic, I'm hangin' tight like a fanatic \n",
            "You trapped me once and I thought that \n",
            "You might have it \n",
            "So step down and lend me your ear \n",
            "'89 in my time! You, '90 is my year. \n",
            "\n",
            "You're weakenin' fast, YO! and I can tell it \n",
            "Your body's gettin' hot, so, so I can smell it \n",
            "So don't be mad and don't be sad \n",
            "'Cause the lyrics belong to ICE, You can call me Dad \n",
            "You're pitchin' a fit, so step back and endure \n",
            "Let the witch doctor, Ice, do the dance to cure \n",
            "So come up close and don't be square \n",
            "You wanna battle me -- Anytime, anywhere \n",
            "\n",
            "You thought that I was weak, Boy, you're dead wrong \n",
            "So come on, everybody and sing this song \n",
            "\n",
            "Say -- Play that funky music Say, go white boy, go white boy go \n",
            "play that funky music Go white boy, go white boy, go \n",
            "Lay down and boogie and play that funky music till you die. \n",
            "\n",
            "Play that funky music Come on, Come on, let me hear \n",
            "Play that funky music white boy you say it, say it \n",
            "Play that funky music A little louder now \n",
            "Play that funky music, white boy Come on, Come on, Come on \n",
            "Play that funky music \n",
            "\n",
            "\n",
            "keysize: 38\n",
            "key:'rr  neiets ont ni innoononiirt nini  n'\n",
            "o0?mejkz;`nSt\u001dEq <g }ndi!uh7B ph'\r\u0000tso1\u0013s \u0000;ct4tsc1mim,:|Rcqf&t`x=`lOs)B %s5+1$ge\rCs  Xxr,t~ato<;_1oNzcw3o|!f,nEPd{\u0018eh`a2top7\f^\u0004\u000b\u0016esa.b&i;srrib\u001amphi:gcprZ\u0011,i-Ns:|'no+!/tc=kUo=whb3g&n%_6sB{tu)':n~$`ei\u0016]A+uh%f(i r \u0017 !N p'b,6!(an=Rt(\u001ant|=q ax( <YI\fq'mm:oobn<v0=hHy5mlup?ou+\u0011U\u001dEreo}thn): l<fT~ol;{/~&Ui\u001a)YniD]*=gd : kb1\u001ae&$alal-=\"T'r[+'df'7-{&oo.r 7M>9n|s*;:X'!\fine(=tert7dlqe\u001ab0?\\!aLku,@%a\r[ro)C^Rf!nto<,^muj, |rg&'Eh&\n",
            "7'|o< Re8iw%=n\u0011,\u0016Bhe/rg;0E; Hti 3 }saen`,~aMx~\"sr$t&X\u001e^-oTss }=gn,  !a'eWr G\u001ao$zors\u00173(\u0016udf2:&Cocoin~I}rwhe(';}5O:\n",
            "xeyvt''e;nei Se:\"fmcrqe0X^\u0000\u000bvi'grk1e!|h,w~\u0015yy9CT`1&{'E9'Ho ttt-&x&b6iqxP rni'enxr;^/t\fr:'f%;\rJ!d&I!r\u0015e;ga \"=be\f  Y7iu&!:}+7'$iy+U-<rkfq&\u0011X\u001dE5.\u0007r5<8-t_e(+or6*U7#y//:v|!X4nGrhn\" =rc DHo&6Tdqb,wkthy5\u001ct:\r;ke|ononiex|'+Mgz4it{t ')UsOeniH)75h,frol<cN*it }{0!v/Z Et;=(;e 3r b=\u001bE&)`3 Vt 1b\u0016\u0018'_e\" a =;*#y=><dU,\u001d_u<.}t=*\u0011v<Ow*!@ovhg7:\"~:yU<?fh<  sx*T!&\u0011=\rI2>x:o/la`ok]ewvn:f~dcp\u00115>Y6&ck&do6\n",
            "H&psjSe~eadmn }'Uh \n",
            "}t wo!&t3 oesx\u0011\u001bHmea{tuzkTt/\r{kx).th} ahc:(\u0015`e?!+}1qr \u0005:E&Onm.ltmnoR`kncS7+`'Tnp<= \n",
            "<oBXikk8f *DN'bh \u001ax<li jhb;B=b\u000bEo;g-gtetrs b~\u0007-|mzn\u0005_:onO::\u000bqk'e7e8+=r =,\u0006c=m`n|1vx D -\u000ey DA8u*/oe uaE70$wu 7ui1\u001d:#Fpii4p~twecri\u0010IO~=mit(t{&yY&iY7ia5>;)m u$=\n",
            "ObdsjkkazdhoY;8D~ry? tn+9\".dd;T+s(tbxbc= C:)B ls)EHie '+6'\n",
            "R,q}i\t`b1rhY2,Ei~7$ny'~i>thkYgd#efg EO9W4h\u0007hougwsyde{<:ldO+=$\n",
            "hb r \u00175'O n/pisud \n",
            "\u0017M\u001a\u0015\u0014 Mist-w`&IU6 Ryw-(7~v iU<$=oUa;# <{5=xe]6?Trg ahso*i\n",
            "HhhdCbxeos/}&o&Xc!E ::h\"zhcs\"ilbe[,%mio.\u0011RrnA&<]!'t}&$h e&'z \\nb>.h}loo=\u0017#nOoifi=\u000bA5 hlqmT\fz;'2:y~)@ n\n",
            "<| mi-n~nqehlgX,ak, jo;n\u0011hXE\u0011f~}  l-6 o!x,\u0012~ybmr/zs~i@!cGri glsqr \rsm`y\u0000Q>wb:KWi$ XsoLrb i;is3'i& '7C~n*itk=yo=\u001fu/Z=i`gC[jfothuuyAyrwhe(3'y&^u Keode:: + &hssd_yx\"tnaz&\n",
            "\u001a\u0017#iUt<i{7&)(/qch't\r*hq, ^\u001dV<>X&=H2 \r\u001f\u0007 c|>n!n=dIe:b~c$lu9*\u0016/ k~;jh ;Ij5i&\n",
            "Re\u0015yooe*axd t\u00101eIvnx4oru1:n!'=lIeilc'\u0002Rs7<Ts:B<h<ar=vp e<:<d\u001a|;meb(S&po\\ =_;|3:th+ *nloe~Xge~qs9ah=\u001bxi+<j `.t`b' =i:lU;! kv&.r(\\=$Bh*!\u0003\r;s,tu`wlo^*qa s{7d;/_~ e o&(;vitti'gi1~Rt8 mf|hho^2?U& t.DN'e=hx9so^{y9{ j:w7 U:$I<n|=:dm :E \"2\u001d,<#vea hz,\u001cn\n",
            "\rh+:`w-he= m=s_mi1=D\u0005Dnn'\n",
            "1rG7(kg'xr1 g`n''\u001d\u001cT\"'``~ UiR):Bhelb =r7X\u0017 rd,S~e4!s53dotX:i\ruhu%inu= si'Se\u0017jn?:#j}j7=_:Eiidan:r+-d!k|h\u001dvh)'c`sh&nH- \u0011}h'\bsD)=osr \u001dgepoc}:d~>Ct)\u000bhon\u000e\rC6eYo upIe~bq\"/p*;\n",
            "W1o&Dhr) eh{ te!:e\u000173mab|=;ro\u0017' \u0007l ,o-q'k e!etsU7y$\rK$ !t:\u001d:9Noor4dteeor*iSh_&=gi |ux&dW=-Nr=o51!:ne\rYr &Tfcmrwa~ms<Rt.B x|n=u+++otpb\u00157y(\n",
            "Rzroj/Bt/\u000b0at}#~&g+'+6'\u0004Tuhm$+#&|<yA7,Uc:D\u0002\u0017o=+=&irzbO+ikas3Iok(Esw\u0007}p0gBut ecs<;yEexa(c/mrr PtCxo=-f$!*n,=~% Hyygydazob E:nL<sia=;uc'{;C\u0017_[ur`*<C8.eeE75Er`u}kc!(<she<XZr7$|uamnu=\u001d:,_yenn*=zy::e'e*C,5k'\n",
            "~w`dnE;3Brarg\"-hf'o&*=GR qv uj -s0Ts)C=qha:x!u;7- zcTOP~bn%u}ueM'd\r~r!n 1!j e wpjD,tq(t(|s<kOh?\u0017!nh.1iw)oyt<=h\u001di2#\f\u000b_w`bi^&aX;ar)kc:zu=ho:CO{7\"htm:E=$St C0&lk=&q noda!e0Gl,0 pukrs\u001e  ]+'j2:se*8his,D~+#yo}t<}+\n",
            "st\u00007sjjs=s+^\u001ema*,Nc|v'gzsmyt\u0015!:Exi\u000f)>o<1\"n&`hc\u0010on9'ot\fL\"V,nYtas52!hg7'\"<n~Eirtdnpe<0 OnCCv,'f 7'H mc nX+Xlm+aus \n",
            "(8$R7iu&;:z0 l6 p~Hc\"\r\n",
            "\n",
            "keysize: 13\n",
            "key:'n niiinrinnnr'\n",
            "Oi!iYxh~t7/th;:B6nN}xkg!{!a+<\fPxgJ+&kas/i=v7\u0016\u0010\u0018\f\u0016btf(c:o;tursb\u001amwh'h`l<\b\u0011in!Sita t!+:a=c:mSo poe/ah \"X6:\fgoigi&e7/} \u0017A\\euowafi&t'\u0016<!I<jube6!a(n=I:f\u001ays9'kigx.i<^\u0007\u0017qilk=ioyn l~!o\u0006~|$kipv!u \n",
            "Ho=x\u001adfeimq=ny3Ut=C k+}iiinredfi7J)}} sgtii)^hD1s N.-go+(uslsbI,ns;fa~!m/\u00131iBo'oa;tb7)!nd:\u0006\u000b:).4 Juo1d\u0011\u0018 _xl f<:;d$b&pnc^+\u0016Yh</zit*\n",
            "T{9ho/l`}o$]ewmthaydd\"_{\"Boc|&ou+XIhj:mS+ebaelr!3 Us=Dat p!s&&/i&bxc\u001d\u0001U#xa/:rz\"Sh(\fzke)gss`iasd=f[|ymobz=ve=\u0018tD:Unm.%tmriS`jrd\u001a+6) Srprs \n",
            "\fVTG\u0013+Jbui-vg;\u0000U-iUyw0)yq iI:m=hUzu# '`|sdiZ=%U<( |!thxi\n",
            "Hiud\fbxeti}z!o!\n",
            "sa`u\u001aPwvb \u0019W j _tnQuc n u'} i!'u~Cbrx':`=ur Ms/@suggD\\m`nhnur~Acrwhb(}u~:B;rK hhx t=,:hhh=-_~~$tsf}!\u0016\u001cYmnRtu'g,:gf3z*c:nD+tlb YOQr>^ :I. \n",
            "\u0003\u001drc5>nh'=dR+tbidavop,\u0016)ikyuqhn:Om3i=\n",
            "\u0002CrniD1r[7flk'st+nf`hii\u001aUT%'}f~!UrU{ \u000boelyisr+XY rh,_dd} s/ad&:X=n\fhot%nuiinti T7^jr#hm$vj; BhCs'xfn=u,+e=m|o\u001avr)'cgs&tiT1nC}- \u0004n^gb:e!sinTgbvic`=cy\"E:g\foo'@\u0011X*+\u0017sti~mS,~ll/wx<DW7i!Etr.<:{itehse\u0001,}#au{x!h&\u0011'&Nl'bt-?&m'c!~toOye#CLmi&h:Tt9Etd&)-rb=u-'Tt_i<`o'{nc<*W&-\u0007<th.-ssnn\n",
            "Y|ook(_=/\u0010yft}>hf,'+*!MTrhvj+#=gu7];+^y;\n",
            "M\u0017rt,:tirzcR+&kas(S=l/Et%I3l+.\u000buc nynn:7_,afx(mss<Q:Dxt cz$&d<,obliOrbkcy/go6nB:'K th`=&u* `&\n",
            "+|k \n",
            "cq`en^<aX;frg9d&f;oh*=KR,kwitj:sy\u001as.D<lo`::ioy* }d\u0006\u0006Pb~<k;vuiP:6\u000b~hor'1&m'c!kvjC+tk(t({sr9Ht#Ysn-)=tmgr~nr=sS 2$\n",
            "_jgenB /\u0016<fr`%!f;stdsHRa~#ti#:Bo#\u001dt&E7'pk::krn&dah,0Gwb~ gr.hiW& [b'm|!s++>oosd,Xde?~!z=uz7\n",
            "::\u0000<ha>ntu,DLjfd+Rc3w a}tvbn[!!E1'F.%snx\"e!wr0^ii$is:\u000bL>Wcn_sat5/oh`+ \"rie^' soi{c!0!Hs\n",
            "Cme f *&\u0006!jc ry\u0011+_lveauh;Cf$(U<stht:gy'kd p~I~m\n",
            "\n",
            "keysize: 9\n",
            "key:'nni nti t'\n",
            "s,vme{k?;} U:\u0007\u0011vih` z!es';ux+_ pu DT:stc]''E&hn.try,msjb:2Rxw(=tgxoz8H:3Enl=)-x$}n\n",
            "O'=t^6rbt~asu;tD1nI3dq.of&f,n\u000bJ)L+hl(t2nok7\u0016\u0017J\fBe={/c!&;nr i,\u001am>o=s)el<\u0013_'t!\u001att} :!1!/ic=m\u001ao&p!/}o \"E6s\u0016{hn)i b75zx Y]Ab;uka/'!i'X:&I;$ix,x<f/ioN aTsw \"nz|t<^\u0000Eq=k\" nob' vysuH~|mlsk?;u \u0011\u0010\u0007B;*ug:o'g''\"d=fR0hq /{~!R T+.\u000bh'\n",
            "Zo:vysn!k1\u001axom{l`jc<8TntAe -f:~-a:s&.r17\b#wh2i~<s\f !\u000b&o.sibni7dqv,N,0$\u000eo5K.h'Z?a\fAoo3D\u0010R(!ur!',Ym'px'5h`hn\u000bt C7=wh0tO1>'wk=n\u0011+\fE'~/s`r7C& Rsi 3ngh31 ` 7jMb~9shm:!\f\u001e\u00107nUt< `=5nb  ofs,\u0019t<\tS!/gc&tY2/B;~f2'&E ctn'cUg;9o('o})T:Dbs,hlinhe;'+tnxT+;9a\"yuv~d\u0016D\u0000Ek'i` we,omo'j-[b~m\u0017Tgxo{=Cv=Io =htdhe&eiq~K &nb' t;tD5:\u000b;t:ak \fJ'*!T:&Ae<`(nvxod+B'e^&t&r :`+7:m c+T+rsqf8 \u000b\u0016\u001a\f53Nr/ $dt_t(noox,\u001bec$0{(:q3 B2 Zuts\"  u*t\n",
            "I{peth(\"`{h$Gbpm:t|~*~>_2lEbo-z!oreDS!$'jT,7e{b\"t!}'\u001ct C3i p&!&r( ;exxT\u0001O$*{a:r3%Isa\u0016zk~g)is)taodsfAg79oeztvc=VnD&Rnm3%=wnnT.jtc\u001a11. \u001dnmu=:\u0016 &BXxk.8{n,\n",
            "EKT[\u0013eJxn'yv`;IU+i\u001bcw,.yl  S&j:&U|r#: g|=xt]s?I<an{<t&~n\n",
            "O'i~E,ebsn/};ho\f-!^rtnoggcyi\"hveA+km'o5\u0017\u001cinF&nGu =g!j!1<co'`+[b6#zn3l!o=\u0017$tH dignt\fG( rkqmTBeais|:u7\"@:n\u0011<fi#nyn0tpdo#gE,3kb j!xo'_nD\u000bX(u`,tkc7';ob,\u0012cybk=/at7t\\;*\tus g8smi Cia)h\u001aLw8b:\u0002\u0019tj'_=nWu-:n<r'}=ih=iyD,r~ :z:rrnQn(\u000eiig.\n",
            "Nx\u0015yrh,~/xr:D6 T}tb4nhh1 io'slRc'wc \u0002\u0000ic;\u001di=\fu& g;=l{'ih'hbT|umeb/I!?t\\!:\u0016<zb3 sh+ dtw=10Xk,uqi9zh'R6n<$:a/s/b: oitlU1<ui%p:`;fW (\u0016od \u0004Yui,th`wj ^1v(=oa~*<5_~te<t&f!z entn(i17\u001civ'j(}so D58Nrnn.\n",
            "D'1 .pd&x:nv~=u\u0011jt*i\u0010\u0005Ci'i^6 Ayfl\" iobtf`s''\u0000U\u001d8'af0!Oi\u001b/ \fo,li=h+D^ ru,\u0016~xz'=/gc& _:nBtrsktii  st \u001a1Yjumtwm8w<'E:Deti~f :<+6bop|o\u001d$r} *zt&o T+i\u0011gc \u0004'Y}ys!sr \u001a}b?tc|=-y8^t3\fhon@\u0017Xd1\u0017osi~pSeebkkaw~;DM0n!\u000bho)re&{ :bus+\u0007+}$/ia1ou!\u0016 tIv ,r-q!$ ~&,ioO~7#\u0017K$t!h!\u001dt#B&~h)-;ee&<7'To\u0011'&`&:{rcr*M=cS<shg-us t\n",
            "RoshOa79rp(7mi:\u001dn/Bid|'sh+,botvy\u0015cy#\n",
            "+aki\u0010vg+nX;aB<ar)%y!(!shcsLO,%qntmtci0Tn)C;>hz=1<i!~c'`cT\u001bPbynkoq<tW:-B~rh =&mnd;p?pC+o%fn(2nr%H:#Ch y):t$gt~ h=oT 29\n",
            "Cv, |'x<H!j*'hbX1_lm+/ohr^f8(\u001b<io& :`ynkb >dIbxm\n",
            "\n",
            "keysize: 16\n",
            "key:'rn noonnionn int'\n",
            "o,?#d`lq&| R:\u0000\u000bk;r. |nei'toxe_njs'DN;rs-Z< \u000bron3&r-+\"hjb:}Rb>a'n{oz#Nt)Boksg0p{nDHh<nYibt7(su :\u00101oO}dl(!|ha+:\u0017P6gW*hkau(iov7\f\f\u0004BXcra/d'h;:rni0\u001a$pn&tgxm<\u0014_ n<Hn:}&u!+!`scsmTu w!e.|hn%^1=B|hs{itex.zx \u0016][+roq}('!r!\u0016 !H<j'e+,:fan O:f\u001ddswiknzd2 <_\u0006\u000bq ml: hes<l0=nI~{$mil?&u:\n",
            "^IX=eog=iigs'ld!f\u001b~ij'af!U S13Yri\n",
            "\\ :ly<t!%\u0000~hmamam-;#S  Fe=fnybz:s&ar+~Ae9ko2ie:=\u0016' \fh!b)'ob nxekqeU,0mGo5P`<'[9/\f\\i!)\n",
            "\u0017U|=o;o<-Yjnqb 5u`ruE::Ex'wo6:Oe>iww='_*\u0017Bic.sgr0Y;rH=i&|n}h|+ . ypKe~#rijt&\u0017\u0019^ciUin 4:zub   fiePn&\u0015T!/|ehn^3(\fucaf!hBobninxUgrpo3i;}(RtDubr\"ni<y!neooxSb:#f\"dule*X^\u0006\n",
            "q'nfnw1,!ms'#cZyy#\n",
            "Xbka\"{ ,DNub!n\u001cy<mo!k!b'BobBEit)-|i+:<'sx\u001a-}la \u0005_uhn\u0001<;\u0011lknb*~v+=sxn=+\u001aeo#.ez;leiD 7\u000e~'\u0010Z81t*.ne s}_77#mnn7ut,St$Lwb=.>ehmect&\u0017IH~<m&s/i{<yY h^y `)\";`m1n/i\u0017\u0000bdi#jl/3chtD;wDxte%iui+pk`~d'Ter\"sie~-<n^t3Yn%s(EIic! ,d:DH7q4'Fa~-;'Y9eIsye% chnptij\u0016`e9~a5:\n",
            "N>W4'Ih=n)#or-n` tmcTe=mCoxc!= \u00174 H;uap tr0r\n",
            "EQUZ\u0014+Mcii-q`&\u001bUnTxw,.6viiI<v=&Ugtm 'f{s6iZ'9Irf!z&soen\n",
            "\u0006ni~^b1brha}&n!\u0016c&Y&ht&)|bynkilxe\\+qvi!/\u0011SsnA  G! sg=jh=xhi}*[e6$`savoo;X$nHo~i)n:\u0016A/ hjpj\u001aE~f''{:he\"\u0014=!\n",
            "+ijb ^RQ<p^''U2i\n",
            "i*!.w-'b=nk~'n_$n,&\n",
            "\u0005Doii\n",
            "th:\"nsu' so&T+^kr#:jjlq<iBuEs ef su+6y!$|n\u001bjr`&d`:!htH1 _|b \u0003nXg~sb!iinTgdpnc{;cyl^:3\u0010h& A\f_*,\u0016otiyjN7,km.wd;\u000bW0 !Eri.r'z'tenteS,}9}i56 n!\u0016 ;Ilieh7m&$ e bshNyym\n",
            "Lpr!&&Ru9Eoeh)dree=rc'Ui_';fh 5ud&6Wt-H=so.,ot i\n",
            "Ht=&Ugx#rw.ym=:Sn3B6'eg =u*,eosldGy7#\fX`o&j/Xt(\fdzt3\"~'f+'-*=\u0004Srrvj+#;ar7F=+^7 \n",
            "C?e |<6hH ld'ud\u0016+\u0011kj3u!<Eg8/R=sh&=:zb %x&q~Ie~#\n",
            "\n",
            "keysize: 15\n",
            "key:'nnn ntinonnrnti'\n",
            "s,qme{kq } Nt\u001d\fq'r. gheh usx1_npoi\n",
            "T=sr-]! \u0011;hn)try,#hjb!|Hepf':ge&z#Ot5Etls)71j}i\n",
            "{hugs=ey/4x=\u0010]Zeusk{/i!sn\u0016:!I=ji~+,!f/noN a\u001adsw;ltgx2nr^\u001d\fq&ll&nubi l0=uO~z#lulk&u \u0016\u0010\u0007B;dng:ti}: l~sfOyhj'a}~;RnT1gEh \n",
            "\\!:p~'s!kx1\u001axo#`l`q-&%S n\u000fe=df!ycg:i&`r+~F$wn|ix;'\u0011 !\f&o.=rbnry~lqbTb09Go.L`n'@?/\f[&!3C\u0010Tf!suu:,Yj'px'{s`huEn=Dy'9h-=O*9iqk'n_+\u0016\fi~(sf<7E!tOsi'3ngh}* `;ypPe0#=hps!\u0017\u0019^1nOtr zt{ne &!fu+Mi<\tT!/gchoY24\f!ca|=1&XicoiieU};woeaioz)RtDdtxuliihe;'eonxOe!$flc;vc-\u0016_\u0007\u000bm's`nwe!mh'lc[dy9\n",
            "ut<f?=\fJ *!T:hZe<{ftk!~eB:,^=sht  `e7 $nc,T-<swal=\u000b\u0016\u001d\f53N<4 $:Ei/ u!x1Rex#~}( q} X{nZrtul &r~i\n",
            "S2>esh.l`}opZbpj:t|~de>_)\"_hc`ooo,DH&j!jN,yea+lt&}!Rt&Dgt p!!&r(n exc\u001a\u001bR#da/:oz%Rt/\u0010zq~))s:gtfob=fG`c$oe}tvc=\u0018uD&I w.\"sm nIgjodT714 Snw<s:\u0011  \fX~lz%{n+\n",
            "Ehi)7|h+:<x=nd\u001bc}q`:\u0002Xth O!<\u000bqk ~+eq+:r6ni+\u001a~s#|ea=len\u000b -Gy&\n",
            "F$n,/neirgXy1#wnncru-S:#Wpbr)>ctw,cu'YIUx<lht3s};7Y!'^c a(\"u{m1u/'\u0017Oc~n$jl/adriX;9\n",
            "yob%oti7>vgdx'Tei$shb1<:^t)E ki.DHid< 6-=DReq` Ga~- &C>+Ns-y?ich~nlsrxjXg+#xf{;\u000bO\"W)!Ihs')#trbna=twcUe=mDue s \n",
            "5:O<ta>niu*o\n",
            "\u000bMTA\u0013+Jb'iyq`=\u0007U-nO~w,)yl nH&j!hOaum ngatxoZ=9I&a {&=h~i\n",
            "IiixBxxbsi/};h!\u0017-!E<nsh)}-ytkhmx+G+qmio/^RiiF  Gs'iz!j&1<coi{+[yx9gi}voo ^$oOnbi}n:\f]anrlqk\u001aBcf=n|:r7\"@: \n",
            "<frmtdi~n>drjg^+}mb:joxun\u0011nC\u000b^fuf+ vc7 ;ob,\\xybps5|syn\u0012;7@uh')>swinCs(gh\u001dLqvb<\u0005Mij'X=nWuc!n<iig n&''yYere't|:hr Qta@ing(D[vgtsiur0]y;wne/aic=B;n\u0005nrh&t!7:rot=c\u0011yc$tna}=\u0016\u001a^#nU=r=|+;gf3z~d=iCehqe XSQ >C =I2i\n",
            "Di* .k*<e= l0=hXjo-'\u0016\u0005YiiiDnA~fjl oh6if`t''\u0000US#'a}~;RnU5n\freldnsn+^^nroeX~z!s/adr=_:iBtrs%oii;nii'T+\u0017jh$tljvq<=EtD='~a <r+0e;m|o\u001a$r} dat&tnN6n_}- \u0019nYf~=y!irn\u001ag+qtd|;cy>Y .\fhhn@\u0017X**\u0017oh'dmT+,kv(we<\n",
            "Ri=hIfc$rp/7mi:Su/Bd'~a =re,&tm~[ey9\n",
            "+ak'\u000bv|etE</Xrao`%b&f'src=LUekqitk:co7\u0000s)C<>hz='i!e-=}d\u001a\u0001\u001ebd'ktvrrW -\f~h!n=x&k d=wkmC+h%fn(|ur%St9^oncg:imgoynn=uTn2#C\n",
            "Eq`dnB /B;augkc<a;rhd!HOay#h # Es\"St=B* ll:tktihefo70Awb~ 5rzonQ! [e=j|=s++#ohrx+Dd$~oztrg0\u0016<:\u0000 t{wnsreDJjfe+N}m fzt$et\\!<E;A3%srle;lr^nr#shx:\u000b\u0002\"M*nYtfh)2hh`7nlhibX'<hos|!~oOn\n",
            "Cpb z ,!H!m*'hb\u0016*_lve5ro<D(85R<rhh&:zy kxipdNb~#\n",
            "\n",
            "keysize: 22\n",
            "key:'n nniteorn n en intnin'\n",
            "Hs=iYx&bt~5xn :\u00101 E}*l);|!f+n\u000bP}]*tk(tfb!?0\u0016\n",
            "\u0004\u000bXb=a/d<c:hu sb\u0011j>h'ngxl<Z\u0011'i<_oh}ito &/tc'jSo<9oe(gco>_=Bph'`i e~/z6'\u0017ZAntsk/('*sn\u0011 <I;ji,+6!|$o=NtfTns9 lt`2nr^\u0007\fk,mp: o+b \"y=uHy{#\"ilv;~!\n",
            "^IXroo)=hsg: l0=fRdcj;a/~o^n\u001a6)_r \n",
            "tlna  uc#eoprcD \u0017Yh</3esd\u00118!Op+ \u000envhz !p~sy\u001cyq(s tnts-\u0011;;X&\u0006R`>1t&$l.fop]epj:tf~~o?C5lE6cc.&oo+CI&$=jS1rd}e\"nov \u001cs:^}t poo&o5e yx1\u001aO^#*fa uz%S:/\f}qr(5s:g jo-:fA`~#o+}:qc1\u0019hDhUnf)ltmtnT`j dT,+%&On9r=+\u0016n&\fBbk`\"5n+CNbcsnSxrfhnlue Xs,\fEoo\",ghe:<s''c\u001ay}j` KXtotD:'\u000b>kni+1q+ rnsb\u001at9kdg:\"e N yGy=\n",
            "A8:+/i,sa_70m|r ~uo-Tt#\u0003wbt35~hmec;,\u0017\u0007H&mot/=g<0C*hByiag)u)j+h/ \u0017\u0001-di#qg.ad&n\u001609\n",
            "~u%itie>lg~s&\u0006e=#=bb1*<:Ys)E ks.^Bhx n,d6D\u001c,q`'@`~c<&^# Ooc7% hi0ipihxjX)e#e{p;\u0017OpW}-I&ti39trc a!swoTy=mD!iot \f5'H<:apiiy+r\n",
            "\u001fHoui\n",
            "\u0017go;k(X:a\f~anv#c&(+n'*sMThhmjem:`u-J=7^7'D\b\u0017;t+ hirz-N+oqmu3SokaNtwN}v,.\fu1'n~ty;e_ex(mdajsi VtD1s'd|(~:dn,oik Ordldy/5oxi_6!W<=h.6:;c }!\n",
            "E}ayn\f<aS</rg?c!f;=hd:R^ge#&nm1B=$Sn!E0'\"l:=qeotd(oe;[>e~:{u`h P!']n&q|ss+ 9&osb+_dem~o} y|+\u0016s:N7t/wnir,DP#fd,Th|k'(z:ae \\!'Ex'Ag\"sue)d=k<~\u0010enmnob:\fL\"\u0019-n_nmu5(!h.< \"unxY <t!i{x;u StCC?i ('6<H&mdire\u00111Tmveau!7D(?/O<thht:`y:`y;p0I,t#C\n",
            "\n",
            "keysize: 20\n",
            "key:'io&tnn n innoo riiii'\n",
            "t-99ea\"qoz Ru\u0006Em ug'zn-s u!xe_npn&DR=tt*Z<h\u0011<h )tuc+\"h$~:{UewgongozlHt)Do%o.0xm`oBRi= Y6obtx.=s;=Y6iO5~k)o|ha+ \n",
            "Q6{Q,olau`s!qy\u0016^\u0003\fXcr/3d!o<st&i,\u001a$p! tg~mr\b\u0016 i!So<g'to+hfsc<k\u001as;phb(| t\"_=B|hifhty~(} \u0016\u0015Aeu!k//i!r!X<!N;mncc,&fanoI:f\u001bd=k kig3&&^\u0007Eqikl:on+u'ky:hI6a#l'l?&u \u0017_ID;ch`=i!}= \"~saU~iji}fy&RiUy3Eri\n",
            "I; x\u001a*z+ mv;h73Us:D;j-gnn n edfh*\u0004{z} s`i&s)^:D1t'I(,5t,/rhk<*T+i='/f~!p.\u0013-iBo tgsnb+go d=\u0001\n",
            "A97n+/ eiu}_x1mkui~rr,\u001bn#M9b=.>uler \u0010NH~twhtas);7Y h\u0010e f.%rf%1r/i\u0017Oddi%j\"3zcoi_:q^yu+% si+?m.x \u001dbt\";sbc<n^t)Do%o.CNnc!h6*=\n",
            "\u000bQUZZ7Menndw(&\u0007Un\u001b~w,(61j iN!m< Ofu# n`{syo\u0014!\"N;a'znihd \n",
            "\u0006nidCc1~tnfz&ni\f-!\u0017<:sh)|b7rkok,Zcqji!/^UsnG n[h tz&kne<y&i4,[ey\".uzq&h=XltOn0i)n:\f\\. tlvm\u001dE~.=i|tr7%Z=!\n",
            "rzijidn&jdh#g\u0011,}qc!#sr'\u0016sECEfu4+tvc7!t!d,[~~em;5{s7n\u0012<-Gthi5%tjiiB;|grTL>qb \u0004V v _tiJs+:n<;i3 n&&h7_euc sarhu \u001ftaGsif(\n",
            "\u0004\u001c&y{>'on:xU*u,ic(qop*^/nk7u#o :Ikzu&\n",
            "\u0011*e\u0010ot&$H,xelk.?~<\n",
            "\u00190 !Eht/rc!| sen<\u001d+3#/n{6 no\n",
            " =Nk c 7q&$ *&bsnN7e$\n",
            "<>o`:~''=~* }c\u001bIJb~nk;qrnV;d\u0010yohi ~np dow?mC+ij(h({su\"N<9Yo cg=sjfo7ru:hTi3k\u0017\n",
            "_8`+iB<.Yr}r`\"d!gsihdsH\u001bay#iom&Et$Ts \n",
            "*'l\":tlnnie(s,7\\wehar`&n\u001e& Gd&#`:tb,>i ix+\u0016d+$~o{;<a0\u0011:=\u0007=<{pn=reCPmgeeRdzp a{<pen\u0015!sB'@(loux%b&j:d^n #'hx:\n",
            "MlK*i_saua2oh.7nkrncXi shn|x 6;OtCC?e f!7hT&jc ud^1_l$earo<Egv3R;too;rz~ %xiw~Ic~m\u0011\n",
            "\n",
            "keysize: 25\n",
            "key:'ie oeonn nno ninnntritoi '\n",
            "t'?\"n`lqo} S:\u0007\fq'rz<zudnnrd6*Sopoi\n",
            "N;=s*]= \u0011 ot(=<d mhac=|\u001cbpgit`!z8Ss3Di%t\"y~afn\n",
            "Xb=a/bhh<tuni0\u001dpqhisl1m7\u0015\u0011' &To:} t!+<}ty<m\u001ah79nn.}h \"_0s\f|higs&bc.}6 \u001c\u0013Zntok/(i = \u0011 &I&vnx*1ha$  E;f\u001a+sw&\"ngx2n&B\u0000\u0011p \"k1 nnh l0=oI0{$lilk=r:\u0017YI_7*nl;hi)= m0=aU~hq;f{&\u001bi_(Ns'\n",
            "Rr=6\u001do4d,lv:'y/S:=D<kegritoi,cm'*Af}zitgi i.^tDeo S(*5o ftdm=b\u0000+iriaf~!q5A6tDoitmuui*)o c=\u0000E&).4 Li&+b\u0011Q'H1m+g :;d#dopud^+\fYoh.z t!X90Nw+n@nw!`, l~'eUhpa:'e rx,_;u_<\f\u001d|9th5pg{nm\u0013e{$ugyd*>_4lEhc`;sr1ENhm6$U xea+ln 3 Ut:Dgo'j hho$  ny\u001aOU#e/a=u}%Ih(\u0016{l7.\"=uloao-=fZ.y$oe} j~ \u0019s\n",
            "!^nl\"#sm nSa$ncT+14;Ttvu='\u001dn \u0007Ybl.\"{oeDSibot\u0001&lonlt!d,YsbBEhtg-|h+:hd se\u001d-zf.!\u000eYth O;:Epl b+ej, s t'T~x\"`e5:ld E'7@y=\u0016A\"~se(e+&y|_y~#ws yru-Sn?Jmctg9t:l bu'YIO~rmot/s} 0C n\u0010~,/()tgmer/&Y\u0001ddi$qp(geo _0wErte% ti*plgdx'\u0000yt9rn,x&r!Ru)E ks(\n",
            "Ind  66:^S,?},\tau,<&\u00179+O=c~%ncsbijro1mS)d(ca{t\u000bO?\u00193!Ihss5>isd f*:loTe=mDoc1!t \u00165:T;n`w tydo\u0001\n",
            "s^\n",
            "X(rqe;zb7 ;ox*\u0012y~bls5gtco[u*L;h,(\"s#nnB=f`r\u001aLjje:\u0004P m,\u0016reLrcnn<t'} n&'seDxsciskts~!Qta@sh))C[jgthnosy\u0013d79nn.}i7:B: Kiho=h&1;o&s6-^rx#t!a} X\u0000^#nUin a*=)a$4eh<iCehkcnYTQ<>C;:S3 D\u0004\u0016 bp?ion=xTeteud/ltp1\u00172 lr;lc!:H$4i CNx[yhu~c5yr=UoE|te4nrn1:no =vTcsldn\u0002E'x7Rs=Brh!3<tv{'t: hd\u001d(rf,-$R&q \\!<\u0016<ge}:it+tei>t ~Ygcuk w`iiUne;p<f5uf,',ormRronj$:g<(W 3_oe'M\u0010~=*1s`w#n^*?f oay~ (B1i+;x&g0|n tig'+7Rsv=qagho Y>vH7ot)\n",
            "Ii*stcw=oO`u9gi%=f7!Yu#Ir~o}r:dj< \u0011<\"(\u001be<$a7.eiq+Yt\u0017B'+'.w*<~::mysuT$o&&\n",
            "nih\n",
            "_*1\u000bhn&y$S 1c`m/w*<\n",
            "V~n!Ehu4 x<z :ed:d\u0016*}#/i{7oo&\u0016':Sp xi*?!ane*cso\u0001yy\"CLmn!h<Os#Do*o\"dtn~!rc'Ti\u0011';gh anc&+Pt*Brrd(-o:nn\u000b\u001ch:hUfc?uj.~#t6\u001du$Cx'*f <<++e!tvb\\cx$C^k! `.X:a\f~g:}%&f1<+0<M\u001auc$kn\":`<7A=e^~'\n",
            "e+! !=qc'nx eeDe|gi\u000btw`e B<.\u0016<fug%y:a!ro*:G\u001b*`jnt$:cry\u001as)C<jtg ~!'&rc&qe\u001a\u0001\u001eb~!%uqrnW 6\u000bdih  thk+e!w?jC*&kat/|nn\"Uu$\u0017he-(1rjg ynssoTn2#\u0017\u0016Xlab E7aY7`ugkc&gusod=HOz~9iim=I=\"Xu!B~'lmt:lnnh~zh11\\>eunzyahn\u001e! F+'j|=s7>rit6,S*d(oztr}6X==\u0000<t{liis,\n",
            "pi!f x&H #d re\u00161Ckpd(;h7\n",
            "g3.U<=hh;t`y kx=lyScxm\n",
            "\n",
            "\n",
            "keysize: 32\n",
            "key:'si i  ititrnninn n enoniinnn ni '\n",
            "A[erok/('*s!\u0016'!I<j'b,x;aaio\u0000=|\u001dow'kn`62 7^\u0006\u000bv ll: ob'=k0:!\u0006ya$vulq&u X^IS<eo`=higs k0 a\u001by&% {fd=UnS1)\u000bri\u0001] :ky=t!%xxTomf\".j7;8O nFe'-fnrcz:t&`r+~Fbmjh2n*u:\f';\u0010hob)==b eyekveT,0m@haQg< \u0014v(\u0016\\r=)D\u0017Ufoo;d=-Ymnpb 5rg&tB:=\n",
            "7 mo-&O+>im%='T+\u0017Bnc/sgr7^osO=ni3ighg7 ` yj\u0019e~(sijs&\u0016\u0019^cnR=o'4=5:e: ;zi+Pn<GT!$}ehi^2(\fudf2 xhE -isncIg<poeai;v)RtCtbr\"inhx&nb  Ib!?flduv7*XU\u0007\n",
            "q ngnw1+&9r #d\u00156~9\n",
            "N{!|'Dv'\u0007d'rhid&&+x ?yK ; ,'ts :^2:\f;tnm%;\fM'd!Nsh\\+!`(i\"1&d,X<+^;sh& tle6 miy+Tb<t%|qt\fXSE/.S 5 #c:\u0011na+unx,Rey#0a/tkzn_{ Gosnp :udnDH=1x\u001bd}b'mvti~aOssDr%bgitrnnedf'+\u0004l}{'s`hnig^s\n",
            "T{>t&/k.|h$Z,>mns|edd9_5lE6cca!hr+DIhj:$I,7b/+kt&g<Rt=D}= >*o'h(i!ex1\u001a\u0006\u001b>c/ft;z?Tn3\fzly)gs:ln`od:f[`7#h+`=8~tVs^!O<m)%sm n\u001dkjodS,1.'\u001dnp<n'X'oB_xkz>{n,DT'b!e\u001dy<jo k!e \u0016neBB&;.7|r7:r'i*\u001a-vma \u0002_thn\u0001;<Emlnee1q1=hdns+\u001a=#.n{;lbiE 7\u000ey D[?1seai ha_y7#w<n7~u,Ss$Mwb=)91ijed;i\u0010SHe mhs/s)<yR!h^~ a)\";gjeo(i\u0010O-cs#qp/}chn\u0016;wOyte\"iti+plg*e Tb=mtsee1< ^t)\u000bn%x)EInc  ,d=C\u001c6v4 \t.y7;<E9+Isc7% hinwthj\u0016gbmf5=E\u00019M4<Uhsn)9=r-ea tjcUe=mDh,b&='X{'R;n}pntr* \n",
            "EZTZ\u0014,Mbii-vgr\u001aRi\u001b7p6.-cv'iI&$=&^ftm''g{s6n]s8Nran5!io~r\n",
            "Hnid\fb1ishaz&o!\u0016c!^ris&.3-~tkrpx+\\+k$i!$\u0010SsiA! G!'t3<mhxr7os}1Gex$`i3vod:X$iHn~i)i=B@( o%?m\u0000Eez'i{:r7\"\u00146 \n",
            "nen)m-<~= k~=<_$e-&\n",
            "\u0002Dnii\n",
            "1i\u0015da%kn=o6i||ti \u001aR\u001d\"ija!RiU5 Bhe\"xi=ue\n",
            "K$s&&!\u001d:>_o~t)*reorc,Ti_ ;gh 5rcr7Pt*\u0007rtu.7stni\n",
            "M\n",
            "r=,t&ih}yR+hlftaSo`/Dt>N}l,g\fr1:i7i<t~E,bzfd(ms= \u001fD~s df#hd'b<e%i\u0006<yvdc3{onEs \u00057si`:=ud )!\n",
            " hjfs(|trkOsmDh dgttp`tenr:oS 2m\u0006\n",
            "^vgbnB<aX;/h`kdh(<io~!HUay#&nm1Br#Ts!B0ilkt'l i&*au,*Gpby {<`&eP  @b'm|ssbe$o&t6e_~b9boz=r}y\u0016s1\u0000=tfwnsreDW#{ceI-3p=a`hjei[!sE1,A(\"tu\"eoku0Ci $'! \fV>W-iXt(tg#oi`0'lrn,Y rih'|1oy;Hn\u0011Cqe fn6hC!ld ue\u0016+\u0011lm+2r!;\n",
            "(?5R&ohh=:`0 %s'q~Ne#\n",
            "\n"
          ]
        }
      ]
    },
    {
      "cell_type": "code",
      "metadata": {
        "id": "2hcyM6z8tuGA",
        "outputId": "2c47854c-4b5d-4daa-dc93-06e6db4d9509",
        "colab": {
          "base_uri": "https://localhost:8080/"
        }
      },
      "source": [
        "shapedData = reshape(data, 5)\n",
        "print(shapedData)\n",
        "newBlock = [frame[0] for frame in shapedData]\n",
        "print([bytes([line]) for line in newBlock])\n",
        "print(str(flatten(newBlock)))"
      ],
      "execution_count": 12,
      "outputs": [
        {
          "output_type": "stream",
          "name": "stdout",
          "text": [
            "[b\"\\x0b67'*\", b'+.cb,', b'.ii*#', b'i:*<c', b'$ -b=', b'c4<*&', b'\"c$\\'\\'', b\"e'*(+\", b'/ C\\ne', b'.,e*1', b'$3:e>', b\"+ 'c\\x0c\", b'i+ (1', b'e(c&0', b\".'(/0\"]\n",
            "[b'\\x0b', b'+', b'.', b'i', b'$', b'c', b'\"', b'e', b'/', b'.', b'$', b'+', b'i', b'e', b'.']\n",
            "b'\\x0b+.i$c\"e/.$+ie.'\n"
          ]
        }
      ]
    },
    {
      "cell_type": "code",
      "metadata": {
        "id": "w6uFsyUa1hxt",
        "outputId": "ffc56097-e9b4-4dc3-d261-7107deec8f02",
        "colab": {
          "base_uri": "https://localhost:8080/",
          "height": 157
        }
      },
      "source": [
        "arr = ', '.join([f\"{chr(x)} {bin(x)}\" for x in range(128)])\n",
        "arr"
      ],
      "execution_count": 13,
      "outputs": [
        {
          "output_type": "execute_result",
          "data": {
            "application/vnd.google.colaboratory.intrinsic+json": {
              "type": "string"
            },
            "text/plain": [
              "'\\x00 0b0, \\x01 0b1, \\x02 0b10, \\x03 0b11, \\x04 0b100, \\x05 0b101, \\x06 0b110, \\x07 0b111, \\x08 0b1000, \\t 0b1001, \\n 0b1010, \\x0b 0b1011, \\x0c 0b1100, \\r 0b1101, \\x0e 0b1110, \\x0f 0b1111, \\x10 0b10000, \\x11 0b10001, \\x12 0b10010, \\x13 0b10011, \\x14 0b10100, \\x15 0b10101, \\x16 0b10110, \\x17 0b10111, \\x18 0b11000, \\x19 0b11001, \\x1a 0b11010, \\x1b 0b11011, \\x1c 0b11100, \\x1d 0b11101, \\x1e 0b11110, \\x1f 0b11111,   0b100000, ! 0b100001, \" 0b100010, # 0b100011, $ 0b100100, % 0b100101, & 0b100110, \\' 0b100111, ( 0b101000, ) 0b101001, * 0b101010, + 0b101011, , 0b101100, - 0b101101, . 0b101110, / 0b101111, 0 0b110000, 1 0b110001, 2 0b110010, 3 0b110011, 4 0b110100, 5 0b110101, 6 0b110110, 7 0b110111, 8 0b111000, 9 0b111001, : 0b111010, ; 0b111011, < 0b111100, = 0b111101, > 0b111110, ? 0b111111, @ 0b1000000, A 0b1000001, B 0b1000010, C 0b1000011, D 0b1000100, E 0b1000101, F 0b1000110, G 0b1000111, H 0b1001000, I 0b1001001, J 0b1001010, K 0b1001011, L 0b1001100, M 0b1001101, N 0b1001110, O 0b1001111, P 0b1010000, Q 0b1010001, R 0b1010010, S 0b1010011, T 0b1010100, U 0b1010101, V 0b1010110, W 0b1010111, X 0b1011000, Y 0b1011001, Z 0b1011010, [ 0b1011011, \\\\ 0b1011100, ] 0b1011101, ^ 0b1011110, _ 0b1011111, ` 0b1100000, a 0b1100001, b 0b1100010, c 0b1100011, d 0b1100100, e 0b1100101, f 0b1100110, g 0b1100111, h 0b1101000, i 0b1101001, j 0b1101010, k 0b1101011, l 0b1101100, m 0b1101101, n 0b1101110, o 0b1101111, p 0b1110000, q 0b1110001, r 0b1110010, s 0b1110011, t 0b1110100, u 0b1110101, v 0b1110110, w 0b1110111, x 0b1111000, y 0b1111001, z 0b1111010, { 0b1111011, | 0b1111100, } 0b1111101, ~ 0b1111110, \\x7f 0b1111111'"
            ]
          },
          "metadata": {},
          "execution_count": 13
        }
      ]
    },
    {
      "cell_type": "code",
      "metadata": {
        "id": "fh6xStOn8cSB",
        "outputId": "514ae1f6-e8cf-4ae0-ff5f-902c61b12659",
        "colab": {
          "base_uri": "https://localhost:8080/"
        }
      },
      "source": [
        "arr = [1,2,3]\n",
        "arr[1:]"
      ],
      "execution_count": 14,
      "outputs": [
        {
          "output_type": "execute_result",
          "data": {
            "text/plain": [
              "[2, 3]"
            ]
          },
          "metadata": {},
          "execution_count": 14
        }
      ]
    },
    {
      "cell_type": "code",
      "metadata": {
        "colab": {
          "base_uri": "https://localhost:8080/"
        },
        "id": "95MHXupJE4DI",
        "outputId": "cbc30ed1-94e1-4ab9-f56f-087be0733467"
      },
      "source": [
        "normHammingDistance(b'\\x0b',b'6')"
      ],
      "execution_count": 15,
      "outputs": [
        {
          "output_type": "execute_result",
          "data": {
            "text/plain": [
              "5.0"
            ]
          },
          "metadata": {},
          "execution_count": 15
        }
      ]
    },
    {
      "cell_type": "code",
      "metadata": {
        "id": "SECLcgoOq9it",
        "outputId": "79eda9a6-aebd-437e-e406-ad441cf833ab",
        "colab": {
          "base_uri": "https://localhost:8080/"
        }
      },
      "source": [
        "len(b\"this is a test\"[0:2])"
      ],
      "execution_count": 16,
      "outputs": [
        {
          "output_type": "execute_result",
          "data": {
            "text/plain": [
              "2"
            ]
          },
          "metadata": {},
          "execution_count": 16
        }
      ]
    },
    {
      "cell_type": "code",
      "metadata": {
        "id": "S_SPOSuau9jr",
        "outputId": "9a748f83-d3b6-47f1-91f3-70e04fe540b4",
        "colab": {
          "base_uri": "https://localhost:8080/"
        }
      },
      "source": [
        "guessKeySize(b\"abcdefghij\")"
      ],
      "execution_count": 17,
      "outputs": [
        {
          "output_type": "execute_result",
          "data": {
            "text/plain": [
              "[(1.8888888888888888, 1)]"
            ]
          },
          "metadata": {},
          "execution_count": 17
        }
      ]
    },
    {
      "cell_type": "code",
      "metadata": {
        "id": "gozup5ljPKvd"
      },
      "source": [
        ""
      ],
      "execution_count": 17,
      "outputs": []
    }
  ]
}